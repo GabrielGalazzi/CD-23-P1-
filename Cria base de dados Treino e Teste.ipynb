{
 "cells": [
  {
   "cell_type": "code",
   "execution_count": 1,
   "metadata": {},
   "outputs": [],
   "source": [
    "import pandas as pd\n",
    "import random"
   ]
  },
  {
   "cell_type": "code",
   "execution_count": 2,
   "metadata": {},
   "outputs": [],
   "source": [
    "# Transforma string em inteiro\n",
    "def nome_para_inteiro(nome):\n",
    "    nome = nome.upper()  # Converter para maiúsculas para tratar maiúsculas e minúsculas da mesma forma\n",
    "    valor_inteiro = 0\n",
    "    \n",
    "    for letra in nome:\n",
    "        # Verificar se a letra está no alfabeto (A a Z)\n",
    "        if 'A' <= letra <= 'Z':\n",
    "            valor_inteiro += ord(letra) - ord('A') + 1  # Valor de 'A' é 1, 'B' é 2, ..., 'Z' é 26\n",
    "    \n",
    "    return valor_inteiro"
   ]
  },
  {
   "cell_type": "code",
   "execution_count": 3,
   "metadata": {},
   "outputs": [],
   "source": [
    "# Ler o arquivo de dados\n",
    "dados = pd.read_excel('dados.xlsx')"
   ]
  },
  {
   "cell_type": "code",
   "execution_count": 4,
   "metadata": {},
   "outputs": [
    {
     "name": "stdout",
     "output_type": "stream",
     "text": [
      "Por favor, insira um número válido.\n",
      "Por favor, insira um número válido.\n",
      "Por favor, insira um número válido.\n",
      "Por favor, insira um número válido.\n",
      "Por favor, insira um número válido.\n",
      "Por favor, insira um número válido.\n",
      "Por favor, insira um número válido.\n"
     ]
    }
   ],
   "source": [
    "# Perguntar a quantidade de alunos no grupo (2 ou 3)\n",
    "while True:\n",
    "    try:\n",
    "        quantidade_alunos = int(input(\"Quantidade de alunos no grupo (2 ou 3): \"))\n",
    "        if quantidade_alunos in [2, 3]:\n",
    "            break\n",
    "        else:\n",
    "            print(\"Por favor, insira 2 ou 3.\")\n",
    "    except ValueError:\n",
    "        print(\"Por favor, insira um número válido.\")"
   ]
  },
  {
   "cell_type": "code",
   "execution_count": 5,
   "metadata": {},
   "outputs": [],
   "source": [
    "nome = input(\"Digite seu nome: \")\n",
    "valor_inteiro = nome_para_inteiro(nome)"
   ]
  },
  {
   "cell_type": "code",
   "execution_count": 6,
   "metadata": {},
   "outputs": [],
   "source": [
    "# Embaralhar as linhas do conjunto de dados\n",
    "dados_embaralhados = dados.sample(frac=1, random_state=valor_inteiro)"
   ]
  },
  {
   "cell_type": "code",
   "execution_count": 7,
   "metadata": {},
   "outputs": [
    {
     "data": {
      "text/html": [
       "<div>\n",
       "<style scoped>\n",
       "    .dataframe tbody tr th:only-of-type {\n",
       "        vertical-align: middle;\n",
       "    }\n",
       "\n",
       "    .dataframe tbody tr th {\n",
       "        vertical-align: top;\n",
       "    }\n",
       "\n",
       "    .dataframe thead th {\n",
       "        text-align: right;\n",
       "    }\n",
       "</style>\n",
       "<table border=\"1\" class=\"dataframe\">\n",
       "  <thead>\n",
       "    <tr style=\"text-align: right;\">\n",
       "      <th></th>\n",
       "      <th>Mensagem</th>\n",
       "    </tr>\n",
       "  </thead>\n",
       "  <tbody>\n",
       "    <tr>\n",
       "      <th>343</th>\n",
       "      <td>Rasgos</td>\n",
       "    </tr>\n",
       "    <tr>\n",
       "      <th>237</th>\n",
       "      <td>Eu não compro esse livro!</td>\n",
       "    </tr>\n",
       "    <tr>\n",
       "      <th>569</th>\n",
       "      <td>a formatação no Kindle é ridícula, problema an...</td>\n",
       "    </tr>\n",
       "    <tr>\n",
       "      <th>128</th>\n",
       "      <td>Extremamente superficial o livro é carregado d...</td>\n",
       "    </tr>\n",
       "    <tr>\n",
       "      <th>468</th>\n",
       "      <td>Ainda aguardando baixar o preço. Absolutamente...</td>\n",
       "    </tr>\n",
       "    <tr>\n",
       "      <th>...</th>\n",
       "      <td>...</td>\n",
       "    </tr>\n",
       "    <tr>\n",
       "      <th>688</th>\n",
       "      <td>Comprei o livro mas ele nao vai para a bibliot...</td>\n",
       "    </tr>\n",
       "    <tr>\n",
       "      <th>580</th>\n",
       "      <td>Estava louco para ler o livro e fiquei muito d...</td>\n",
       "    </tr>\n",
       "    <tr>\n",
       "      <th>745</th>\n",
       "      <td>A personagem é muito depressiva. Sempre que le...</td>\n",
       "    </tr>\n",
       "    <tr>\n",
       "      <th>132</th>\n",
       "      <td>Fiz a solicitação com embrulho para presente e...</td>\n",
       "    </tr>\n",
       "    <tr>\n",
       "      <th>539</th>\n",
       "      <td>A história pode ser boa, a leitura é muito can...</td>\n",
       "    </tr>\n",
       "  </tbody>\n",
       "</table>\n",
       "<p>300 rows × 1 columns</p>\n",
       "</div>"
      ],
      "text/plain": [
       "                                              Mensagem\n",
       "343                                             Rasgos\n",
       "237                          Eu não compro esse livro!\n",
       "569  a formatação no Kindle é ridícula, problema an...\n",
       "128  Extremamente superficial o livro é carregado d...\n",
       "468  Ainda aguardando baixar o preço. Absolutamente...\n",
       "..                                                 ...\n",
       "688  Comprei o livro mas ele nao vai para a bibliot...\n",
       "580  Estava louco para ler o livro e fiquei muito d...\n",
       "745  A personagem é muito depressiva. Sempre que le...\n",
       "132  Fiz a solicitação com embrulho para presente e...\n",
       "539  A história pode ser boa, a leitura é muito can...\n",
       "\n",
       "[300 rows x 1 columns]"
      ]
     },
     "execution_count": 7,
     "metadata": {},
     "output_type": "execute_result"
    }
   ],
   "source": [
    "# Separar os dados de treino e teste com base na quantidade de alunos\n",
    "if quantidade_alunos == 2:\n",
    "    dados_treino = dados_embaralhados.head(300)\n",
    "    dados_teste = dados_embaralhados.tail(200)\n",
    "else:\n",
    "    dados_treino = dados_embaralhados.head(500)\n",
    "    dados_teste = dados_embaralhados.tail(250)\n",
    "    \n",
    "dados_treino.columns = ['Mensagem']\n",
    "dados_teste.columns = ['Mensagem']\n",
    "dados_treino"
   ]
  },
  {
   "cell_type": "code",
   "execution_count": 8,
   "metadata": {},
   "outputs": [
    {
     "name": "stdout",
     "output_type": "stream",
     "text": [
      "Dados de treino e teste foram salvos em 'dados_treino.xlsx' e 'dados_teste.xlsx'.\n"
     ]
    }
   ],
   "source": [
    "# Salvar os dados de treino e teste em arquivos Excel\n",
    "dados_treino.to_excel('dados_treino.xlsx', index=False, engine='openpyxl')\n",
    "dados_teste.to_excel('dados_teste.xlsx', index=False, engine='openpyxl')\n",
    "\n",
    "print(\"Dados de treino e teste foram salvos em 'dados_treino.xlsx' e 'dados_teste.xlsx'.\")"
   ]
  },
  {
   "cell_type": "code",
   "execution_count": null,
   "metadata": {},
   "outputs": [],
   "source": []
  }
 ],
 "metadata": {
  "kernelspec": {
   "display_name": "Python 3",
   "language": "python",
   "name": "python3"
  },
  "language_info": {
   "codemirror_mode": {
    "name": "ipython",
    "version": 3
   },
   "file_extension": ".py",
   "mimetype": "text/x-python",
   "name": "python",
   "nbconvert_exporter": "python",
   "pygments_lexer": "ipython3",
   "version": "3.9.7"
  }
 },
 "nbformat": 4,
 "nbformat_minor": 2
}
