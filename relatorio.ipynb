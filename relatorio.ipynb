{
 "cells": [
  {
   "attachments": {},
   "cell_type": "markdown",
   "metadata": {},
   "source": [
    "# Projeto 1 - Ciência dos Dados"
   ]
  },
  {
   "attachments": {},
   "cell_type": "markdown",
   "metadata": {},
   "source": [
    "Nome: Gabriel Oliveira Galazzi\n",
    "Nome: Guilherme Lemos"
   ]
  },
  {
   "attachments": {},
   "cell_type": "markdown",
   "metadata": {},
   "source": [
    "Atenção: Serão permitidos grupos de três pessoas, mas com uma rubrica mais exigente. Grupos deste tamanho precisarão fazer um questionário de avaliação de trabalho em equipe"
   ]
  },
  {
   "attachments": {},
   "cell_type": "markdown",
   "metadata": {},
   "source": [
    "___\n",
    "Carregando algumas bibliotecas:"
   ]
  },
  {
   "cell_type": "code",
   "execution_count": 673,
   "metadata": {},
   "outputs": [],
   "source": [
    "import pandas as pd\n",
    "import numpy as np\n",
    "import os\n",
    "\n",
    "\n",
    "from nltk.corpus import stopwords\n",
    "from nltk.tokenize import word_tokenize\n"
   ]
  },
  {
   "cell_type": "code",
   "execution_count": null,
   "metadata": {},
   "outputs": [],
   "source": []
  },
  {
   "cell_type": "code",
   "execution_count": 674,
   "metadata": {
    "scrolled": false
   },
   "outputs": [
    {
     "name": "stdout",
     "output_type": "stream",
     "text": [
      "Esperamos trabalhar no diretório\n",
      "c:\\Users\\GALAZZI\\Downloads\\Cdados 3 semestre\\Projeto 1\\CD-23-P1-\n"
     ]
    }
   ],
   "source": [
    "print('Esperamos trabalhar no diretório')\n",
    "print(os.getcwd())"
   ]
  },
  {
   "attachments": {},
   "cell_type": "markdown",
   "metadata": {},
   "source": [
    "Carregando a base de dados com os tweets classificados manualmente:"
   ]
  },
  {
   "cell_type": "code",
   "execution_count": 675,
   "metadata": {},
   "outputs": [],
   "source": [
    "filename1 = 'dados_treino.xlsx'\n",
    "filename2 = 'dados_teste.xlsx'"
   ]
  },
  {
   "cell_type": "code",
   "execution_count": 676,
   "metadata": {},
   "outputs": [
    {
     "data": {
      "text/html": [
       "<div>\n",
       "<style scoped>\n",
       "    .dataframe tbody tr th:only-of-type {\n",
       "        vertical-align: middle;\n",
       "    }\n",
       "\n",
       "    .dataframe tbody tr th {\n",
       "        vertical-align: top;\n",
       "    }\n",
       "\n",
       "    .dataframe thead th {\n",
       "        text-align: right;\n",
       "    }\n",
       "</style>\n",
       "<table border=\"1\" class=\"dataframe\">\n",
       "  <thead>\n",
       "    <tr style=\"text-align: right;\">\n",
       "      <th></th>\n",
       "      <th>review</th>\n",
       "      <th>target</th>\n",
       "    </tr>\n",
       "  </thead>\n",
       "  <tbody>\n",
       "    <tr>\n",
       "      <th>0</th>\n",
       "      <td>Rasgos</td>\n",
       "      <td>0</td>\n",
       "    </tr>\n",
       "    <tr>\n",
       "      <th>1</th>\n",
       "      <td>Eu não compro esse livro!</td>\n",
       "      <td>0</td>\n",
       "    </tr>\n",
       "    <tr>\n",
       "      <th>2</th>\n",
       "      <td>a formatação no Kindle é ridícula, problema an...</td>\n",
       "      <td>0</td>\n",
       "    </tr>\n",
       "    <tr>\n",
       "      <th>3</th>\n",
       "      <td>Extremamente superficial o livro é carregado d...</td>\n",
       "      <td>1</td>\n",
       "    </tr>\n",
       "    <tr>\n",
       "      <th>4</th>\n",
       "      <td>Ainda aguardando baixar o preço. Absolutamente...</td>\n",
       "      <td>1</td>\n",
       "    </tr>\n",
       "  </tbody>\n",
       "</table>\n",
       "</div>"
      ],
      "text/plain": [
       "                                              review  target\n",
       "0                                             Rasgos       0\n",
       "1                          Eu não compro esse livro!       0\n",
       "2  a formatação no Kindle é ridícula, problema an...       0\n",
       "3  Extremamente superficial o livro é carregado d...       1\n",
       "4  Ainda aguardando baixar o preço. Absolutamente...       1"
      ]
     },
     "execution_count": 676,
     "metadata": {},
     "output_type": "execute_result"
    }
   ],
   "source": [
    "train = pd.read_excel(filename1)\n",
    "train.head(5)"
   ]
  },
  {
   "cell_type": "code",
   "execution_count": 677,
   "metadata": {},
   "outputs": [
    {
     "data": {
      "text/html": [
       "<div>\n",
       "<style scoped>\n",
       "    .dataframe tbody tr th:only-of-type {\n",
       "        vertical-align: middle;\n",
       "    }\n",
       "\n",
       "    .dataframe tbody tr th {\n",
       "        vertical-align: top;\n",
       "    }\n",
       "\n",
       "    .dataframe thead th {\n",
       "        text-align: right;\n",
       "    }\n",
       "</style>\n",
       "<table border=\"1\" class=\"dataframe\">\n",
       "  <thead>\n",
       "    <tr style=\"text-align: right;\">\n",
       "      <th></th>\n",
       "      <th>review</th>\n",
       "      <th>target</th>\n",
       "      <th>Unnamed: 2</th>\n",
       "    </tr>\n",
       "  </thead>\n",
       "  <tbody>\n",
       "    <tr>\n",
       "      <th>0</th>\n",
       "      <td>Não consigo ler .... Está muito confuso este s...</td>\n",
       "      <td>1</td>\n",
       "      <td>NaN</td>\n",
       "    </tr>\n",
       "    <tr>\n",
       "      <th>1</th>\n",
       "      <td>Eu quero saber pq se pagar por um leitor eletr...</td>\n",
       "      <td>0</td>\n",
       "      <td>NaN</td>\n",
       "    </tr>\n",
       "    <tr>\n",
       "      <th>2</th>\n",
       "      <td>Este livro pode ser interessante para as pesso...</td>\n",
       "      <td>1</td>\n",
       "      <td>NaN</td>\n",
       "    </tr>\n",
       "    <tr>\n",
       "      <th>3</th>\n",
       "      <td>Conteúdo superficial onde se propõe nas dicas ...</td>\n",
       "      <td>1</td>\n",
       "      <td>NaN</td>\n",
       "    </tr>\n",
       "    <tr>\n",
       "      <th>4</th>\n",
       "      <td>Péssima folha, muito fina a ponto de ver o que...</td>\n",
       "      <td>1</td>\n",
       "      <td>NaN</td>\n",
       "    </tr>\n",
       "  </tbody>\n",
       "</table>\n",
       "</div>"
      ],
      "text/plain": [
       "                                              review  target Unnamed: 2\n",
       "0  Não consigo ler .... Está muito confuso este s...       1        NaN\n",
       "1  Eu quero saber pq se pagar por um leitor eletr...       0        NaN\n",
       "2  Este livro pode ser interessante para as pesso...       1        NaN\n",
       "3  Conteúdo superficial onde se propõe nas dicas ...       1        NaN\n",
       "4  Péssima folha, muito fina a ponto de ver o que...       1        NaN"
      ]
     },
     "execution_count": 677,
     "metadata": {},
     "output_type": "execute_result"
    }
   ],
   "source": [
    "test = pd.read_excel(filename2)\n",
    "test.head(5)"
   ]
  },
  {
   "attachments": {},
   "cell_type": "markdown",
   "metadata": {},
   "source": [
    "___\n",
    "## Classificador automático\n"
   ]
  },
  {
   "attachments": {},
   "cell_type": "markdown",
   "metadata": {},
   "source": [
    "Faça aqui uma descrição do seu assunto e o que considerou como relevante ou não relevante na classificação dos tweets (Target).\n",
    "\n",
    "Relevantes: Reviews com algum tipo de critica construtiva os elogios justificados ao jogo.\n",
    "Irrelevantes: Posts de figuras ASCII ou post de flaming (xingar o joga para ventilar raiva.)"
   ]
  },
  {
   "attachments": {},
   "cell_type": "markdown",
   "metadata": {},
   "source": [
    "___\n",
    "### Montando um Classificador Naive-Bayes\n",
    "\n",
    "Considerando apenas as mensagens da planilha Treinamento, ensine  seu classificador."
   ]
  },
  {
   "cell_type": "code",
   "execution_count": 678,
   "metadata": {},
   "outputs": [],
   "source": [
    "# ler arquivo pandas, transformar em arquivo txt (ou so uma variavel de string gigante), usar o cleanup no arquivo para remover pontuações indesejadas, contar cada palavra para cada categoria (relevante/irrelevante),\n",
    "# voltar ao df, percorrer o df com classificador, cada review é spliada (.split()) as palavras são indentificadas, multiplica a probabilidade de cada plavra ser relevante para a probabilidade da frase ser relevante e\n",
    "# multiplica a probabilidade de cada palavra ser irrelevante para a probabilidade da frase ser irrelevante.\n",
    "\n",
    "df_raw = test\n"
   ]
  },
  {
   "cell_type": "code",
   "execution_count": 679,
   "metadata": {},
   "outputs": [
    {
     "name": "stdout",
     "output_type": "stream",
     "text": [
      "114\n",
      "86\n"
     ]
    }
   ],
   "source": [
    "\n",
    "df_relevante = df_raw.loc[df_raw['target'] == 1]\n",
    "\n",
    "df_irrelevante = df_raw.loc[df_raw['target'] == 0]\n",
    "\n",
    "\n",
    "reviews_relevantes = df_relevante['review']\n",
    "\n",
    "reviews_irrelevantes = df_irrelevante['review']\n",
    "\n",
    "lista_reviews_relevantes = reviews_relevantes.to_list()\n",
    "\n",
    "lista_reviews_irrelevantes = reviews_irrelevantes.to_list()\n",
    "\n",
    "print(len(lista_reviews_relevantes))\n",
    "\n",
    "\n",
    "print(len(lista_reviews_irrelevantes))"
   ]
  },
  {
   "cell_type": "code",
   "execution_count": 680,
   "metadata": {},
   "outputs": [],
   "source": [
    "string_reviews_relevantes_raw = ''\n",
    "\n",
    "for i in range(len(lista_reviews_relevantes)):\n",
    "\n",
    "    string_reviews_relevantes_raw += str(lista_reviews_relevantes[i]) + ' '\n",
    "\n",
    "# ser a def cleanup nao estiver funcionando pode ser q vc converteu tudo pra string\n",
    "string_reviews_irrelevantes_raw = ''\n",
    "\n",
    "for i in range(len(lista_reviews_irrelevantes)):\n",
    "\n",
    "    string_reviews_irrelevantes_raw += str(lista_reviews_irrelevantes[i]) + ' '\n",
    "\n"
   ]
  },
  {
   "cell_type": "code",
   "execution_count": 681,
   "metadata": {},
   "outputs": [],
   "source": [
    "import re \n",
    "\n",
    "\n",
    "\n",
    "def cleanup1(text):\n",
    "    \"\"\"\n",
    "        Função de limpeza muito simples que troca alguns sinais básicos por espaços\n",
    "    \"\"\"\n",
    "    #import string\n",
    "    punctuation = '[´\"!-/.:?;$''^\\_`()\\¨~%·¸=\\\\\\]' # Note que os sinais [] são delimitadores de um conjunto.\n",
    "    pattern = re.compile(punctuation)\n",
    "    text_subbed = re.sub(pattern, '', text)\n",
    "    return text_subbed\n",
    "\n",
    "string_reviews_relevantes_semilimpa = cleanup1(string_reviews_relevantes_raw)\n",
    "\n",
    "string_reviews_irrelevantes_semilimpa = cleanup1(string_reviews_irrelevantes_raw)\n",
    "\n"
   ]
  },
  {
   "cell_type": "code",
   "execution_count": 682,
   "metadata": {},
   "outputs": [],
   "source": [
    "def cleanup2(text):\n",
    "    \"\"\"\n",
    "        Função de limpeza muito simples que troca alguns sinais básicos por espaços\n",
    "    \"\"\"\n",
    "    #import string\n",
    "    punctuation = '[\\n\\t¯]' # Note que os sinais [] são delimitadores de um conjunto.\n",
    "    pattern = re.compile(punctuation)\n",
    "    text_subbed = re.sub(pattern, ' ', text)\n",
    "    return text_subbed\n",
    "\n",
    "\n",
    "string_reviews_relevantes_quaselimpa = cleanup2(string_reviews_relevantes_semilimpa)\n",
    "\n",
    "string_reviews_irrelevantes_quaselimpa = cleanup2(string_reviews_irrelevantes_semilimpa)\n",
    "\n",
    "lista_remover = ['ツ', '[ b]','[b]', '[ i]', '[i]', '[h1]', '[ h1]', '[*]', '[ list]','[list]', '[spoiler]', '[ spoiler]', '', '\\t', 'ツ', '_', '+', '[strike]', '[ strike]',  '\\\\', '[]', '[url=https]', '[ url]', '[', ']',]\n",
    "\n",
    "\n",
    "\n",
    "\n",
    "string_reviews_relevantes_limpa = ''\n",
    "\n",
    "for i in lista_remover:\n",
    "    if string_reviews_relevantes_limpa == '':\n",
    "        string_reviews_relevantes_limpa = string_reviews_relevantes_quaselimpa \n",
    "    string_reviews_relevantes_limpa = string_reviews_relevantes_limpa.replace(i,'')\n",
    "\n",
    "string_reviews_irrelevantes_limpa = ''\n",
    "\n",
    "for j in lista_remover:\n",
    "    if string_reviews_irrelevantes_limpa == '':\n",
    "        string_reviews_irrelevantes_limpa = string_reviews_irrelevantes_quaselimpa \n",
    "    string_reviews_irrelevantes_limpa = string_reviews_irrelevantes_limpa.replace(j,'')\n",
    "\n",
    "\n",
    "\n"
   ]
  },
  {
   "cell_type": "code",
   "execution_count": 683,
   "metadata": {},
   "outputs": [],
   "source": [
    "#remover stop words\n",
    "\n",
    "stop_words = set(stopwords.words('portuguese'))\n",
    "\n",
    "\n",
    "\n",
    "\n",
    "\n"
   ]
  },
  {
   "cell_type": "code",
   "execution_count": 684,
   "metadata": {},
   "outputs": [],
   "source": [
    "#tudo aquilo so que pra base de teste"
   ]
  },
  {
   "cell_type": "code",
   "execution_count": 685,
   "metadata": {},
   "outputs": [
    {
     "name": "stdout",
     "output_type": "stream",
     "text": [
      "['consigo', 'ler', 'confuso', 'site', 'consigo', 'contato', 'ninguém', 'ajuda', 'Complicado', 'Amazon', 'Espero', 'conseguir', 'ler', 'estorno', 'livro', 'pode', 'interessante', 'pessoas', 'interessem', 'realidade', 'ciência', 'livro', 'bem', 'referenciado', 'coisa', 'estranha', 'sendo', 'autor', 'dessa', 'fama', 'fim', 'arrependo', 'ter', 'comprado', 'Conteúdo', 'superficial', 'onde', 'propõe', 'dicas', 'básicas', 'indicar', 'caminho', 'receitas', 'Bom', 'iniciantes', 'nenhuma', 'rota', 'principal', 'Péssima', 'folha', 'fina', 'ponto', 'ver', 'trás', 'preço', 'comprador', 'entenderia', 'entanto', 'inadmissível', 'folhas', 'rasgadas', 'comidas', 'cortadas', 'impressão', 'texto', 'chega', 'fim', 'página', 'literalmente', 'fim', 'página', 'ponto', 'cortar', 'pedaços', 'letras', 'volta', 'diagramação', 'medíocre', 'pensamos', 'tudo', 'bem', 'aparece', 'palavras', 'comidas', 'novamente', 'contar', 'horrível', 'estado', 'caixa', 'livros', 'amassados', 'feridos', 'pode', 'ter', 'sido', 'devido', 'transporte', 'melhor', 'colocar', 'box', 'neste', 'preço', 'significar', 'trabalho', 'porco', 'editora', 'Leya', 'Comprei', 'livro', 'amiga', 'escolheu', 'comprei', 'errado', 'conta', 'lêlo', 'avia', 'baixado', 'Kindle', 'história', 'ruim', 'protagonista', 'deixa', 'vender', 'baixa', 'auto', 'estima', 'homem', 'arrogante', 'Heitor', 'história', 'absurda', 'dias', 'hoje', 'heroína', 'amor', 'próprio', 'submissa', 'pouco', 'inteligente', 'Tratase', 'livro', 'superficial', 'limitado', 'conjunto', 'simplista', '“', 'receitinhas', '”', 'pretensamente', 'rotuladas', '“', 'hábitos', '”', 'nada', 'original', 'nenhuma', 'fundamentação', 'científica', 'questão', 'Embora', 'assimilação', 'fácil', 'rápida', 'exige', 'reflexões', 'compensa', 'tempo', 'vai', 'despender', 'leitura', 'recomendo', 'Alfredo', 'Sant', '’', 'Anna', 'Junior', 'terminei', 'ler', 'poder', 'falar', 'tanto', 'livro', 'péssimo', 'propriedade', 'tempo', 'perdido', 'todos', 'sentidos', 'narrativa', 'vazia', 'falta', 'enredo', 'falta', 'detalhes', 'falta', 'tempo', 'narrativa', 'sequencia', 'temporal', 'cronologia', 'perdida', 'falta', 'história', 'partes', 'deveriam', 'sexo', 'falta', 'descrição', 'sinceramente', 'deveria', 'ter', 'sido', 'publicado', 'Comprei', 'livro', 'certa', 'leitura', 'incrível', 'devido', 'várias', 'boas', 'indicações', 'li', 'Entretanto', 'assim', 'livro', 'dá', 'medo', 'prende', 'exageradamente', 'descritivo', 'indo', 'além', 'cena', 'questão', 'pensamento', 'personagem', 'sobre', 'tia', 'vizinha', 'brincava', 'sei', 'onde', 'criança', 'relação', 'nenhuma', 'história', 'ação', 'si', 'além', 'chata', 'faz', 'sentido', 'nenhum', 'pode', 'compreendido', 'todas', 'metáforas', 'livro', 'traz', 'soubesse', 'tratava', 'dado', 'trabalho', 'dessas', 'mil', 'páginas', 'nome', 'livro', 'plot', 'twist', 'grandes', 'sacadas', 'terminamos', 'livro', 'percebemos', 'sabe', 'mínimo', 'idiota', 'jamais', 'leria', 'Olavo', 'Carvalho', 'livro', 'atinge', 'exatamente', 'público', 'correto', 'Kotler', 'pensaria', 'jogada', 'marketing', 'tão', 'genial', 'Apenas', 'pessoas', 'sabem', 'mínimo', 'serem', 'idiotas', 'compram', 'livro', 'terminei', 'ler', 'livro', 'percebi', 'achei', 'genial', 'GENIAL', 'cogita', 'ler', 'livro', 'compreo', 'agora', 'pois', 'livro', 'feito', 'gostei', 'acabou', 'expectativa', 'outros', 'livros', 'deixou', 'esperei', 'desfecho', 'história', 'dois', 'livro', 'começou', 'terminou', 'pé', 'cabeça', 'lido', 'algumas', 'avaliações', 'anteriores', 'vi', 'diversas', 'reclamações', 'condições', 'box', 'Antecipadamente', 'fiquei', 'tensa', 'infelizmente', 'premiada', 'box', 'veio', 'danificado', 'gente', 'compra', 'produto', 'esperase', 'receber', 'perfeito', 'estado', 'aí', 'acontece', 'jogasse', 'balde', 'água', 'fria', 'porque', 'presente', 'vou', 'dar', 'danificado', 'bem', 'indelicado', 'demais', 'produtos', 'livros', 'diversos', 'chegaram', 'condições', 'normais', 'defeitos', 'autor', 'confunde', 'tecnicas', 'coaching', 'religiao', 'pregando', 'influenciar', 'desesperados', 'ajuda', 'ponto', 'reproduziir', 'textos', 'religiosos', 'conhecidos', 'dizendo', 'q', 'q', 'escreveu', 'verdadeira', 'mentira', 'pena', 'pessoas', 'permitirem', 'lavagem', 'cerebral', 'Compreendo', 'atraso', 'enorme', 'quase', 'duas', 'semanas', 'causa', 'greve', 'caminhoneiros', 'justifica', 'tudo', 'livro', 'chegar', 'capa', 'amassada', 'duas', 'folhas', 'amassadas', 'Sinceramente', 'esperava', 'Apesar', 'ler', 'várias', 'avaliações', 'positivas', 'aqui', 'gostei', 'livro', 'infelizmente', 'após', 'pesquisar', 'sobre', 'vida', 'autoro', 'devia', 'ter', 'feito', 'antes', 'vi', 'passa', 'charlatão', 'chamou', 'atenção', 'nome', 'livro', 'achei', 'conteúdo', 'bom', 'sinceramente', 'gosto', 'ler', 'autores', 'passam', 'imagem', 'vivem', 'outra', 'coisa', 'arrependi', 'compra', 'irei', 'efetuar', 'troca', 'Quanto', 'Amazon', 'ótimos', 'Indico', 'Milagre', 'manhã', 'diário', 'pra', 'busca', 'novo', 'estilo', 'vida', 'Infelizmente', 'autora', 'parece', 'ter', 'cedido', 'exigências', 'cinematográficas', 'livro', 'claramente', 'história', 'intermediária', 'deixando', 'margem', 'pra', 'terceiro', 'livro', 'problema', 'livro', '50', 'enrolação', 'história', 'temática', 'completamente', 'desinteressante', 'oposto', 'primeiro', 'livro', 'Odiei', 'história', 'contava', 'atraves', 'trocas', 'emails', 'cartas', 'primeira', 'vez', 'achei', 'filme', 'legal', 'cara', 'completo', 'vaidoso', 'cheio', 'palavras', 'bonitas', 'sentido', 'nenhum', 'livro', 'cheio', 'teorias', 'suposições', 'Tirando', 'parte', 'puramente', 'historica', 'outros', 'livros', 'específicos', 'fazem', 'eficiência', 'realmente', 'impressiona', 'absolutamente', 'nada', 'recomendo', 'menos', 'pra', 'leitura', 'nenhum', 'propósito', 'Livro', 'bastante', 'repetitivo', 'onde', 'autor', 'promove', 'tempo', 'todo', 'acrescenta', 'acredito', 'possível', 'aprender', 'conteúdo', 'livro', 'através', 'site', 'autor', 'menos', '1', 'hora', 'evitando', 'desperdício', 'tempo', 'leitura', 'livro', 'vale', 'preçoNão', 'recebir', 'kit', 'livros', '50', 'tons', 'cinza', 'favor', 'queria', 'saber', 'ouve', 'queria', 'retorno', 'conteúdo', 'livro', 'si', 'bom', 'técnicas', 'assuntos', 'aborda', 'fato', 'importantes', 'Entretanto', 'livro', 'abordagem', 'auto', 'ajuda', 'generalizações', 'sentido', 'usando', 'abordagem', 'prescritiva', 'promete', '100', 'sucesso', 'todos', 'seguirem', 'dicas', 'mágicas', 'infalíveis', 'livro', 'simplificando', 'demasiadamente', 'assunto', 'livro', 'mal', 'escrito', 'confuso', 'algumas', 'partes', 'todo', 'momento', 'sabe', 'autor', 'falando', 'algo', 'academicamente', 'comprovado', 'existem', 'estudos', 'práticos', 'opiniãoexperiência', 'pessoal', 'ver', 'fé', 'sim', 'existem', 'várias', 'opiniões', 'religiosas', 'inseridas', 'junto', 'texto', 'Enfim', 'ruim', 'dou', 'nota', '1', 'porque', 'apesar', 'mal', 'escrito', 'livro', 'prescreve', 'fato', 'algo', 'funciona', 'bem', 'imensa', 'maioria', 'casos', 'brasileiro', 'médio', 'viveria', 'melhor', 'seguisse', 'dicas', 'livro', 'prolixo', 'redundante', 'doentio', 'suspeito', 'falar', 'terror', 'psicológico', 'pois', 'gosto', 'tema', 'King', 'faz', 'aqui', 'mínimo', 'desgosto', 'livro', 'horrível', 'quanto', 'próximo', 'final', 'esquisito', 'fica', 'Cenas', 'estupro', 'abuso', 'sexual', 'algumas', 'coisas', 'presentes', 'Odiei', 'livro', 'recomendaria', 'ninguém', 'deixe', 'ler', 'pode', 'goste', 'Muita', 'gente', 'comprou', 'box', 'reclamou', 'chegou', 'algum', 'defeito', 'Achei', 'viria', 'perfeito', 'estado', 'veio', 'bem', 'provável', 'promoção', 'somente', 'estragados', 'Nunca', 'compro', 'Amazon', 'anima', 'escrever', 'sobre', 'livro', 'simples', 'livro', 'presta', 'ruim', 'Dito', 'deve', 'saber', 'livro', 'sucesso', 'vendeu', 'milhões', 'virou', 'filme', 'presta', 'livro', 'seis', 'personagens', 'principais', 'dois', 'acessórios', 'trama', 'óbvia', 'livro', '‘', 'matou', '’', 'matou', 'Megan', 'resumo', 'enredo', 'casal', 'Megan', 'Scott', 'casal', 'Tom', 'Anna', 'mora', 'mesma', 'rua', 'primeiro', 'casal', 'existe', 'Rachel', 'exesposa', 'Tom', 'passa', 'trem', 'todos', 'dias', 'trás', 'casas', 'desse', 'pessoal', 'citado', 'ainda', 'psiquiatra', 'Megan', 'Kamal', 'Rachel', 'imagina', 'Megan', 'Scott', 'formam', 'casal', 'idílico', 'separação', 'Tom', 'ainda', 'dolorida', 'dois', 'anos', 'ter', 'acontecido', 'ô', 'mulher', 'besta', 'sofredora', 'Rachel', 'chata', 'alcoólatra', 'gorda', 'Megan', 'ninfomaníaca', 'trepa', 'Tom', 'Kamal', 'além', 'marido', 'claro', 'Megan', 'morta', 'matou', 'Ora', 'ora', 'Logo', 'primeiros', 'capítulos', 'anotei', 'caderno', 'anotações', 'nome', 'assassino', 'Além', 'péssimo', 'livro', 'completamente', 'clichê', 'personagens', 'todos', 'parecidos', '‘', 'falam', '’', 'mesma', 'forma', 'Dona', 'Paula', 'quis', 'ter', 'trabalho', 'diversificar', 'fala', 'personagens', 'exemplo', 'Anna', 'Rachel', 'dizem', 'coração', 'prestes', 'explodir', 'momentos', 'diferentes', 'trama', 'semelhança', 'personagens', 'Scott', 'violento', 'ciumento', 'Tom', 'violento', 'ciumento', 'mentiroso', 'Megan', 'frustrada', 'submissa', 'trabalha', 'Anna', 'frustrada', 'submissa', 'trabalha', 'cuida', 'bebê', 'Rachel', 'bêbada', 'frustrada', 'apanhava', 'exmarido', 'submissa', 'perdeu', 'emprego', 'causa', 'bebida', 'Perdi', 'tempo', 'lendo', 'quatrocentas', 'páginas', 'dessa', '‘', 'coisa', '’', 'menos', 'livro', '‘', 'grátis', '’', 'Kindle', 'Unlimited', 'escrita', 'Dona', 'Paula', 'tão', 'chã', 'terminei', 'livro', 'poucas', 'horas', 'livro', 'lindíssimo', 'perfeito', 'maravilhoso', 'fiquei', 'triste', 'entrega', 'jacket', 'veio', 'amassada', 'parte', 'superior', 'danos', 'têm', 'reparar', 'marca', 'linha', 'vertical', 'alguma', 'coisa', 'pesada', 'ficado', 'cima', 'livro', 'marcando', 'jacket', 'capa', 'dura', 'sei', 'problema', 'aconteceu', 'entrega', 'livro', 'assim', 'embalaram', 'Fato', 'plásticos', 'proteção', 'apenas', 'parte', 'superior', 'caixa', 'volta', 'livros', 'encomendei', 'outro', 'livro', 'veio', 'amassado', 'porém', 'liguei', 'pois', 'valioso', 'versão', 'ilustrada', 'Pedra', 'Filosofal', 'Sinceramente', 'sei', 'comparei', 'próxima', 'edição', 'ilustrada', 'Amazon', 'vezes', 'vale', 'pena', 'pagar', 'caro', 'porém', 'comprar', 'loja', 'física', 'atestando', 'condições', 'produto', 'Livro', 'cansativo', 'escrita', 'redundante', 'usa', 'muitos', 'exemplos', 'explora', 'muitos', 'detalhes', 'desnecessários', 'alem', 'páginas', 'apenas', 'referências', 'apendice', 'poderia', 'ter', '13', 'paginas', 'expressar', 'ideia', 'principal', 'assim', 'ainda', 'cansativo', 'trabalha', 'marketing', 'paciência', 'boa', 'leitura', 'nao', 'faz', 'parte', 'desse', 'publico', 'RECOMENDO', 'atendeu', 'expectativas', 'lista', 'livros', 'vendidos', 'avaliações', 'ótimas', 'resolvi', 'comprar', 'principio', 'autor', 'promete', 'livro', 'autoajuda', 'diferente', 'demais', 'algo', 'concordei', 'fato', 'interessante', 'alguns', 'pontos', 'aborda', 'faz', 'pensar', 'problema', 'deve', 'realmente', 'problema', 'entretanto', 'decorrer', 'livro', 'sinto', 'leitura', 'repetitiva', 'cansativa', 'fez', 'parar', 'leitura', 'pouco', 'metade', 'livro', 'Bem', 'fraco', 'autor', 'bem', 'enviesado', 'traz', 'nada', 'novo', 'relevante', 'recomendo', 'pra', 'ninguém', 'Abs', 'muita', 'tristeza', 'venho', 'redigir', 'resenha', 'infelizmente', 'Amazon', 'pecou', 'venda', 'desse', 'box', 'fotografia', 'box', 'aparece', 'livros', 'pretos', 'acabamento', 'dourados', 'recebi', 'livros', 'preto', 'péssimo', 'acabamento', 'prata', 'livro', 'veio', 'defeito', 'fábrica', 'cola', 'grudada', '2', 'livros', 'capa', 'descascando', '1', 'especificada', 'momento', 'algum', 'compra', 'folhas', 'brancas', 'orelha', 'compra', 'justifica', 'máxima', 'popular', 'barato', 'sai', 'caro', 'decepção', 'logo', 'começou', 'sitar', 'kal', 'Maxi', 'perdi', 'vontade', 'continuar', 'leitura', 'marxismo', 'responsável', 'maiores', 'tragédias', 'humanitárias', 'desde', 'seculo', 'XIX', 'resumo', 'quero', 'Menos', 'Max', 'Misse', 'gostei', 'porquê', 'capa', 'veio', 'rasgo', 'edição', 'colecionador', 'péssimo', 'Espero', 'próximas', 'vezes', 'comprar', 'venham', 'novamente', 'defeitos', 'algo', 'tipo', 'Bom', 'Livro', 'baseado', 'tema', 'parece', 'resumo', 'valor', 'proporcional', 'conteúdo', 'pior', 'ter', 'completar', 'caracteres', 'nesta', 'avaliação', 'pedido', 'veio', 'rápido', 'livros', 'maravilhosos', 'porém', 'box', 'veio', 'péssimas', 'condições', 'Parece', 'caiu', 'água', 'nele', 'estufou', 'todo', 'material', 'mostram', 'imagens', 'pontas', 'destruídas', 'certeza', 'caiu', 'chão', 'algum', 'momento', 'frustrada', 'primeira', 'aquisição', 'Amazon', 'poucas', 'palavras', 'gostei', 'nada', 'costuma', 'acontecer', 'certos', 'best', 'sellers', 'autor', 'parte', 'premissa', 'disposto', 'avaliar', 'outras', 'opiniões', 'Tira', 'conclusões', 'qualquer', 'embasamento', 'todas', 'verdade', 'dita', 'entendi', 'porque', 'tanta', 'aclamação', 'feita', 'obra', 'Apresentase', 'livro', 'autoajuda', 'começar', 'ler', 'vai', 'ver', 'trata', 'livro', 'sobre', 'história', 'hábito', 'Assemelhase', 'livro', 'didático', 'faculdade', 'Penso', 'objetivo', 'trazer', 'técnica', 'incorporar', 'determinado', 'hábito', 'vida', 'livro', 'poderia', 'reduzido', '75', 'entusiasta', 'queria', 'saber', 'primórdios', 'assunto', 'recomendo', 'Chegou', 'canto', 'amassado', 'textos', 'soltos', 'trechos', 'bem', 'reflexivos', 'sobre', 'natureza', 'feminina', 'sentimentos', 'relacionamentos', 'esperava', 'poesia', 'profundidade', 'enrolação', 'começa', 'partir', 'deste', 'segundo', 'livros', 'Crônicas', 'Gelo', 'Fogo', 'partir', 'deste', 'livro', 'peguei', 'pulando', 'capítulos', 'inteiros', 'Cat', 'Jon', 'Snow', 'porque', 'todos', 'iguais', 'enredo', 'ia', 'frente', 'Veja', 'pulando', 'capítulos', 'inteiros', 'cheguei', 'final', 'livro', 'entendendo', 'tudo', 'autor', 'queria', 'passar', 'outras', 'palavras', 'barulho', 'nada', 'Oh', 'Amazon', 'favor', 'atualiza', 'edição', 'condição', 'ler', 'faltam', 'frases', 'personagens', 'diálogos', 'pedaço', 'livro', 'pra', 'entender', 'acontecendo', 'Dei', 'estrela', 'havia', 'opção', 'dar', 'nenhuma', 'livro', 'simplesmente', 'incompreensível', 'leigo', 'tampouco', 'serve', 'literatura', 'científica', 'especialistas', 'Hawking', 'internacionalmente', 'conhecido', 'muitíssimo', 'inteligente', 'acho', 'muita', 'gente', 'acanha', 'confessar', 'entendeu', 'maior', 'parte', 'teorias', 'expõe', 'muitas', 'nenhuma', 'comprovação', 'Neste', 'livro', 'autora', 'escreve', 'série', 'versos', 'têm', 'lirismo', 'pode', 'chamar', 'poesia', 'livro', 'parece', 'necessidade', 'fazer', '“', 'literatura', '”', 'similar', 'outras', 'autoras', 'publicaram', 'livros', 'similares', 'questão', 'mercantil', 'autoras', 'feministas', 'melhores', 'versos', 'deste', 'livro', 'medíocre', 'livro', 'lido', 'lendo', 'revista', 'adolescente', 'nada', 'autor', 'carece', 'memória', 'manter', 'argumentos', 'dentro', 'mesma', 'página', 'Perdese', 'constantemente', 'torna', 'leitura', 'chata', 'irritante', 'exemplo', 'simples', 'sendo', 'acabei', 'ler', 'parte', 'Santos', 'Dumont', 'página', '249', 'argumentar', 'falta', 'documentos', 'parte', 'irmãos', 'Wright', 'diz', 'evitavam', 'demonstrações', 'pois', 'artistas', 'circo', 'porém', '2', 'parágrafos', 'comprovar', 'realmente', 'voaram', 'irmãos', 'Wright', 'fizeram', 'demonstração', 'sessenta', 'pessoas', 'Pô', 'Escolhe', 'argumento', 'autor', 'consegue', 'ver', 'ambos', 'inventaram', 'avião', 'tanto', 'irmãos', 'Wright', 'quanto', 'Santos', 'Dumont', 'cada', 'maneira', 'copiar', 'outro', 'Fica', 'difícil', 'manter', 'interesse', 'livro', 'souber', 'somar', 'dois', 'dois', 'Livros', 'caixa', 'vieram', 'danificados', 'Parte', 'externa', 'livros', 'dobras', 'vieram', 'cola', 'Caixa', 'amassada', 'rasgada', 'Ainda', 'vou', 'ter', 'trabalho', 'ir', 'correio', 'pagar', 'devolver', 'produto', 'Dizem', 'reembolsam', 'frete', 'Veremos', 'Seguem', 'fotos', 'livro', 'repetitivo', 'começo', 'torna', 'restante', 'leitura', 'pouco', 'cansativa', 'boas', 'dicas', 'aplicações', 'método', '8020', 'volume', '5', 'erro', 'impressão', 'paginas', 'duplicada', 'outras', 'faltando', 'atende', 'proposta', 'forma', 'refencial', 'técnica', 'Aparenta', 'conjunto', 'dicas', 'menções', 'comuns', 'grandes', 'nomes', 'sucesso', 'mmarketing', 'fracasso', 'literário', 'Acompanho', 'canal', 'Poupe', 'bom', 'tempo', 'antes', 'ter', '300K', 'inscritos', 'Dito', 'ler', 'livro', 'deparei', 'roteiro', 'boa', 'parte', 'vídeos', 'canal', 'contando', 'mesmas', 'histórias', 'falando', 'mesmas', 'coisas', 'inúteis', 'inovação', 'inédito', 'esperava', 'Além', 'disso', 'chateou', 'fato', 'boa', 'parte', 'livro', 'espécie', 'propaganda', 'pessoal', 'autora', 'problema', 'porque', 'fato', 'muitos', 'méritos', 'ver', 'tantas', 'entrevistas', 'assistir', 'vídeos', 'ler', 'livro', 'percebemos', 'bem', 'assim', 'vide', 'história', 'ter', 'comprado', 'apto', 'vista', 'comprou', '30', 'sozinha', 'inteiro', 'narrativas', 'induzem', 'Pode', 'parecer', 'bobagem', 'senti', 'pouco', 'enganada', 'certo', 'modo', 'faz', 'autora', 'perca', 'pouco', 'admiração', 'boa', 'leitura', 'algumas', 'dicas', 'úteis', 'Atendimento', 'péssimo', 'pois', 'pedido', 'cancelado', 'ninguém', 'entrou', 'contato', 'comigo', 'reembolso', 'valor', 'Falta', 'responsabilidade', 'livro', 'assim', 'coleção', 'erros', 'grotescos', 'anacronismo', 'deste', 'livro', 'chega', 'absurdo', 'algumas', 'partes', 'desculpem', 'nunca', 'leu', 'fato', 'livros', 'sérios', 'historia', 'cai', 'erros', 'livro', 'Peço', 'leitores', 'nãos', 'enganem', 'bom', 'humor', 'livro', 'leiam', 'livros', 'sérios', 'historia', 'historiadores', 'renomados', 'informações', 'ricas', 'sobre', 'história', 'Gostei', 'livro', 'Prende', 'atenção', 'desde', 'início', 'final', 'Trabalho', 'pesquisa', 'fantástico', 'Recomendo', 'avalio', '5', 'cinco', 'estrelas', 'Parabéns', 'livros', 'vieram', 'capa', 'rasgada', 'box', 'bonito', 'qualidade', 'material', 'livros', 'bem', 'baixa', 'Folhas', 'finas', 'fica', 'sombra', 'letras', 'página', 'trás', 'atrapalha', 'leituraCapa', 'fina', 'liga', 'pra', 'qualidade', 'recomendo', 'liga', 'pro', 'preço', 'vale', 'pena', 'Começou', 'boa', 'istoria', 'meio', 'pouco', 'enrolado', 'embromou', 'romance', 'dando', 'saber', 'violão', 'irmão', 'novo', 'diferente', 'mundo', 'novo', 'deve', 'expandindo', 'Espero', 'próximo', 'melhor', 'Apesar', 'narrativa', 'prender', 'leitor', 'argumentos', 'falhos', 'tendenciosos', 'ler', 'atento', 'deixar', 'levar', 'propaganda', 'Livro', 'coloca', 'humano', 'perfeito', 'idiota', 'autor', 'suprassumo', 'inteligenciauma', 'vez', 'narra', 'história', 'humanidade', 'história', 'bando', 'animais', 'sucessivamente', 'fizeram', 'escolhas', 'erradas', 'ermo', 'proposito', 'nenhum', 'lado', 'evolução', 'animais', 'essencialmente', 'biologica', 'Harari', 'deixa', 'considerar', 'humana', 'essencialmente', 'histórica', 'livro', 'coletânea', 'obviedades', 'Cortella', 'consegue', 'aprofundar', 'temas', 'propõe', 'cada', 'capítulo', 'deixando', 'leitor', 'esperando', 'alguma', 'conclusão', 'nunca', 'chega', 'algum', 'insight', 'faça', 'livro', 'valer', 'pena', 'livro', 'mal', 'escrito', 'parágrafos', 'curtos', 'uso', 'abusivo', 'ponto', 'final', 'tornam', 'leitura', 'travada', 'dificultam', 'estabelecer', 'coesão', 'frases', 'Ganhei', 'presente', 'recomendo', 'Tudo', 'poderia', 'falar', 'boa', 'análise', 'Guerra', 'Paraguai', 'surgimento', 'samba', 'suplantado', 'discurso', 'superficial', 'rasteiro', 'metade', 'livro', 'diante', 'parece', 'manifesto', 'anticomunista', 'defesa', 'incondicional', 'Golpe', '1964', 'algo', 'desmedido', 'ver', 'perdeu', 'toda', 'relevância', 'pesquisa', 'virou', 'pura', 'retórica', 'Infelizmente', 'box', 'veio', 'perfeitas', 'condições', 'Veio', 'cheio', 'cola', 'lombadas', 'algumas', 'capas', 'solicitei', 'devolução', 'produto', 'box', 'tava', 'preço', 'super', 'barato', 'qualidade', 'bem', 'inferior', 'tamanho', 'bíblia', 'pequena', 'folhas', 'transparentes', 'pra', 'ver', 'texto', 'outro', 'lado', 'Quanto', 'prazo', 'entrega', 'Amazon', 'excelente', 'Chegou', 'super', 'rápido', 'casa', 'pena', 'veio', 'perfeito', 'estado', 'poemas', 'épicos', 'Homero', 'representam', 'grande', 'desafio', 'qualquer', 'tradutor', 'contempla', 'geralmente', 'três', 'possibilidades', 'manter', 'tentar', 'manter', 'métrica', 'poema', 'necessário', 'sacrificar', 'compreensão', 'manter', 'forma', 'geral', 'poema', 'basicamente', 'estrutura', 'versos', 'estrofes', 'traduzindo', 'entanto', 'vistas', 'tornar', 'linguagem', 'direta', 'fácil', 'compreensão', 'possível', 'leitor', 'contemporâneo', 'último', 'abandonar', 'completemente', 'forma', 'poética', 'transformar', 'Ilíada', 'Odisseia', 'narrativas', 'prosa', 'todas', 'primeira', 'opção', 'pior', 'produz', 'resultados', 'artificiais', 'menos', 'satisfatórios', 'leitor', 'comum', 'alternativa', 'escolhida', 'Carlos', 'Alberto', 'Nunes', 'faz', 'leitura', 'dessa', 'edição', 'tarefa', 'chata', 'cansativa', 'Justamente', 'oposto', 'espera', 'dessas', 'obras', 'Olá', 'Abaixo', 'cópia', 'mensagem', 'enviada', 'Editora', 'LampPM', 'responsável', 'lançamento', 'SAPIENS', 'Brasil', 'referese', 'exclusivamente', 'versão', 'Kindle', 'lendo', 'adorando', 'SAPIENS', 'Yuval', 'Noah', 'Harari', 'entanto', 'utilizando', 'Kindle', 'fazêlo', 'sendo', 'obrigado', 'enfrentar', 'problema', 'enorme', 'divisão', 'silábica', 'aleatória', 'primeira', 'vez', 'livro', 'português', 'deparei', 'aparente', 'defeito', 'conversão', 'livro', 'formato', 'Amazon', 'Falo', 'porque', 'primeiro', 'título', 'português', 'leio', 'nesse', 'formato', 'posso', 'atestar', 'nunca', 'aconteceu', 'antes', 'Fico', 'então', 'obrigado', 'conviver', 'bizarrices', 'tipo', 'mulheres', 'cerimônias', 'sacrifício', 'particular', 'moderno', 'desconhecidos', 'Detalhe', 'alterando', 'tamanho', 'fonte', 'resolve', 'problema', 'apenas', 'desloca', 'outros', 'pontos', 'texto', 'inglês', 'surpresa', 'pois', 'regra', 'quanto', 'posso', 'notar', 'porém', 'tanto', 'inglês', 'quanto', 'português', 'livros', 'li', 'agora', 'Kindle', 'evitavam', 'máximo', 'separação', 'silábica', 'através', 'simples', 'edição', 'página', 'acordo', 'tamanho', 'fonte', 'utilizado', 'momento', 'separação', 'dá', 'apenas', 'eventualmente', 'Infelizmente', 'ocorre', 'agora', 'SAPIENS', 'divisão', 'constante', 'inúmeros', 'irritantes', 'casos', 'completamente', 'errada', 'realidade', 'prazer', 'leitura', 'vai', 'sendo', 'minado', 'desprazer', 'dessa', 'lamentável', 'falha', 'chegando', 'quase', 'comprometêlo', 'completo', 'Pergunta', 'havido', 'algum', 'problema', 'conversão', 'desse', 'específico', 'livro', 'versão', 'Kindle', 'Estaria', 'ocorrendo', 'algum', 'conflito', 'versões', 'recentemente', 'update', 'Kindle', 'Alguém', 'trouxe', 'problema', 'Informo', 'encaminhando', 'mesma', 'mensagem', 'Amazon', 'caso', 'origem', 'defeito', 'aqui', 'relatado', 'competência', 'daquela', 'empresa', 'parabéns', 'editar', 'Brasil', 'livro', 'tão', 'especial', 'Atenciosamente', 'subscrevome', 'esperança', 'ter', 'alguma', 'solução', 'lamentável', 'contratempo', 'Nelson', 'Meirelles', 'nada', 'indicando', 'português', 'Portugal', 'terceiro', 'ebook', 'comprei', 'acontece', 'Horrível', 'Confesso', 'quase', 'desisti', 'ler', 'biografia', 'Rita', 'Lee', 'Cheguei', 'uns', '35', 'cansei', 'iniciou', 'super', 'bem', 'divertido', 'passou', 'arrastado', 'citar', 'detalhes', 'panorama', 'musical', 'começou', 'anterior', 'conhecimento', 'musical', '1947', 'deixava', 'perdida', 'explanações', 'Segui', 'pulando', 'partes', 'descritivas', 'shows', 'dúvidas', 'Rita', 'Lee', 'vida', 'tumultuada', 'cheia', 'eventos', 'incomuns', 'livro', 'relato', 'bem', 'humorado', 'tudo', 'viveu', 'entanto', 'leitura', 'fãs', 'carteirinha', 'ritmo', 'busca', 'livro', 'gostoso', 'daqueles', 'livros', 'leitura', 'rápida', 'Achei', 'bacana', 'pensamentos', 'personagem', 'história', 'si', 'esquece', 'Dá', 'pra', 'passar', 'tempo', 'queiram', 'nada', 'profundo', 'Fiquei', 'surpresa', 'livro', 'vai', 'nada', 'lugar', 'nenhum', 'dá', 'pra', 'ler', 'Dá', 'distrai', 'bem', 'leria', 'novo', 'Comprei', 'tão', 'esperados', 'livros', 'Box', 'veio', 'rasgado', 'compra', 'realizada', 'NOVEMBRO', 'hoje', 'feita', 'troca', 'produto', 'livros', 'veio', 'todo', 'amassado', 'oportunidade', 'ler', 'trechos', 'edição', 'impressa', 'obrigada', 'concordar', 'dizem', 'internet', 'Reza', 'lenda', 'cada', 'vez', 'alguém', 'lê', 'guia', 'historiador', 'cai', 'penhasco', 'texto', 'literalmente', 'incorreto', 'Cita', 'autores', 'José', 'Murilo', 'Carvalho', 'forma', 'desonesta', 'esclarecer', 'autor', 'enfatizava', 'Direitos', 'Brasil', 'fruto', 'conquistas', 'sim', 'conceções', 'elites', 'dominantes', 'tentativa', 'ambiciosa', 'infrutífera', 'negar', 'exploração', 'povos', 'Sul', 'Norte', 'apropriar', 'distorcer', 'narrativa', 'histórica', 'prol', 'ideais', 'neoliberais', 'livro', 'desnuda', 'alguns', 'mitos', 'envolvem', 'história', 'Brasil', 'Deve', 'lido', 'cautelas', 'divertido', 'instigante', 'apresentaçãoÉ', 'folga', 'pior', 'livro', 'li', 'kindle', 'Capítulos', 'atravessados', 'descontinuidade', 'porcaria', 'puder', 'fuja', 'versão', 'digital', 'compre', 'livro', 'físico', 'Espero', 'amazon', 'pouco', 'respeito', 'leitores', 'corrija', 'apresentação', 'versão', 'digital', 'agora', 'possível', 'atualizar', 'obras', 'pena', 'primeira', 'experiência', 'compras', 'Amazon', 'péssima', 'Comprei', 'item', 'presentear', 'atentei', 'data', 'limite', 'chegada', 'conseguisse', 'entregálo', 'data', 'correta', 'livros', 'chegaram', 'data', 'pior', 'transportadora', 'atualizou', 'status', 'entregue', 'dois', 'dias', 'antes', 'data', 'limite', 'provavelmente', 'perder', 'pontuação', 'entendo', 'época', 'fluxo', 'entregas', 'aumentam', 'considero', 'falta', 'respeito', 'consumidor', 'omitir', 'real', 'status', 'entrega', 'produto', 'Infelizmente', 'todos', 'comentários', 'positivos', 'ouvi', 'Amazon', 'mim', 'concretizaram', 'provavelmente', 'voltarei', 'comprar', 'Produto', 'chegou', 'Danificado', 'rasgos', 'amaçados', 'caixa', 'q', 'envolve', 'coleção', 'livros', 'capas', 'riscadas', 'bem', 'decepcionado', 'pois', 'presente', 'pra', 'namorada', 'produto', 'chegou', 'mãos', 'veio', 'problemas', 'impressão', 'algumas', 'paginas', 'boradas', 'impossibilitando', 'leitura', 'Aversão', 'ler', 'Kindle', 'cara', 'investi', 'nesse', 'aparelho', 'achando', 'livros', 'digitais', 'sairiam', 'conta', 'brasileiro', 'lê', 'pouco', 'consegue', 'usar', 'parte', 'dinheiro', 'ganha', 'intuito', 'adquirir', 'pouco', 'conhecimento', 'acaba', 'tendo', 'tipo', 'decepção', 'respondamme', 'justifica', 'preço', 'Tá', 'saindo', 'caro', 'papel', 'pixels', 'tela', 'ATUALIZAÇÃO', 'Ontem', 'dia', '26', 'setembro', 'preço', 'desse', 'livro', 'quase', 'R', '3700', 'Hoje', 'dia', '27', 'comentário', 'acima', 'R', '347', 'preço', 'versão', 'impressa', 'Continua', 'injustificado', 'valor', 'Espero', 'resposta', 'porque', 'sério', 'cabe', 'denuncia', 'Obrigado', 'Questão', 'gosto', 'escrita', 'Parece', 'agrada', 'alguns', 'caso', 'tentei', 'ler', 'outros', 'dado', 'autora', 'leitura', 'passa', 'superficial', 'concordo', 'algumas', 'avaliações', 'sobre', 'palavrões', 'principalmente', 'protagonista', 'repetido', 'vários', 'engraçado', 'menos', 'agrega', 'algo', 'Então', 'fica', 'difícil', 'entender', 'intenção', 'além', 'repetitivo', 'cansativo', 'Novamente', 'parece', 'jogaram', 'ingredientes', 'romance', 'pronto', 'enredo', 'contextualização', 'caracterização', 'personagens', 'exemplo', 'vez', 'cena', 'parto', 'protagonista', 'fica', 'estúpida', 'qualquer', 'filtro', 'hora', 'dores', 'parto', 'passável', 'repetindo', 'várias', 'histórias', 'fato', 'doa', 'protagonista', 'consideradao', 'eleitao', 'então', 'coloca', 'direito', 'dirigir', 'amor', 'vida', 'esteesta', 'aceitar', 'todas', 'formas', 'palavras', 'desrespeitosas', 'certeza', 'romance', 'ideal', 'totalmente', 'realidade', 'Ninguém', 'aguenta', 'tratado', 'desta', 'forma', 'tempo', 'puder', 'escolher', 'Bom', 'digo', 'pior', 'história', 'mundo', 'longe', 'mim', 'fazer', 'tal', 'julgamento', 'gostei', 'personagens', 'história', 'começo', 'prendi', 'livro', 'devorandoo', 'leitura', 'cansativa', 'chata', 'cenas', 'finais', 'mal', 'elaboradas', 'levados', 'clímax', 'graça', 'tuuuudo', 'livro', 'incrível', 'Pensem', 'situação', 'bofe', 'chama', 'pra', 'sair', 'vão', 'lago', 'chegando', 'lá', 'descobrem', 'casa', 'abaixo', 'casa', 'toda', 'mobilizada', 'nada', 'nela', 'flutua', 'fixada', 'fundo', 'desse', 'lago', 'baita', 'aventura', 'certo', 'casal', 'sorry', 'esqueci', 'nome', 'ficam', 'vidrados', 'nessa', 'casa', 'passam', 'dias', 'dias', 'rio', 'explorando', 'lugar', 'Vendo', 'roupas', 'móveis', 'piscina', 'sim', 'piscina', 'dentro', 'rio', 'começa', 'suspense', 'confesso', 'dá', 'arrepiada', 'onde', 'sol', 'bate', 'passa', 'disso', 'apesar', 'livro', 'curto', 'chega', 'momento', 'rola', 'nada', 'incrível', 'parece', 'vai', 'pra', 'frente', 'Fica', 'lengalenga', 'chato', 'novamente', 'Apesar', 'pesares', 'ficamos', 'curiosos', 'fim', 'história', 'queria', 'saber', 'daquela', 'casa', 'iam', 'morar', 'lá', 'iam', 'morrer', 'naquela', 'casa', 'alguma', 'bagaça', 'ia', 'ter', 'acontecer', 'Maaaaas', 'final', 'fiquei', 'puta', 'cara', 'paisagem', 'pensei', 'final', 'merda', 'Enfim', 'tudo', 'pra', 'bom', 'tudo', 'merda', 'Nota', '155', 'Poxa', 'comprei', 'livro', 'janeiro', 'agora', 'nao', 'desponibilizando', 'pra', 'mim', 'Agora', 'vou', 'ter', 'comprar', 'novo', 'sacanagem', 'né', 'gente😣', 'Ola', 'final', 'leitura', 'qdo', 'vi', 'cerca', '20', 'paginas', 'ordem', '170', '190', 'podemos', 'resolver', 'problema', 'li', 'sobre', 'avaliações', 'outros', 'clientes', 'achei', 'iria', 'encontrar', 'realmente', 'livro', 'diferente', 'conteúdo', 'completo', 'totalmente', 'contrário', 'livro', 'resumido', 'superficial', 'recomendo', 'pra', 'ninguém', 'livro', 'realmente', 'quer', 'ler', 'livro', 'completo', 'sobre', 'hábitos', 'recomendo', 'Poder', 'Hábito', 'Veio', 'amassado', 'pontas', 'avaliação', 'negativa', 'vai', 'obra', 'Tolkien', 'sim', 'qualidade', 'livronas', 'avaliações', 'clientes', 'alguém', 'afirma', 'livro', 'folhas', 'amareladas', 'baseando', 'nessa', 'informação', 'então', 'achava', 'confiável', 'comprei', 'livro', 'pensar', 'duas', 'vezespara', 'surpresa', 'hoje', 'recebi', 'livro', 'folhas', 'brancas', 'péssima', 'qualidade', 'quase', 'transparentes', 'agora', 'imagine', 'alguém', 'míope', 'lendo', 'livro', 'folhas', 'brancas', 'fonte', 'pequena', 'sensação', 'lendo', 'bula', 'remédio', 'entanto', 'contatei', 'amazon', 'sobre', 'problema', 'atenciosos', 'prestativos', 'deram', 'toda', 'assistência', 'indicaram', 'meios', 'resolver', 'casoinfelizmente', 'nenhuma', 'soluções', 'pareceu', 'totalmente', 'adequada', 'geraria', 'transtornos', 'perda', 'tempo', 'atendimento', 'recebi', 'amazon', 'extremamente', 'respeitosoeu', 'sugiro', 'amazon', 'coloque', 'informação', 'sobre', 'qualidadecor', 'paginas', 'etc', 'menos', 'pra', 'mim', 'crucial', 'hora', 'comprar', 'livro', 'descrição', 'recursos', 'livros', 'físicos', 'implemente', 'opção', 'perguntar', 'directamente', 'outros', 'detalhes', 'antes', 'realizar', 'compra', 'achei', 'livro', 'pesado', 'razão', 'traição', 'todos', 'outros', 'livros', 'Nana', 'personagem', 'principal', 'traí', 'amada', 'Pra', 'mim', 'traição', 'acabou', 'história', 'amor', 'box', 'maravilhoso', 'dois', 'livros', 'vieram', 'brochura', 'arranhadarasgada', 'Creio', 'pode', 'ter', 'acontecido', 'hora', 'colocarem', 'livros', 'box', 'esperava', 'livro', 'Esperava', 'ligado', 'título', 'Alguma', 'ideias', 'apresentada', 'livro', 'iguais', 'outras', 'mostrada', 'outros', 'livros', 'texto', 'livro', 'celular', 'exibido', 'duas', 'colunas', 'dificultando', 'leitura', 'Entrei', 'contato', 'procurando', 'solução', 'obtive', 'dia', 'livro', 'chegar', 'recebo', 'email', 'Amazon', 'avisando', 'haviam', 'errado', 'livro', 'demoraria', 'chegar', 'chegou', 'abrir', 'dois', 'exemplares', 'vieram', 'capa', 'amaçada', 'sugeria', 'todas', 'capas', '5', 'edições', 'provável', 'cola', 'além', 'disso', 'caixa', 'vem', 'guardar', 'exemplares', 'serem', 'rasgada', 'jogar', 'vi', 'tantas', 'avaliações', 'corri', 'ler', 'livro', 'chato', 'Tudo', 'bem', 'aviso', 'sobre', 'cenas', 'sexo', 'linguagem', 'chula', 'deveria', 'dizer', '90', 'história', 'deixar', 'realmente', 'enredo', 'bom', 'acontecer', 'Sexo', 'sexo', 'sexo', 'resume', 'livro', 'história', 'ultrapassa', 'clichê', 'verdade', 'história', 'sexo', 'parece', 'ter', 'sido', 'retirado', 'livros', 'anteriores', 'colocado', 'nesse', 'mudando', 'nome', 'personagens', 'Falta', 'inovação', 'escrita', 'autora', 'boa', 'livro', 'bom', 'Simplório', 'lugar', 'comum', 'livro', 'Parece', 'texto', 'blog', 'faz', 'apenas', 'propaganda', 'curso', 'chamado', 'fast', 'read', 'caixa', 'veio', 'péssimo', 'estado', 'parte', 'baixo', 'rasgada', 'além', 'alguns', 'amassados', 'livros', 'pequenos', 'sensíveis', 'folhas', 'brancas', 'atrapalham', 'leitura', 'vieram', 'estado', 'bom', 'parecia', 'comprando', 'livro', 'usado', 'recomendo', 'compra', 'devolvo', 'pois', 'paguei', 'preço', 'baixo', 'promoção', 'pagar', 'frete', 'vai', 'ficar', 'encalhado', 'estante', 'recomendo', 'comprar', '5', 'livros', 'originais', 'encontram', 'promoção', 'diversos', 'sites', 'valor', 'Péssimo', 'Qualidade', 'horrível', 'papel', 'tamanho', 'letra', 'quase', 'ilegível', 'nenhuma', 'ilustração', 'COMPRE', 'Fiquei', 'decepcionado', 'especialmente', 'porque', 'preço', 'parecia', 'produto', 'minimamente', 'aceitável', 'Gostei', 'acabamento', 'livro', 'porém', 'podia', 'paginas', 'amareladas', 'livro', 'gama', 'palavras', 'outra', 'língua', 'glossário', 'fica', 'parte', 'trás', 'logo', 'fica', 'leitura', 'dinâmica', 'sempre', 'ouvir', 'falar', 'bem', 'dessa', 'escritora', 'Tavez', 'captado', 'estilo', 'autora', 'fato', 'detestei', 'livro', 'dei', 'nota', 'mínima', 'porque', 'escrita', 'razoável', 'coisas', 'piores', 'aí', 'adoro', 'boa', 'estória', 'pra', 'passar', 'tempo', 'fato', 'leitura', 'bastante', 'cheia', 'clichês', 'entediou', 'bastante', 'Alguns', 'podem', 'achar', 'tema', 'depressivo', 'garota', 'trabalha', 'cara', 'tetraplégico', 'ambos', 'descobrem', 'novo', 'sentido', 'vida', 'necessariamente', 'deveria', 'achou', 'livro', 'bem', 'depressivo', 'veja', 'adorei', 'culpa', 'estrelas', 'resumo', 'livro', 'pode', 'pra', 'pessoa', 'bastante', 'sensível', 'gosta', 'livros', 'façam', 'chorar', 'box', 'chegou', 'amassados', 'riscos', 'espécie', 'cola', 'grudada', 'parte', 'externa', 'livros', 'Única', 'vantagem', 'vi', 'tempo', 'entrega', '2', 'dias', 'porém', 'esperava', 'empresa', 'Amazon', 'livro', 'bom', 'perdido', 'vida', 'maioria', 'conselhos', 'voltados', 'perfil', 'típico', 'pessoas', 'casadas', 'filhos', 'trabalham', 'acima', 'peso', 'maioria', 'exemplos', 'conselhos', 'sentido', 'traçar', 'metas', 'mentalizar', 'situações', 'emagrecendo', 'melhorar', 'relacionamento', 'famíliaSão', 'poucas', 'referências', 'livro', 'parece', 'maior', 'parte', 'exemplos', 'próprio', 'autor', 'algumas', 'poucas', 'citações', 'pseudociênciatem', 'parte', 'sobre', 'poder', 'palavras', 'podem', 'alterar', 'estrutura', 'molecular', 'água', 'Alguns', 'conselhos', 'bons', 'questão', 'autoresponsabilidade', 'assumir', 'responsabilidade', 'reação', 'perante', 'acontecimentos', 'vida', 'edição', 'meio', 'confusa', 'mal', 'diagramada', 'Arrependime', 'adquirila', 'acredito', 'opções', 'melhores', 'mesma', 'obra', 'comprei', 'promoção', 'feita', 'cidade', 'Paulo', 'porém', 'sei', 'acessar', 'produto', 'explicação', 'alguma', 'livro', 'disfarça', 'piadinhas', 'passa', 'versão', 'grotesca', 'distorcida', 'história', 'feito', 'pessoa', 'rancor', 'mesquinho', 'Nãorecomendo', 'inimigo', 'oculto', 'ruim', 'paginas', 'extremamente', 'finas', 'quase', 'transparentes', 'letra', 'miúda', 'parece', 'bíblia', 'Apesar', 'bem', 'barato', 'produto', 'final', 'decepciona', 'FiZ', 'compra', 'errada', 'pra', 'comprar', 'livro', 'acabei', 'comprando', 'kindle', 'Quero', 'cancelar', 'compra', 'Kindle', 'segredo', 'mente', 'milionária', 'Obrigada', 'Karla', 'edição', 'maravilhosa', 'preço', 'bom', 'contudo', 'livro', 'veio', 'rasgado', 'canto', 'superior', 'direito', 'lombada', 'primeira', 'vez', 'ocorrea', 'Amazon', 'costuma', 'excelenteé', 'preciso', 'dizer', 'espaçamento', 'livro', 'todo', 'desconfigurado', 'Algumas', 'linhas', 'duas', 'três', 'palavras', 'Outras', 'nenhum', 'espaço', 'Atrapalha', 'leitura', 'Realmente', 'Deixou', 'desejar', 'Esperei', 'ano', 'pra', 'per', 'final', 'decepcionei', 'is', 'dar', 'minna', 'opiniao', 'tao', 'frustrada', 'fiquei', 'ler', 'tudo', 'li', 'aqui', 'resolvi', 'Gideon', 'Eva', 'deixarao', 'saudades', 'incopiaveis', 'historia', 'estranhaconfusa', 'Silvia', 'Day', 'sinto', 'voce', 'error', 'feio', 'Tudo', 'esperavamos', 'bebezinho', 'lindo', 'dois', 'mae', 'Eva', 'morta', 'coisas', 'email', 'pe', 'cabeça', 'casamento', 'tão', 'esperado', 'Olha', 'decepcionante', 'dando', 'olhada', 'Blacklist', 'próximo', 'livro', 'série', 'Vamos', 'ver', 'tira', 'má', 'impressão', 'livro', 'muitas', 'coisas', 'boas', 'sobre', 'assunto', 'questão', 'Bem', 'práticos', 'verdade', 'pouco', 'autopromoção', 'autor', 'fala', 'método', 'CIS', 'criou', 'acho', 'combina', 'Livro', 'Porém', 'autor', 'parece', 'excelente', 'pessoa', 'muitas', 'vezes', 'comporta', 'pastor', 'Tudo', 'bem', 'cada', 'crença', 'Respeito', 'recomendo', 'leitura', 'agnósticos', 'céticos', 'ateus', 'autor', 'menciona', 'deus', 'passagens', 'bíblicas', '45', 'vezes', 'sim', 'contei', 'detalhe', 'incomoda', 'bastante', 'além', 'interromper', 'linha', 'pensamento', 'leitor', 'Lerei', 'livro', 'partes', 'novo', 'pois', 'grifei', 'apenas', 'aplicação', 'realidade', 'mundo', 'material', 'estória', 'bem', 'elaborada', 'deixa', 'protagonista', 'machistaE', 'oque', 'acontece', 'escritores', 'NUNCA', 'pensam', 'proteção', 'Achei', 'parte', 'Hot', 'repetitiva', 'Escrita', 'pobre', 'tradução', 'ruim', 'personagens', 'diálogos', 'superficiais', 'cenário', 'histórico', 'menos', 'interessante', 'inferior', 'Pilares', 'Terra', 'Comprei', 'livro', 'ter', 'achado', 'título', 'interessante', 'interessar', 'história', 'início', 'senti', 'certo', 'desconforto', 'primarismo', 'muitos', 'momentos', 'pensei', 'parece', 'algo', 'algum', 'colunista', 'Veja', 'escreveria', 'errado', 'Narloch', 'repórter', 'Veja', 'Nesse', 'momento', 'achando', 'ruim', 'piorou', 'especial', 'capítulo', 'respeito', 'Barroco', 'Brasileiro', 'autor', 'primarismo', 'extremo', 'Tendo', 'viajado', 'mundo', 'visitado', 'diversos', 'templos', 'barrocos', 'igreja', 'Wies', 'Igreja', 'Asam', 'Munique', 'notei', 'todas', 'anjos', 'tbm', 'possuíam', 'faces', 'tortas', 'algo', 'autor', 'disse', 'exclusivo', 'barroco', 'brasileiro', 'falta', 'dom', 'artístico', 'artesãos', 'Conversando', 'historiador', 'arte', 'disse', 'algo', 'normal', 'período', 'dar', 'sensação', 'profundidade', 'esculturas', 'geralmente', 'ficavam', 'distantes', 'público', 'Dei', 'estrela', 'possível', 'dar', '0', 'pois', 'livro', 'vale', 'papel', 'publicado', 'boa', 'qualidade', 'sinal', 'li', 'comentários', 'antes', 'começar', 'ler', 'livro', 'pois', 'li', 'outras', 'história', 'nana', 'gostei', 'bastante', 'Consegui', 'chegar', 'meio', 'história', 'protagonista', 'cativante', 'extremamente', 'abusivo', 'estúpido', 'grosseiro', 'mocinha', 'força', 'sexo', 'bruto', 'conta', 'vontade', 'caracteriza', 'claramente', 'estupro', 'importa', 'pouco', 'sente', 'inclusive', 'trai', 'achar', 'traição', 'nada', 'menos', 'merece', 'avó', 'criando', 'monstro', 'ridículo', 'criar', 'humano', 'prepotente', 'assim', 'entendo', 'parte', 'parte', 'enredo', 'estupros', 'romantizados', 'consegui', 'engolir', 'nana', 'errou', 'mão', 'triste', 'interessada', 'segundo', 'livro', 'acho', 'ânimo', 'pra', 'lêlo', 'conteúdo', 'livro', 'si', 'bom', 'técnicas', 'assuntos', 'aborda', 'fato', 'importantes', 'Entretanto', 'livro', 'abordagem', 'auto', 'ajuda', 'generalizações', 'sentido', 'usando', 'abordagem', 'prescritiva', 'promete', '100', 'sucesso', 'todos', 'seguirem', 'dicas', 'mágicas', 'infalíveis', 'livro', 'simplificando', 'demasiadamente', 'assunto', 'livro', 'mal', 'escrito', 'confuso', 'algumas', 'partes', 'todo', 'momento', 'sabe', 'autor', 'falando', 'algo', 'academicamente', 'comprovado', 'existem', 'estudos', 'práticos', 'opiniãoexperiência', 'pessoal', 'ver', 'fé', 'sim', 'existem', 'várias', 'opiniões', 'religiosas', 'inseridas', 'junto', 'texto', 'Enfim', 'ruim', 'dou', 'nota', '1', 'porque', 'apesar', 'mal', 'escrito', 'livro', 'prescreve', 'fato', 'algo', 'funciona', 'bem', 'imensa', 'maioria', 'casos', 'brasileiro', 'médio', 'viveria', 'melhor', 'seguisse', 'dicas', 'conteúdo', 'interessante', 'parecendo', 'tradução', 'feita', 'descuido', 'Além', 'linguagem', 'quase', 'infantil', 'erros', 'formação', 'descontinuidade', 'frases', 'Parece', 'mal', 'revisado', 'box', 'Premium', 'lindo', 'porém', 'caixa', 'veio', 'rasgada', 'fiquei', 'desgosto', 'quero', 'trocar', 'apenas', 'box', 'outros', 'livros', 'vieram', 'forma', 'adequada', 'bosta', 'completa', 'qualquer', 'fundamento', 'coesão', 'ode', 'ignorância', 'Pena', 'arrependimento', 'sobre', 'obra', 'Pena', 'inocentes', 'leem', 'iludem', 'arrependimento', 'minutos', 'perdidos', 'Relato', 'emocionante', 'claro', 'edição', 'deixa', 'desejar', 'alguns', 'momentos', 'inclusive', 'relação', 'detalhes', 'produção', 'tradução', 'Apenas', 'aproveitaram', 'fato', 'livro', 'livre', 'direitos', 'reprodução', 'fizeram', 'trabalho', 'péssima', 'qualidade', 'Amazon', 'deveria', 'atentar', 'relação', 'pseudoeditora', 'final', 'obra', 'ainda', 'incluem', 'outros', 'títulos', 'completamente', 'relação', 'conotação', 'sexual', 'Olar', 'Frequentemente', 'tendo', 'marca', 'merecidamente', 'mencionada', 'cases', 'sucessos', 'vão', 'desde', 'referências', 'bibliográficas', 'TCCs', 'complexas', 'análises', 'modelos', 'design', 'negócios', 'serviços', 'geram', 'encantamento', 'meio', 'relacionamento', 'clientes', 'experienciei', 'compartilho', 'espantoso', 'case', 'insucesso', 'empresa', 'Fiz', '1511', 'pedido', 'deste', 'livro', 'It', 'Coisa', 'outro', 'livro', 'previsão', 'entrega', 'algo', 'torno', '10', 'dias', 'outro', 'livro', 'pedido', 'endereço', 'etc', 'etc', 'entregue', 'problemas', 'livro', 'It', 'Coisa', 'transportadora', 'insistia', 'endereço', 'incorreto', 'oi', 'moro', 'aqui', '2411', 'pedi', 'ajuda', 'via', 'chat', 'site', 'recebi', 'atendimento', 'incrível', 'inversamente', 'proporcional', 'eficácia', 'Naquele', 'atendimento', 'havia', 'descrito', 'rotas', 'chegar', 'aqui', 'pontos', 'referência', 'meios', 'contato', 'disponibilizei', 'buscar', 'livro', 'algum', 'lugar', 'pois', 'importante', 'presentear', 'pessoa', 'especial', 'tal', 'Nada', 'início', 'dezembro', 'enviei', 'email', 'pedindo', 'ajuda', 'reiterando', 'tudo', 'apresentado', 'atendimento', 'via', 'chat', 'dia', 'seguinte', 'recebi', 'email', 'daqueles', 'ctrl', 'c', 'ctrl', 'v', 'amazon', 'desculpando', 'perguntando', 'gostaria', 'reembolsado', 'prontamente', 'respondi', 'entendo', 'M', 'acontece', 'desejar', 'PRECISAVA', 'receber', 'livro', 'Novamente', 'compartilhei', 'rotas', 'pontos', 'referências', 'autorizei', 'passar', 'telefone', 'celular', 'quer', 'incluindo', 'ligar', 'cobrar', 'necessário', 'repeti', 'alternativa', 'buscar', 'algum', 'lugar', 'moro', 'Paulo', 'gente', 'alguma', 'cidade', 'difícil', 'acesso', 'Alguns', 'dias', 'passaram', 'nessas', 'milongas', 'enfim', 'dia', '0712', '22', 'dias', 'após', 'realizado', 'pedido', 'recebi', 'solução', 'compulsória', 'Amazon', 'Confirmação', 'Reembolso', 'reembolso', 'creditado', '2', 'faturas', 'caso', 'cartão', 'crédito', '10', 'dias', 'úteis', 'conta', 'corrente', 'cartões', 'débito', 'boletos', 'olho', 'Amazon', 'pudesse', 'dar', 'menos', 'estrela', 'daria', 'Sério', 'fã', 'série', 'vez', 'li', 'primeiro', 'livro', 'obriguei', 'ler', 'outros', 'Poderia', 'ter', 'parado', 'terceiro', 'quiçá', 'segundo', 'Escrever', 'algo', 'diz', 'nada', 'nada', 'cheio', 'pontas', 'soltas', 'desrespeito', 'leitor', 'dinheiro', 'gastei', 'livro', 'graça', 'frustrante', 'compraria', '3', 'nacionais', 'melhor', 'qualidade', 'devolvendo', 'recomendo', 'titulo', 'certo', 'deveria', 'Rascunho', 'Historicamente', 'Errado', 'língua', 'trivial', 'livro', 'abusa', 'metodo', 'desconstruçao', 'historia', 'tipo', 'Hitler', 'gay', 'Jesus', 'casado', 'Madalena', 'descartado', 'ha', 'decadas', 'causa', 'erros', 'livro', 'nada', 'politicamente', 'incorreto', 'sendo', 'apenas', 'coleção', 'conversas', 'soltas', 'chega', 'sequer', 'divertido', 'ler', 'ato', 'compra', 'descrição', 'produto', 'constava', 'Livro', 'Bolso', 'contrário', 'dimensões', 'produto', 'outras', 'endereço', 'produto', 'entregue', 'devolvido', 'pestanejar', 'infelizmente', 'férias', 'acabei', 'perdendo', 'prazo', 'devolução', 'Outra', 'observação', 'fazer', 'relação', 'zelo', 'produtos', 'embalados', 'funcionários', 'Amazon', 'pesaram', 'mão', 'últimas', 'entregas', 'pois', 'praticamente', 'todos', 'livros', 'contêm', 'leves', 'amassados', 'bordas', 'Fica', 'aqui', 'indignação', 'Amazon', 'problema', 'livro', 'fanfic', 'vários', 'problemas', 'dessa', 'trilogia', 'certamente', 'fanfic', 'primeiro', 'todos', 'protagonista', 'abusador', 'perseguidor', 'mulheres', 'Segundo', 'autora', 'demonstrou', 'profundo', 'desconhecimento', 'BDSM', 'colocandoo', 'perversão', 'precisa', 'curada', 'através', 'amor', 'Anastácia', 'clichê', 'cima', 'clichê', 'bem', 'preocupante', 'tantas', 'mulheres', 'acharem', 'Christian', 'Grey', 'romântico', 'invés', 'reconhecerem', 'diversos', 'abusos', 'quais', 'Anastácia', 'passa', 'Amor', 'cura', 'ninguém', 'gente', 'acompanho', 'youtube', 'talvez', 'falta', 'dessa', 'referência', 'quê', 'impediu', 'gostar', 'desse', 'livro', 'linguagem', 'daquelas', 'miga', 'vamos', 'bater', 'papo', 'realmente', 'gostei', 'contar', 'mil', 'referências', 'habilidades', 'econômicas', 'autora', 'economiza', 'desde', '7', 'anos', 'idade', 'Achei', 'livro', 'bastante', 'cansativo', 'aborrecido', 'livro', 'sensacional', 'aplicado', 'conceito', 'adotar', 'novos', 'hábitos', 'positivos', 'várias', 'áreas', 'vida', 'Bom', 'dia']\n"
     ]
    }
   ],
   "source": [
    "string_reviews_relevantes_pronta = word_tokenize(string_reviews_relevantes_limpa)\n",
    "string_reviews_irrelevantes_pronta =word_tokenize(string_reviews_irrelevantes_limpa)\n",
    "string_total = string_reviews_relevantes_pronta + string_reviews_irrelevantes_pronta\n",
    "\n",
    "reviews_relevantes_analise = [w for w in string_reviews_relevantes_pronta if not w.lower() in stop_words]\n",
    "reviews_irrelevantes_analise = [w for w in string_reviews_irrelevantes_pronta if not w.lower() in stop_words]\n",
    "\n",
    "serie_relevantes = pd.Series(reviews_relevantes_analise)\n",
    "serie_irrelevantes = pd.Series(reviews_irrelevantes_analise)\n",
    "\n",
    "tabela_relevantes = serie_relevantes.value_counts()\n",
    "tabela_irrelevantes = serie_irrelevantes.value_counts() \n",
    "\n",
    "print(reviews_relevantes_analise)"
   ]
  },
  {
   "cell_type": "code",
   "execution_count": 686,
   "metadata": {},
   "outputs": [],
   "source": [
    "#SUAVIZAÇÃO DE LAPLACE\n",
    "#ADICIONA 1 NA OCORRENCIA DE TODAS AS PALAVRAS E DIVIDE PELA QUANTIDADE TOTAL DE PALAVRAS UNICAS DO EXEL TOD0, LOGO FICA P_PALAVRA = (FREQUENCIA + 1)/ (TOTAL + SET(EXEL))\n",
    "\n",
    "\n",
    "\n",
    "#string_treinamento = string_reviews_relevantes_pronta + ' ' + string_reviews_irrelevantes_pronta\n",
    "\n",
    "#reviews_relevantes_pronta_lista = string_reviews_relevantes_pronta.split(' ')\n",
    "total_relvantes = len(reviews_relevantes_analise) + len(set(string_total))#len(reviews_relevantes_pronta_lista) + len(set(reviews_relevantes_pronta_lista))\n",
    "\n",
    "#reviews_irrelevantes_pronta_lista = string_reviews_irrelevantes_pronta.split(' ')\n",
    "total_irrelvantes = len(reviews_irrelevantes_analise) + len(set(string_total)) #len(reviews_irrelevantes_pronta_lista) + len(set(reviews_irrelevantes_pronta_lista))\n",
    "#string_geral = string_treinamento \n",
    "#lista_geral = string_geral.split(' ')\n",
    "\n",
    "#total_parcial = len(set(lista_geral))\n",
    "#total = total_parcial + len(lista_geral)\n",
    "#total\n",
    "\n"
   ]
  },
  {
   "cell_type": "code",
   "execution_count": 687,
   "metadata": {},
   "outputs": [
    {
     "name": "stdout",
     "output_type": "stream",
     "text": [
      "200\n",
      "ACABOU\n",
      "200\n",
      "[0, 0, 0, 1, 0, 0, 0, 0, 1, 0, 0, 0, 0, 0, 1, 0, 1, 1, 0, 1, 0, 1, 0, 0, 0, 1, 0, 1, 0, 0, 0, 1, 0, 1, 0, 0, 0, 0, 0, 0, 0, 1, 1, 1, 1, 0, 1, 0, 1, 1, 0, 0, 0, 0, 1, 0, 1, 1, 0, 0, 0, 0, 0, 0, 0, 1, 0, 0, 1, 0, 0, 0, 0, 1, 1, 0, 0, 0, 0, 0, 1, 1, 0, 1, 0, 1, 0, 0, 0, 0, 0, 0, 1, 0, 0, 0, 0, 0, 0, 0, 0, 0, 0, 0, 0, 0, 1, 0, 0, 1, 0, 1, 0, 0, 0, 0, 1, 1, 0, 1, 0, 0, 0, 0, 0, 0, 0, 0, 1, 0, 0, 0, 0, 1, 1, 0, 0, 0, 0, 0, 1, 0, 1, 0, 0, 1, 0, 1, 1, 0, 0, 0, 0, 1, 0, 0, 0, 1, 1, 0, 1, 0, 0, 0, 1, 0, 1, 0, 0, 1, 1, 0, 0, 0, 0, 0, 0, 0, 0, 0, 0, 0, 0, 0, 1, 0, 0, 1, 0, 0, 1, 0, 0, 0, 0, 0, 0, 1, 0, 1]\n",
      "200\n"
     ]
    },
    {
     "data": {
      "text/html": [
       "<div>\n",
       "<style scoped>\n",
       "    .dataframe tbody tr th:only-of-type {\n",
       "        vertical-align: middle;\n",
       "    }\n",
       "\n",
       "    .dataframe tbody tr th {\n",
       "        vertical-align: top;\n",
       "    }\n",
       "\n",
       "    .dataframe thead th {\n",
       "        text-align: right;\n",
       "    }\n",
       "</style>\n",
       "<table border=\"1\" class=\"dataframe\">\n",
       "  <thead>\n",
       "    <tr style=\"text-align: right;\">\n",
       "      <th>Classificado</th>\n",
       "      <th>0</th>\n",
       "      <th>1</th>\n",
       "    </tr>\n",
       "    <tr>\n",
       "      <th>target</th>\n",
       "      <th></th>\n",
       "      <th></th>\n",
       "    </tr>\n",
       "  </thead>\n",
       "  <tbody>\n",
       "    <tr>\n",
       "      <th>0</th>\n",
       "      <td>85</td>\n",
       "      <td>1</td>\n",
       "    </tr>\n",
       "    <tr>\n",
       "      <th>1</th>\n",
       "      <td>58</td>\n",
       "      <td>56</td>\n",
       "    </tr>\n",
       "  </tbody>\n",
       "</table>\n",
       "</div>"
      ],
      "text/plain": [
       "Classificado   0   1\n",
       "target              \n",
       "0             85   1\n",
       "1             58  56"
      ]
     },
     "execution_count": 687,
     "metadata": {},
     "output_type": "execute_result"
    }
   ],
   "source": [
    "\n",
    "#reviews\n",
    "review = test.iloc[:,0].to_list()\n",
    "\n",
    "print(len(review))\n",
    "\n",
    "\n",
    "\n",
    "\n",
    "#listas absolutas\n",
    "tabela_relevantes\n",
    "tabela_irrelevantes\n",
    "\n",
    "def classificador(review2):\n",
    " \n",
    "    lista_classificacao = []\n",
    "    print(len(review2))\n",
    "    for i in review2:\n",
    "        review2 = i.lower()\n",
    "\n",
    "        review_semilimpa = cleanup1(review2)\n",
    "        review_quaselimpa = cleanup2(review_semilimpa)\n",
    "        review_limpa = ''\n",
    "        for u in lista_remover:\n",
    "            if review_limpa == '':\n",
    "                review_limpa = review_quaselimpa\n",
    "            review_limpa = review_limpa.replace(u, '')\n",
    "\n",
    "        lista_review = review_limpa.split(' ')\n",
    "        #print(lista_review)\n",
    "        probabilidade_relevante = []\n",
    "        probabilidade_irrelevante = []\n",
    "\n",
    "        for k in lista_review:\n",
    "            if k in tabela_relevantes:\n",
    "            #tabela_relevantes[k]\n",
    "                probabilidade1 = (tabela_relevantes[k] + 1)/total_relvantes\n",
    "            else:\n",
    "                probabilidade1 = 1/total_relvantes\n",
    "            probabilidade_relevante.append(probabilidade1)\n",
    "        for y in lista_review:\n",
    "            if y in tabela_irrelevantes:\n",
    "            #tabela_irrelevantes[y]\n",
    "                probabilidade2 = (tabela_irrelevantes[y] + 1)/total_irrelvantes\n",
    "                #print(probabilidade2)\n",
    "            else:\n",
    "                probabilidade2 = 1/total_irrelvantes\n",
    "            #print(1/total)\n",
    "            probabilidade_irrelevante.append(probabilidade2)\n",
    "\n",
    "        Probabilidade_review_relevante = np.prod(probabilidade_relevante)\n",
    "        Probabilidade_review_irrelevante = np.prod(probabilidade_irrelevante)\n",
    "\n",
    "        if Probabilidade_review_relevante >= Probabilidade_review_irrelevante:\n",
    "            lista_classificacao.append(1)\n",
    "\n",
    "        elif Probabilidade_review_irrelevante > Probabilidade_review_relevante:\n",
    "            lista_classificacao.append(0)\n",
    "\n",
    "\n",
    "    return(lista_classificacao)\n",
    "\n",
    "print('ACABOU') \n",
    "\n",
    "lista_final = classificador(review)\n",
    "\n",
    "print(lista_final)\n",
    "print(len(lista_final))\n",
    "\n",
    "test['Classificado'] = lista_final\n",
    "\n",
    "\n",
    "\n",
    "pd.crosstab(test['target'],test['Classificado'])\n",
    "\n"
   ]
  },
  {
   "attachments": {},
   "cell_type": "markdown",
   "metadata": {},
   "source": [
    "___\n",
    "### Verificando a performance do Classificador\n",
    "\n",
    "Agora você deve testar o seu classificador com a base de Testes."
   ]
  },
  {
   "cell_type": "code",
   "execution_count": 688,
   "metadata": {},
   "outputs": [
    {
     "name": "stdout",
     "output_type": "stream",
     "text": [
      "[1, 0, 1, 1, 1, 0, 1, 1, 1, 0, 1, 0, 1, 1, 1, 1, 1, 1, 0, 1, 1, 1, 0, 1, 1, 1, 0, 1, 1, 1, 0, 1, 0, 1, 0, 0, 0, 0, 0, 0, 0, 1, 1, 1, 1, 0, 1, 0, 1, 1, 0, 1, 0, 0, 1, 0, 1, 1, 0, 1, 1, 1, 1, 0, 0, 1, 0, 0, 1, 0, 0, 0, 0, 1, 1, 1, 0, 0, 0, 0, 1, 1, 1, 1, 0, 1, 1, 1, 0, 0, 1, 1, 1, 0, 0, 0, 0, 1, 0, 0, 0, 0, 1, 1, 1, 0, 1, 0, 0, 1, 0, 1, 0, 1, 1, 1, 0, 1, 0, 1, 1, 1, 0, 0, 1, 0, 1, 0, 1, 0, 1, 0, 0, 1, 1, 0, 0, 0, 1, 0, 1, 0, 1, 0, 0, 1, 0, 1, 1, 0, 0, 0, 1, 1, 0, 1, 0, 1, 1, 1, 1, 1, 0, 1, 1, 1, 1, 1, 0, 1, 1, 1, 1, 1, 1, 0, 1, 0, 1, 0, 1, 0, 0, 0, 1, 0, 0, 1, 1, 0, 1, 1, 1, 0, 1, 1, 1, 1, 0, 1]\n",
      "200\n",
      "a precisa geral é 0.705\n",
      "Verdadeiros relevantes 0.9824561403508771\n",
      "Falsos relevantes 0.017543859649122806\n",
      "Verdadeiros irrelevantes 0.5944055944055944\n",
      "Falsos irrelevantes 0.40559440559440557\n",
      "/n/n/n\n",
      "Verdadeiros relevantes 0.49122807017543857\n",
      "Falsos relevantes 0.008771929824561403\n",
      "Verdadeiros irrelevantes 0.9883720930232558\n",
      "Falsos irrelevantes 0.6744186046511628\n",
      "/n/n/n\n",
      "1.0\n",
      "1.0\n"
     ]
    }
   ],
   "source": [
    "target_manual = test.loc[:,'target'].to_list()\n",
    "\n",
    "print(target_manual)\n",
    "contagem = []\n",
    "for i in range(len(lista_final)):\n",
    "    if target_manual[i] == lista_final[i]:\n",
    "        contagem.append('ACERTOU')\n",
    "    else:\n",
    "        erros = contagem.append('errou')\n",
    "\n",
    "acertos = contagem.count('ACERTOU')\n",
    "erros = contagem.count('errou')\n",
    "\n",
    "precisao_geral = acertos/(erros + acertos)\n",
    "\n",
    "verdadeiros_relevantes = 0\n",
    "falsos_relevantes = 0\n",
    "verdadeiros_irrelevantes = 0 \n",
    "falsos_irrelevantes = 0\n",
    "\n",
    "print(len(lista_final))\n",
    "for i in range(len(lista_final)):\n",
    "    if lista_final[i] == 1:\n",
    "        if test['target'][i] == 1:\n",
    "            verdadeiros_relevantes += 1\n",
    "        elif test['target'][i] == 0:\n",
    "            falsos_relevantes += 1\n",
    "    elif lista_final[i] == 0:\n",
    "        if test['target'][i] == 0:\n",
    "            verdadeiros_irrelevantes += 1\n",
    "        elif test['target'][i] == 1:\n",
    "            falsos_irrelevantes += 1\n",
    "\n",
    "Relativo_V_relevantes = verdadeiros_relevantes/(verdadeiros_relevantes + falsos_relevantes)\n",
    "Relativo_V_irrelevantes = verdadeiros_irrelevantes/(verdadeiros_irrelevantes + falsos_irrelevantes)\n",
    "Relativo_F_relevantes = falsos_relevantes/(verdadeiros_relevantes + falsos_relevantes)\n",
    "Relativo_F_irrelevantes = falsos_irrelevantes/(verdadeiros_irrelevantes + falsos_irrelevantes)\n",
    "\n",
    "Absoluto_V_relevantes = verdadeiros_relevantes/target_manual.count(1)\n",
    "Absoluto_F_relevantes = falsos_relevantes/target_manual.count(1)\n",
    "Absoluto_V_irrelevantes = verdadeiros_irrelevantes/target_manual.count(0)\n",
    "Absoluto_F_irrelevantes = falsos_irrelevantes/target_manual.count(0)\n",
    "\n",
    "print(f'a precisa geral é {precisao_geral}')\n",
    "print(f'Verdadeiros relevantes {Relativo_V_relevantes}')\n",
    "print(f'Falsos relevantes {Relativo_F_relevantes}')\n",
    "print(f'Verdadeiros irrelevantes {Relativo_V_irrelevantes}')\n",
    "print(f'Falsos irrelevantes {Relativo_F_irrelevantes}')  \n",
    "\n",
    "print('/n/n/n')\n",
    "\n",
    "print(f'Verdadeiros relevantes {Absoluto_V_relevantes}')\n",
    "print(f'Falsos relevantes {Absoluto_F_relevantes}')\n",
    "print(f'Verdadeiros irrelevantes {Absoluto_V_irrelevantes}')\n",
    "print(f'Falsos irrelevantes {Absoluto_F_irrelevantes}') \n",
    "\n",
    "print('/n/n/n')\n",
    "\n",
    "\n",
    "print(Relativo_V_relevantes + Relativo_F_relevantes)\n",
    "print(Relativo_V_irrelevantes + Relativo_F_irrelevantes)\n",
    "\n",
    "\n",
    "\n",
    "# algoritimo bom para identificar irrelevantes e quase tão bom quanto um cara ou coroa para identificar relevantes\n",
    "\n"
   ]
  },
  {
   "attachments": {},
   "cell_type": "markdown",
   "metadata": {},
   "source": [
    "___\n",
    "### Concluindo"
   ]
  },
  {
   "attachments": {},
   "cell_type": "markdown",
   "metadata": {},
   "source": [
    "O classificador Naive - Bayes com suavização de Lapalace desenvolvido neste projeto tem uma qualidade mediana, com uma precisão de 65% no geral ele se vira muito bem com reviews irrelevantes, mas com reviews relevantes um cara ou coroa e quase tão preciso como ele. Porém a espaço para melhora, mas nao podemos usar o proprio classificador para criar outra base de treinamento porque a imprecisão dele em algumas iterações iria se sabotar, ao classificar reviewsde maneira incorreta e usar a base de dados como correta, mesmo ela nao estando. \n",
    "\n",
    "Em sua forma atual esse classificador não consegue distinguir nem sarcasmo nem dupla negação. Para distinguir sarcasmo podeiramos analisar as reviews mais a fundo e encontrar indicios recorrentes, como certas frases (frases seriam um conjunto de palavras entre duas paontuações, ou entre o começo/final da review e uma pontuação) que normalmente estão em reviews de natureza sarcastica para conseguir calcular a probabilidade da review relevante, ser na verdade uma piada elaborada, e finalmente classifica-la como irrelevante. Ja para lidar com dupla negação deveriamos novamente analisar frase nas reviews e analisar quantas palavras de negação há nelas, podendo assim calcular a probabilidade de haver uma dupla negação que inverto o sentido da frase, faça isso para toda review e voce tem a probabilidade de uma frase que a principio parece irrelevante ser, na verdade, relevante.\n",
    "\n",
    "Além de todas as melhorias descritas acima, poderia-se realizar um trabalho de analise estatistica para indicar que palavras tem um impacto neutro na review, ou seja, nao faz a probabilidade da review ser negativa/positiva aumentar consideralvelmente, exemplos de palavras como essa seriam: que; a; e; o; ja; ele; ela. Outra melhoria que poderia ser feita é uma analise previa para garantir que a review é um texto, visto que na steam é muito comum pessoas fazerem artes do tipo ASCII em suar reviews, removendo as pontuações e caracteres especiais da review ou em casos extremos remove-la completamente da base de dados aumentaria significativamente a eficiencia e a acuracia do classificador."
   ]
  },
  {
   "cell_type": "code",
   "execution_count": null,
   "metadata": {},
   "outputs": [],
   "source": []
  },
  {
   "cell_type": "code",
   "execution_count": null,
   "metadata": {},
   "outputs": [],
   "source": []
  },
  {
   "cell_type": "code",
   "execution_count": null,
   "metadata": {},
   "outputs": [],
   "source": []
  },
  {
   "attachments": {},
   "cell_type": "markdown",
   "metadata": {},
   "source": [
    "___\n",
    "### Qualidade do Classificador a partir de novas separações dos tweets entre Treinamento e Teste\n",
    "\n",
    "Caso for fazer esse item do Projeto"
   ]
  },
  {
   "cell_type": "code",
   "execution_count": null,
   "metadata": {},
   "outputs": [],
   "source": []
  },
  {
   "cell_type": "code",
   "execution_count": null,
   "metadata": {},
   "outputs": [],
   "source": []
  },
  {
   "cell_type": "code",
   "execution_count": null,
   "metadata": {},
   "outputs": [],
   "source": []
  },
  {
   "attachments": {},
   "cell_type": "markdown",
   "metadata": {},
   "source": [
    "___\n",
    "## Aperfeiçoamento:\n",
    "\n",
    "Trabalhos que conseguirem pelo menos conceito B vão evoluir em conceito dependendo da quantidade de itens avançados:\n",
    "\n",
    "* IMPLEMENTOU outras limpezas e transformações que não afetem a qualidade da informação contida nos tweets. Ex: stemming, lemmatization, stopwords\n",
    "* CONSIDEROU mais de duas categorias na variável Target e INCREMENTOU a quantidade de notícias, mantendo pelo menos 250 notícias por categoria (OBRIGATÓRIO PARA TRIOS, sem contar como item avançado)\n",
    "* Para Target com duas categorias: CRIOU pelo menos quatro categorias intermediárias de relevância baseadas na probabilidade: ex.: muito relevante, relevante, neutro, irrelevante, muito irrelevante\n",
    "* EXPLICOU porquê não pode usar o próprio classificador para gerar mais amostras de treinamento\n",
    "* PROPÔS diferentes cenários para Naïve Bayes fora do contexto do projeto (pelo menos dois cenários, exceto aqueles já apresentados em sala pelos professores: por exemplo, filtro de spam)\n",
    "* SUGERIU e EXPLICOU melhorias reais com indicações concretas de como implementar (indicar como fazer e indicar material de pesquisa)\n",
    "* FEZ o item Qualidade do Classificador a partir de novas separações das Notícias entre Treinamento e Teste descrito no enunciado do projeto (OBRIGATÓRIO para conceitos A ou A+)"
   ]
  },
  {
   "attachments": {},
   "cell_type": "markdown",
   "metadata": {},
   "source": [
    "___\n",
    "## Referências"
   ]
  },
  {
   "attachments": {},
   "cell_type": "markdown",
   "metadata": {},
   "source": [
    "[Naive Bayes and Text Classification](https://arxiv.org/pdf/1410.5329.pdf)  **Mais completo**\n",
    "\n",
    "[A practical explanation of a Naive Bayes Classifier](https://monkeylearn.com/blog/practical-explanation-naive-bayes-classifier/) **Mais simples**"
   ]
  },
  {
   "cell_type": "code",
   "execution_count": null,
   "metadata": {},
   "outputs": [],
   "source": []
  }
 ],
 "metadata": {
  "kernelspec": {
   "display_name": "base",
   "language": "python",
   "name": "python3"
  },
  "language_info": {
   "codemirror_mode": {
    "name": "ipython",
    "version": 3
   },
   "file_extension": ".py",
   "mimetype": "text/x-python",
   "name": "python",
   "nbconvert_exporter": "python",
   "pygments_lexer": "ipython3",
   "version": "3.9.7"
  },
  "vscode": {
   "interpreter": {
    "hash": "88279d2366fe020547cde40dd65aa0e3aa662a6ec1f3ca12d88834876c85e1a6"
   }
  }
 },
 "nbformat": 4,
 "nbformat_minor": 4
}
