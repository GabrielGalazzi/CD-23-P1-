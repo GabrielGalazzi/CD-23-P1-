{
 "cells": [
  {
   "attachments": {},
   "cell_type": "markdown",
   "metadata": {},
   "source": [
    "# Projeto 1 - Ciência dos Dados"
   ]
  },
  {
   "attachments": {},
   "cell_type": "markdown",
   "metadata": {},
   "source": [
    "Nome: Gabriel Oliveira Galazzi\n",
    "Nome: Guilherme Lemos"
   ]
  },
  {
   "attachments": {},
   "cell_type": "markdown",
   "metadata": {},
   "source": [
    "Atenção: Serão permitidos grupos de três pessoas, mas com uma rubrica mais exigente. Grupos deste tamanho precisarão fazer um questionário de avaliação de trabalho em equipe"
   ]
  },
  {
   "attachments": {},
   "cell_type": "markdown",
   "metadata": {},
   "source": [
    "___\n",
    "Carregando algumas bibliotecas:"
   ]
  },
  {
   "cell_type": "code",
   "execution_count": 1,
   "metadata": {},
   "outputs": [],
   "source": [
    "import pandas as pd\n",
    "import numpy as np\n",
    "import os\n",
    "\n",
    "\n",
    "from nltk.corpus import stopwords\n",
    "from nltk.tokenize import word_tokenize\n"
   ]
  },
  {
   "cell_type": "code",
   "execution_count": null,
   "metadata": {},
   "outputs": [],
   "source": []
  },
  {
   "cell_type": "code",
   "execution_count": 2,
   "metadata": {
    "scrolled": false
   },
   "outputs": [
    {
     "name": "stdout",
     "output_type": "stream",
     "text": [
      "Esperamos trabalhar no diretório\n",
      "c:\\Users\\GALAZZI\\Downloads\\Cdados 3 semestre\\Projeto 1\\CD-23-P1-\n"
     ]
    }
   ],
   "source": [
    "print('Esperamos trabalhar no diretório')\n",
    "print(os.getcwd())"
   ]
  },
  {
   "attachments": {},
   "cell_type": "markdown",
   "metadata": {},
   "source": [
    "Carregando a base de dados com os tweets classificados manualmente:"
   ]
  },
  {
   "cell_type": "code",
   "execution_count": 3,
   "metadata": {},
   "outputs": [],
   "source": [
    "filename1 = 'dados_treino.xlsx'\n",
    "filename2 = 'dados_teste.xlsx'"
   ]
  },
  {
   "cell_type": "code",
   "execution_count": 4,
   "metadata": {},
   "outputs": [
    {
     "data": {
      "text/html": [
       "<div>\n",
       "<style scoped>\n",
       "    .dataframe tbody tr th:only-of-type {\n",
       "        vertical-align: middle;\n",
       "    }\n",
       "\n",
       "    .dataframe tbody tr th {\n",
       "        vertical-align: top;\n",
       "    }\n",
       "\n",
       "    .dataframe thead th {\n",
       "        text-align: right;\n",
       "    }\n",
       "</style>\n",
       "<table border=\"1\" class=\"dataframe\">\n",
       "  <thead>\n",
       "    <tr style=\"text-align: right;\">\n",
       "      <th></th>\n",
       "      <th>A</th>\n",
       "      <th>Target</th>\n",
       "    </tr>\n",
       "  </thead>\n",
       "  <tbody>\n",
       "    <tr>\n",
       "      <th>0</th>\n",
       "      <td>Rasgos</td>\n",
       "      <td>0</td>\n",
       "    </tr>\n",
       "    <tr>\n",
       "      <th>1</th>\n",
       "      <td>Eu não compro esse livro!</td>\n",
       "      <td>0</td>\n",
       "    </tr>\n",
       "    <tr>\n",
       "      <th>2</th>\n",
       "      <td>a formatação no Kindle é ridícula, problema an...</td>\n",
       "      <td>0</td>\n",
       "    </tr>\n",
       "    <tr>\n",
       "      <th>3</th>\n",
       "      <td>Extremamente superficial o livro é carregado d...</td>\n",
       "      <td>1</td>\n",
       "    </tr>\n",
       "    <tr>\n",
       "      <th>4</th>\n",
       "      <td>Ainda aguardando baixar o preço. Absolutamente...</td>\n",
       "      <td>1</td>\n",
       "    </tr>\n",
       "  </tbody>\n",
       "</table>\n",
       "</div>"
      ],
      "text/plain": [
       "                                                   A Target\n",
       "0                                             Rasgos      0\n",
       "1                          Eu não compro esse livro!      0\n",
       "2  a formatação no Kindle é ridícula, problema an...      0\n",
       "3  Extremamente superficial o livro é carregado d...      1\n",
       "4  Ainda aguardando baixar o preço. Absolutamente...      1"
      ]
     },
     "execution_count": 4,
     "metadata": {},
     "output_type": "execute_result"
    }
   ],
   "source": [
    "train = pd.read_excel(filename1)\n",
    "train.head(5)"
   ]
  },
  {
   "cell_type": "code",
   "execution_count": 5,
   "metadata": {},
   "outputs": [
    {
     "data": {
      "text/html": [
       "<div>\n",
       "<style scoped>\n",
       "    .dataframe tbody tr th:only-of-type {\n",
       "        vertical-align: middle;\n",
       "    }\n",
       "\n",
       "    .dataframe tbody tr th {\n",
       "        vertical-align: top;\n",
       "    }\n",
       "\n",
       "    .dataframe thead th {\n",
       "        text-align: right;\n",
       "    }\n",
       "</style>\n",
       "<table border=\"1\" class=\"dataframe\">\n",
       "  <thead>\n",
       "    <tr style=\"text-align: right;\">\n",
       "      <th></th>\n",
       "      <th>Mensagem</th>\n",
       "      <th>Target</th>\n",
       "      <th>Unnamed: 2</th>\n",
       "    </tr>\n",
       "  </thead>\n",
       "  <tbody>\n",
       "    <tr>\n",
       "      <th>0</th>\n",
       "      <td>Não consigo ler .... Está muito confuso este s...</td>\n",
       "      <td>1</td>\n",
       "      <td>NaN</td>\n",
       "    </tr>\n",
       "    <tr>\n",
       "      <th>1</th>\n",
       "      <td>Eu quero saber pq se pagar por um leitor eletr...</td>\n",
       "      <td>0</td>\n",
       "      <td>NaN</td>\n",
       "    </tr>\n",
       "    <tr>\n",
       "      <th>2</th>\n",
       "      <td>Este livro pode ser interessante para as pesso...</td>\n",
       "      <td>1</td>\n",
       "      <td>NaN</td>\n",
       "    </tr>\n",
       "    <tr>\n",
       "      <th>3</th>\n",
       "      <td>Conteúdo superficial onde se propõe nas dicas ...</td>\n",
       "      <td>1</td>\n",
       "      <td>NaN</td>\n",
       "    </tr>\n",
       "    <tr>\n",
       "      <th>4</th>\n",
       "      <td>Péssima folha, muito fina a ponto de ver o que...</td>\n",
       "      <td>1</td>\n",
       "      <td>NaN</td>\n",
       "    </tr>\n",
       "  </tbody>\n",
       "</table>\n",
       "</div>"
      ],
      "text/plain": [
       "                                            Mensagem  Target Unnamed: 2\n",
       "0  Não consigo ler .... Está muito confuso este s...       1        NaN\n",
       "1  Eu quero saber pq se pagar por um leitor eletr...       0        NaN\n",
       "2  Este livro pode ser interessante para as pesso...       1        NaN\n",
       "3  Conteúdo superficial onde se propõe nas dicas ...       1        NaN\n",
       "4  Péssima folha, muito fina a ponto de ver o que...       1        NaN"
      ]
     },
     "execution_count": 5,
     "metadata": {},
     "output_type": "execute_result"
    }
   ],
   "source": [
    "test = pd.read_excel(filename2)\n",
    "test.head(5)"
   ]
  },
  {
   "attachments": {},
   "cell_type": "markdown",
   "metadata": {},
   "source": [
    "___\n",
    "## Classificador automático\n"
   ]
  },
  {
   "attachments": {},
   "cell_type": "markdown",
   "metadata": {},
   "source": [
    "Faça aqui uma descrição do seu assunto e o que considerou como relevante ou não relevante na classificação dos tweets (Target).\n",
    "\n",
    "Relevantes: Reviews com algum tipo de critica construtiva os elogios justificados ao jogo.\n",
    "Irrelevantes: Posts de figuras ASCII ou post de flaming (xingar o joga para ventilar raiva.)"
   ]
  },
  {
   "attachments": {},
   "cell_type": "markdown",
   "metadata": {},
   "source": [
    "___\n",
    "### Montando um Classificador Naive-Bayes\n",
    "\n",
    "Considerando apenas as mensagens da planilha Treinamento, ensine  seu classificador."
   ]
  },
  {
   "cell_type": "code",
   "execution_count": 6,
   "metadata": {},
   "outputs": [],
   "source": [
    "# ler arquivo pandas, transformar em arquivo txt (ou so uma variavel de string gigante), usar o cleanup no arquivo para remover pontuações indesejadas, contar cada palavra para cada categoria (relevante/irrelevante),\n",
    "# voltar ao df, percorrer o df com classificador, cada review é spliada (.split()) as palavras são indentificadas, multiplica a probabilidade de cada plavra ser relevante para a probabilidade da frase ser relevante e\n",
    "# multiplica a probabilidade de cada palavra ser irrelevante para a probabilidade da frase ser irrelevante.\n",
    "\n",
    "df_raw = pd.read_excel('C:/Users/GALAZZI/Downloads/Cdados 2 semestre 2/Projeto 1/23-1b-cd-p1-grupo_gabrielog/data/dados.xlsx', sheet_name='Treinamento')\n"
   ]
  },
  {
   "cell_type": "code",
   "execution_count": 7,
   "metadata": {},
   "outputs": [],
   "source": [
    "\n",
    "df_relevante = df_raw.loc[df_raw['target'] == 1]\n",
    "\n",
    "df_irrelevante = df_raw.loc[df_raw['target'] == 0]\n",
    "\n",
    "\n",
    "reviews_relevantes = df_relevante['review']\n",
    "\n",
    "reviews_irrelevantes = df_irrelevante['review']\n",
    "\n",
    "lista_reviews_relevantes = reviews_relevantes.to_list()\n",
    "\n",
    "lista_reviews_irrelevantes = reviews_irrelevantes.to_list()"
   ]
  },
  {
   "cell_type": "code",
   "execution_count": 8,
   "metadata": {},
   "outputs": [],
   "source": [
    "string_reviews_relevantes_raw = ''\n",
    "\n",
    "for i in range(len(lista_reviews_relevantes)):\n",
    "\n",
    "    string_reviews_relevantes_raw += str(lista_reviews_relevantes[i]) + ' '\n",
    "\n",
    "# ser a def cleanup nao estiver funcionando pode ser q vc converteu tudo pra string\n",
    "string_reviews_irrelevantes_raw = ''\n",
    "\n",
    "for i in range(len(lista_reviews_irrelevantes)):\n",
    "\n",
    "    string_reviews_irrelevantes_raw += str(lista_reviews_irrelevantes[i]) + ' '\n",
    "\n"
   ]
  },
  {
   "cell_type": "code",
   "execution_count": 9,
   "metadata": {},
   "outputs": [],
   "source": [
    "import re \n",
    "\n",
    "\n",
    "\n",
    "def cleanup1(text):\n",
    "    \"\"\"\n",
    "        Função de limpeza muito simples que troca alguns sinais básicos por espaços\n",
    "    \"\"\"\n",
    "    #import string\n",
    "    punctuation = '[´\"!-/.:?;$''^\\_`()\\¨~%·¸=\\\\\\]' # Note que os sinais [] são delimitadores de um conjunto.\n",
    "    pattern = re.compile(punctuation)\n",
    "    text_subbed = re.sub(pattern, '', text)\n",
    "    return text_subbed\n",
    "\n",
    "string_reviews_relevantes_semilimpa = cleanup1(string_reviews_relevantes_raw)\n",
    "\n",
    "string_reviews_irrelevantes_semilimpa = cleanup1(string_reviews_irrelevantes_raw)\n",
    "\n"
   ]
  },
  {
   "cell_type": "code",
   "execution_count": 10,
   "metadata": {},
   "outputs": [],
   "source": [
    "def cleanup2(text):\n",
    "    \"\"\"\n",
    "        Função de limpeza muito simples que troca alguns sinais básicos por espaços\n",
    "    \"\"\"\n",
    "    #import string\n",
    "    punctuation = '[\\n\\t¯]' # Note que os sinais [] são delimitadores de um conjunto.\n",
    "    pattern = re.compile(punctuation)\n",
    "    text_subbed = re.sub(pattern, ' ', text)\n",
    "    return text_subbed\n",
    "\n",
    "\n",
    "string_reviews_relevantes_quaselimpa = cleanup2(string_reviews_relevantes_semilimpa)\n",
    "\n",
    "string_reviews_irrelevantes_quaselimpa = cleanup2(string_reviews_irrelevantes_semilimpa)\n",
    "\n",
    "lista_remover = ['ツ', '[ b]','[b]', '[ i]', '[i]', '[h1]', '[ h1]', '[*]', '[ list]','[list]', '[spoiler]', '[ spoiler]', '', '\\t', 'ツ', '_', '+', '[strike]', '[ strike]',  '\\\\', '[]', '[url=https]', '[ url]', '[', ']',]\n",
    "\n",
    "\n",
    "\n",
    "\n",
    "string_reviews_relevantes_limpa = ''\n",
    "\n",
    "for i in lista_remover:\n",
    "    if string_reviews_relevantes_limpa == '':\n",
    "        string_reviews_relevantes_limpa = string_reviews_relevantes_quaselimpa \n",
    "    string_reviews_relevantes_limpa = string_reviews_relevantes_limpa.replace(i,'')\n",
    "\n",
    "string_reviews_irrelevantes_limpa = ''\n",
    "\n",
    "for j in lista_remover:\n",
    "    if string_reviews_irrelevantes_limpa == '':\n",
    "        string_reviews_irrelevantes_limpa = string_reviews_irrelevantes_quaselimpa \n",
    "    string_reviews_irrelevantes_limpa = string_reviews_irrelevantes_limpa.replace(j,'')\n",
    "\n",
    "\n",
    "\n"
   ]
  },
  {
   "cell_type": "code",
   "execution_count": 11,
   "metadata": {},
   "outputs": [],
   "source": [
    "#remover stop words\n",
    "\n",
    "stop_words = set(stopwords.words('portuguese'))\n",
    "\n",
    "\n",
    "\n",
    "\n",
    "\n"
   ]
  },
  {
   "cell_type": "code",
   "execution_count": 12,
   "metadata": {},
   "outputs": [],
   "source": [
    "#tudo aquilo so que pra base de teste"
   ]
  },
  {
   "cell_type": "code",
   "execution_count": 13,
   "metadata": {},
   "outputs": [
    {
     "name": "stdout",
     "output_type": "stream",
     "text": [
      "['Jogo', 'divertido', 'potencial', 'neste', 'exato', 'momento', 'recomendo', 'recebe', 'atualizações', 'imensas', 'todos', 'dias', 'muda', 'nada', 'baixa', 'atualização', 'joga', 'pessimamente', 'otimizado', 'jogo', 'pesado', 'pouco', 'gráfico', 'oferece', 'diversos', 'bugs', 'honestamente', 'falta', 'jogo', 'valer', 'pena', 'vai', 'outro', 'jogo', 'acesso', 'antecipado', 'vai', 'ficar', 'nesse', 'estagio', 'eternamente', 'jogo', 'divertido', 'dinâmico', 'Tentem', 'explorar', 'sprays', 'armas', 'conseguir', 'bons', 'kill', 'media', 'curta', 'distância', 'Vale', 'pena', 'comprar', 'game', 'This', 'Game', 'is', 'incredible', 'Im', 'currently', 'using', 'it', 'to', 'make', 'the', 'maps', 'Pirate', 'DD', 'campaign', 'of', 'mine', 'and', 'I', 'sincerely', 'cant', 'think', 'of', 'any', 'flaws', 'without', 'nitpicking', 'but', 'I', 'have', 'some', 'sugestions', '1', 'cinematic', 'camera', 'I', 'would', 'really', 'enjoy', 'being', 'able', 'to', 'set', 'up', 'better', 'photos', 'of', 'the', 'towns', 'I', 'built', 'the', 'current', 'camera', 'controls', 'are', 'great', 'building', 'but', 'not', 'very', 'good', 'photos', '2', 'walk', 'mode', 'I', 'would', 'love', 'to', 'able', 'to', 'just', 'walk', 'through', 'my', 'town', 'and', 'look', 'at', 'it', 'the', 'way', 'the', 'people', 'living', 'there', 'would', '3', 'More', 'grid', 'customization', 'The', 'current', 'grid', 'system', 'is', 'very', 'good', 'but', 'it', 'could', 'deal', 'with', 'some', 'customization', 'Please', 'dont', 'let', 'these', 'points', 'bum', 'you', 'the', 'game', 'is', 'absolutely', 'worth', 'the', 'purchase', 'it', 'is', 'extremely', 'fun', 'to', 'mess', 'around', 'with', 'and', 'can', 'result', 'in', 'towns', 'so', 'beautiful', 'that', 'you', 'didnt', 'even', 'know', 'you', 'could', 'make', 'them', 'Overall', '1010', '850', 'horas', 'rust', 'jogo', 'bom', 'causa', 'interface', 'deixa', 'desejar', 'troca', 'tiro', 'pvp', 'AK47', 'recoil', 'enorme', 'ruim', 'contar', 'acertar', '4', 'tiros', 'pra', 'matar', 'sendo', 'acertar', '2', 'lanças', 'cara', 'morre', 'resumindo', 'armas', 'fogo', 'fracas', 'parte', 'ação', 'fica', 'bosta', 'parte', 'construção', 'boa', 'suainterface', 'espero', 'melhore', 'pois', 'parei', 'jogar', 'conta', 'PVP', 'ruim', 'inicialmente', 'vê', 'Hollow', 'Knight', 'loja', 'geralmente', 'espera', 'jogo', 'arte', 'boa', 'musica', 'daora', 'partir', 'momento', 'jogatina', 'iniciada', 'logo', 'perceptível', 'complexidade', 'Hollow', 'Knight', 'conta', 'história', 'reino', 'decadente', 'escolhas', 'erradas', 'tiranias', 'deuses', 'malignos', 'guerreiros', 'falhos', 'jogo', 'sobre', 'fracasso', 'entidade', 'ciumenta', 'capaz', 'estragar', 'tudo', 'Considero', 'lore', 'jogo', 'juntamente', 'OST', 'algo', 'unico', 'pouquíssimos', 'jogos', 'podem', 'equiparar', 'menos', 'ainda', 'superálo', 'novamente', 'jogo', 'fica', 'música', 'legal', 'história', 'boa', 'arte', 'desse', 'jogo', 'FENOMENAL', 'todo', 'feito', 'mão', 'detalhes', 'aparentem', 'Cuphead', 'ainda', 'acho', 'arte', 'HK', 'melhor', 'acrescentar', 'história', 'worldbuilding', 'invejável', 'cada', 'detalhezinho', 'minúsculo', 'mapa', 'cada', 'partícula', 'meticulosamente', 'pensada', 'pra', 'ali', 'certa', 'área', 'jogo', 'muda', 'após', 'evento', 'percebe', 'peso', 'ações', 'tudo', 'tão', 'bem', 'feito', 'impressionante', 'Agora', 'parte', 'desafiadora', 'jogo', 'combate', 'acho', 'nível', 'dark', 'souls', 'menos', 'Cuphead', 'vida', 'lutas', 'extremamente', 'dificeis', 'bosses', 'padrões', 'ataques', 'imprevisiveis', 'algo', 'acho', 'incrivel', 'jogo', 'cada', 'chefe', 'vai', 'adicionando', 'complexidade', 'pra', 'história', 'conforme', 'vai', 'derrotando', 'adicionando', 'catálogo', 'lá', 'informações', 'sobre', 'obviamente', 'nada', '100', 'claro', 'conforme', 'vai', 'derrotando', 'outros', 'chefes', 'informações', 'vão', 'complementando', 'relação', 'progressão', 'personagem', 'habilidades', 'parte', 'acho', 'inovador', 'pouco', 'diversificado', 'inicia', '5', 'pontos', 'vida', 'pode', 'regenerar', 'alma', 'coisa', 'repõe', 'batendo', 'inimigos', 'pode', 'pegar', 'fragmentos', 'vida', 'alma', 'juntar', '3', 'ganha', '1', 'ponto', 'vida', '1', 'carga', 'alma', 'possível', 'melhorar', 'espada', '3', 'tipos', 'feitiços', 'atira', 'pra', 'frente', 'outro', 'pra', 'cima', 'outro', 'pra', 'baixo', 'ar', 'além', 'disso', 'parte', 'trinkets', 'onde', '40', 'cada', 'melhoria', 'diferente', 'vai', 'alcance', 'espada', 'dano', 'permitir', 'uso', 'minions', 'Enfim', 'acho', 'ja', 'estendi', 'demais', 'possível', 'leia', 'tudo', 'jogo', 'hentai', 'inseto10', 'Hollow', 'Night', 'ótimo', 'jogo', 'exploração', 'quanto', 'descobre', 'coisas', 'novas', 'quer', 'continuar', 'explorando', 'começo', 'pouco', 'preconceito', 'jogo', '2D', 'temática', 'sombria', 'insetos', 'atraiu', 'contudo', 'surpreendi', 'Apesar', 'ter', 'temática', 'sombria', 'sente', 'ambientação', 'pesada', 'musicas', 'excelentes', 'arte', 'jogo', 'impressiona', 'cada', 'vez', 'muda', 'área', 'após', 'terminar', 'Lore', 'principal', 'jogo', 'explorar', 'falar', 'DLCs', 'completamente', 'graça', 'inseridas', 'jogo', 'dificuldade', 'atrativo', 'muitos', 'bosses', 'difíceis', 'sente', 'motivado', 'derrotar', 'continuar', 'explorando', 'área', 'torna', 'algo', 'cansativo', 'duvida', 'jogo', 'pode', 'facilmente', 'jogar', 'vez', 'enjoar', 'Joguei', '1', '2', 'sendo', 'primeiro', 'deste', 'épocas', 'antigas', 'máquinas', 'fliperamas', 'modo', 'single', 'player', 'diverte', 'modo', 'multiplayer', 'vazio', 'vale', 'observação', 'praticamente', 'qualquer', 'oponente', 'ventura', 'encontrar', 'valerá', 'várias', 'técnicas', 'combos', 'infinitos', 'disponíveis', 'ideia', 'combos', 'infinitos', 'agrada', 'Vá', 'frente', 'prefere', 'luta', 'certa', 'cadência', 'estratégia', 'existia', 'versões', 'antigas', 'então', 'jogo', 'recomendável', 'jogo', 'bom', 'relação', 'CODs', 'recentes', 'modo', 'online', 'gostei', 'sistema', 'divisões', 'armas', 'quantidade', 'mapas', 'pouca', 'pacote', 'DLC', 'caro', 'contar', 'falta', 'suporte', 'PC', 'falta', 'servidores', 'dedicados', 'tornando', 'quase', 'impossível', 'encontrar', 'salas', 'BR', 'outros', 'modos', 'além', 'matamata', 'equipe', 'campanha', 'singleplayer', 'boa', 'gostei', 'recomendo', 'comprar', 'PC', 'acho', 'preço', 'vale', 'produto', 'PONTOS', 'POSITIVOS', '1', 'Game', 'bons', 'gráficos', '2', 'Boa', 'jogabilidade', '3', 'Divertido', '4', 'Bons', 'assassinos', 'sobreviventes', 'PONTOS', 'NEGATIVOS', '1', 'Jogo', 'Pesado', 'roda', 'bem', 'pcs', 'medianos', '2', 'Bugs', 'excessivos', 'porém', 'chatos', 'Análise', 'jogo', 'bom', 'divertido', 'animado', 'engraçado', 'bonito', 'jogo', 'melhor', 'muitos', 'comparam', 'boa', 'jogabilidade', 'jogo', 'boas', 'DLCS', 'THE', 'SAW', 'CHAPTER', 'THE', 'HALLOWEEN', 'CHAPTER', 'NIGHTMARE', 'ON', 'ELM', 'STREET', 'puderem', 'comprem', 'jogo', 'DLCs', 'vale', 'NOTA', '98', 'Após', 'ficar', '100', 'horas', 'multiplayer', 'Divertido', 'bastante', 'tomei', 'coragem', 'jogar', 'campanha', 'zerei', 'duas', 'vezes', 'dificuldade', 'máxima', 'apenas', 'primeira', 'vez', 'joguei', 'gráficos', 'low', 'segunda', 'oportunidade', 'jogar', 'gráficos', 'tudo', 'talo', 'Infelizmente', 'Doom', 'apenas', 'saudosismo', 'passado', 'destaque', 'apenas', 'impacto', 'causou', 'dia', 'diferente', 'jogos', 'tiro', 'militares', 'atuais', 'engane', 'Doom', 'longe', 'Doom', 'fato', 'campanha', 'bastante', 'longa', 'algo', 'raro', 'ver', 'jogos', 'FPS', 'hoje', 'dia', 'todavia', 'jogo', 'planejado', 'rodar', 'consoles', 'PC', 'campanha', 'limitada', 'bastante', 'inferior', 'clássicos', 'começar', 'level', 'design', 'tenta', 'lembrar', 'antigos', 'várias', 'rotas', 'fazer', 'porém', 'mapas', 'resumem', 'apenas', 'ir', 'frente', 'ir', 'outro', 'canto', 'pegar', 'colecionável', 'cenário', 'clássicos', 'onde', 'existiam', 'muitas', 'rotas', 'fazer', 'decidia', 'maneira', 'começar', 'fazer', 'fase', 'seguir', 'próxima', 'locais', 'secretos', 'ofereciam', 'outras', 'coisas', 'além', 'itens', 'colecionáveis', 'aumentar', 'pontuação', 'fase', 'única', 'fase', 'realmente', 'boa', 'lembra', 'tempos', 'clássicos', 'terceira', 'fase', 'pois', 'nela', 'precisa', 'seguir', 'rota', 'planejada', 'desenvolvedores', 'objetivos', 'pode', 'decidir', 'quer', 'começar', 'fazer', 'além', 'segredo', 'oferecer', 'arma', 'apenas', 'pegaria', 'quarta', 'fase', 'todas', 'outras', 'sempre', 'seguindo', 'linha', 'reta', 'piorar', 'jogo', 'sempre', 'cria', 'arenas', 'onde', 'precisa', 'eliminar', 'X', 'inimigos', 'avançar', 'pra', 'próxima', 'parte', 'fase', 'onde', 'outra', 'arena', 'matar', 'X', 'inimigos', 'fica', 'entendiante', 'passar', 'tempo', 'além', 'fato', 'jogo', 'conseguir', 'aguentar', 'ter', '6', 'monstros', 'tela', 'pesar', 'demais', 'consoles', 'tanto', 'editor', 'mapas', 'desse', 'jogo', 'limitado', 'chefes', 'desapontam', 'bastante', 'luta', 'si', 'sim', 'arenas', 'todas', 'formato', 'circular', 'precisa', 'ter', 'muita', 'mobilidade', 'apenas', 'mover', 'lado', 'outro', 'disparar', 'morrer', 'multiplayer', 'game', 'apesar', 'ter', 'falta', 'balanço', 'armas', 'bastante', 'divertido', 'recomendaria', 'jogo', 'modo', 'jogo', 'apenas', 'claro', 'ainda', 'vivo', 'presente', 'data', 'escrevo', 'análise', 'jogo', 'mal', 'feito', 'modo', 'algum', 'verdade', 'jogo', 'execução', 'exemplar', 'Gráficos', 'animações', 'dublagem', 'cenário', 'jogabilidade', 'prestam', 'excelente', 'serviço', 'chatice', 'Rise', 'of', 'the', 'Tomb', 'Raider', 'Difícil', 'definir', 'torna', 'tão', 'chato', 'tantas', 'qualidades', 'impressionam', 'ainda', 'assim', 'jogo', 'falha', 'prender', 'atenção', 'começar', 'história', 'extremamente', 'desinteressante', 'baseada', 'teoria', 'conspiração', 'organização', 'secreta', 'controla', 'rumos', 'história', 'desde', 'homem', 'homem', 'manipula', 'todos', 'grandes', 'poderes', 'história', 'exemplo', 'igreja', 'católica', 'mongóis', 'exército', 'vermelho', 'império', 'bizantino', 'Desnecessário', 'dizer', 'porque', 'tão', 'chato', 'torna', 'todos', 'elementos', 'históricos', 'insignificantes', 'manifestações', 'coisa', 'maligna', 'poderosa', 'antagonista', 'Lara', 'Croft', 'extremamente', 'aborrecida', 'Dizem', 'desenvolvedores', 'criaram', 'mulher', 'sobrevivente', 'forte', 'jogo', 'todas', 'obsessões', 'qualidades', 'defeitos', 'Lara', 'resumem', 'complexo', 'mal', 'resolvido', 'pai', 'enfim', 'exército', 'vilões', 'estupidamente', 'maus', 'jogador', 'fique', 'consciência', 'limpa', 'matar', 'tantos', 'quanto', 'encontrar', 'Tratase', 'enfim', 'jogo', 'termina', 'começou', 'nunca', 'existido', 'exatamente', 'ruim', 'bem', 'longe', 'bom', 'apenas', 'completamente', 'facilmente', 'esquecível', 'UPDATE', 'Deixa', 'ver', 'entendi', 'Além', 'comprar', 'jogo', 'vou', 'ter', 'comprar', 'agora', 'todos', 'mapas', 'sairem', '30', 'conto', 'cada', 'estado', 'EUA', 'jogo', 'tá', 'anos', 'mercado', 'demora', 'absurda', 'pra', 'sair', 'novos', 'mapas', 'ainda', 'vem', 'DLC', 'paga', 'Jogo', 'parece', 'mod', 'euro', 'truck', 'tanto', 'reaproveitamento', 'torna', 'jogo', 'ruim', 'melhorias', 'sistema', 'mapas', 'sendo', 'lançado', 'poucos', 'pessoa', 'aproveitar', 'máximo', 'cada', 'parte', 'país', 'Prós', 'Realismo', 'Contras', 'demora', 'lançamento', 'novos', 'mapas', 'ruim', 'Jogo', 'lançado', 'extremamente', 'cru', 'ainda', 'apesar', 'ótimos', 'gráficos', 'jogabilidade', 'péssima', 'zumbis', 'demais', 'players', 'andam', 'teletransportando', 'todos', 'reclamavam', 'disso', 'chat', 'ingame', 'joguei', 'duas', 'horas', 'encontrei', 'dezenas', 'itens', 'serviram', 'nada', 'consegui', 'craftar', 'nada', 'encontrei', 'arma', 'nenhuma', 'encontrei', 'poucos', 'itens', 'fiz', 'algum', 'uso', 'Simplesmente', 'joguei', 'algumas', 'horas', 'objetivo', 'algum', 'arma', 'pvp', 'manual', 'craftar', 'algo', 'nada', 'interessante', 'fazer', 'recomendo', 'Daqui', 'alguns', 'meses', 'reviews', 'melhorarem', 'dou', 'outra', 'chance', 'Jogo', 'Fantástico', 'Mistura', 'L4Dead', 'Resident', 'Evil', 'The', 'Walking', 'Dead', 'Velho', 'Oeste', 'Claro', 'problemas', 'otimização', 'pois', 'ALPHA', 'Excelente', 'game', 'valeu', 'cada', 'centavo', 'Pode', 'comprar', 'vai', 'melhorar', 'bom', 'jrpg', 'graficos', 'bonitos', 'acho', 'faltou', 'legenda', 'pt', 'br', 'game', 'ação', 'aventura', 'beira', 'perfeição', 'completo', 'antecessor', 'game', 'traz', 'conteúdo', 'jogabilidade', 'impecável', 'Modo', 'história', 'excelente', 'envolvente', 'Muitos', 'colecionáveis', 'desafios', 'missões', 'muita', 'coisa', 'explorada', 'game', 'ainda', 'traz', 'alguns', 'modos', 'jogo', 'bastante', 'interessantes', 'desafiadores', 'sistema', 'meta', 'pontos', 'sobrevivência', 'Graficamente', 'jogo', 'praticamente', 'Crysis', 'dias', 'atuais', 'Exige', 'bastante', 'máquina', 'retribui', 'gráficos', 'efeitos', 'fantásticos', 'jogo', 'comprei', 'pré', 'venda', 'valeu', 'cada', 'centavo', 'jogo', 'recomendavel', 'arte', 'achei', 'bem', 'atraente', 'gostei', 'bastande', 'historia', 'falar', 'religião', 'involve', 'demonios', 'newgrounds', 'ja', 'esperar', 'jogabilidade', 'boa', 'coisa', 'gostei', 'musica', 'incrivel', 'jogo', 'memoravel', 'todos', 'tempos', 'mim', 'game', 'visual', 'novel', 'interessante', 'apresenta', 'personagens', 'pode', 'obter', 'certa', 'simpatia', 'história', 'coisa', 'pode', 'dizer', 'ruim', 'fantástica', 'apenas', 'razoável', 'personagens', 'mencionei', 'bons', 'embora', 'alguns', 'personagens', 'algumas', 'pessoas', 'gostam', 'famosos', 'Dere', 'Dere', 'gosto', 'gente', 'gosta', 'Outro', 'problema', 'notei', 'glitches', 'sei', 'história', 'pegar', 'alguém', 'sabe', 'história', 'vão', 'pensar', 'problema', 'jogo', 'então', 'jogo', 'pode', 'dropado', 'então', 'deveriam', 'menos', 'colocar', 'aviso', 'problema', 'naquele', 'notepad', 'tracebacktxt', 'l', 'porque', 'amigo', 'dropou', 'jogo', 'pois', 'achou', 'jogo', 'bugado', 'erros', 'então', 'avisálos', 'apenas', 'elemento', 'história', 'Além', 'disso', 'jogo', 'bem', 'legal', 'coisa', 'Just', 'Monika', 'Poucas', 'pistas', 'geração', 'pista', 'começa', 'ver', 'repetição', 'etapas', 'mesma', 'coisa', 'relação', 'torneios', 'fica', 'repetitivo', 'perde', 'graça', '10', 'Hrs', 'jogo', 'acho', 'jogaria', 'enjoaria', 'Sistema', 'garagem', 'fraco', 'muitos', 'carros', 'relação', 'anteriores', 'texturas', 'jogo', 'época', 'PS3', 'sendo', 'inferior', 'jogos', 'anteriores', 'tudo', 'ultra', 'resolve', 'ainda', 'pesado', 'jogo', 'certo', 'esperava', 'revolução', 'gráfico', 'estilo', 'FH3', 'cadê', 'capricho', 'versões', 'console', 'PC', 'mesmos', 'gráficos', 'vegetações', 'papel', 'Recomendo', 'pegar', 'promoção', 'Boa', 'historia', 'narrativa', 'Ótimo', 'mundo', 'Jogável', 'hoje', 'começo', 'achei', 'pouco', 'maçante', 'chato', 'relação', 'DOOM', '2016', 'porem', 'passar', 'algumas', 'fases', 'vai', 'ficando', 'bem', 'melhor', 'bom', 'desse', 'DOOM', 'corrigiram', 'dificuldade', 'onde', 'DOOM', '2016', 'modo', 'PesadeloNightmare', 'ainda', 'fácil', 'demais', 'agora', 'jogar', 'modo', 'Pesadelo', 'realmente', 'pesadelo', 'principalmente', 'pra', 'passar', 'modos', 'arena', 'Slayer', 'Gate', 'inferno', 'ultra', 'hard', 'jogo', 'lindo', 'boas', 'mecânicas', 'sistema', 'incrível', 'RPG', 'coisa', 'faz', 'sentido', 'criarem', 'jogo', 'feito', 'jogado', 'COOP', 'multiplayer', 'simplesmente', 'CONEXÃO', 'CAIR', 'FICAR', 'APARECENDO', 'TEMPO', 'INTEIRO', 'ERRO', '83MW1', 'PERDA', 'CONEXÃO', 'SERVIDORES', 'ONLINE', 'Game', 'consegue', 'ter', 'conexão', 'pior', 'Honor', 'amigos', 'compramos', 'game', 'condições', 'jogar', 'conseguimos', 'jogar', 'Game', 'propôs', 'imersão', 'Game', 'coop', 'amigos', 'enquanto', 'avaliação', 'neste', 'Game', 'negativa', 'tragam', 'servidores', 'qualidade', 'jogo', 'bom', 'ideia', 'divertida', 'impossível', 'jogar', 'sozinho', 'começar', 'aprender', 'comunidade', 'tóxica', 'matchmaking', 'péssimo', 'joguei', 'contra', 'rank', '1', '6', '8', '11', 'sendo', 'killer', 'rank', '18', 'completamente', 'desanimador', 'pra', 'ta', 'começando', 'falar', 'vai', 'survivor', 'jogar', 'sozinho', 'cara', 'simplesmente', 'ti', 'abandona', 'tão', 'pouco', 'fudendo', 'recomendo', 'nenhum', 'pouco', 'gastar', 'dinheiro', 'jogo', 'tão', 'negligenciado', 'jogo', 'otimo', 'melhores', 'polidos', 'survival', 'dentre', 'categoria', 'OPNIÃO', 'ficando', 'frente', 'Dark', 'and', 'Light', 'Ark', 'Atlas', 'demais', 'nivel', 'detalhamento', 'incrivel', 'vai', 'desde', 'pegadas', 'areia', 'gotas', 'chuva', 'caindo', 'sobre', 'armadura', 'outros', 'itens', 'unico', 'defeito', 'nao', 'jogo', 'finalizado', 'falta', 'ter', 'variedade', 'itens', 'variedade', 'criação', 'personagem', 'interação', 'voz', 'prédefinido', 'assim', 'comando', 'voz', 'CS', 'onde', 'algumas', 'falas', 'podem', 'ditas', 'montarias', 'animais', 'utilizaveis', 'RESIDENT', 'EVIL', '7', 'maravilhoso', 'jogo', 'grande', 'franquia', 'veio', 'apostando', 'alto', 'varias', 'mudanças', 'jogabilidade', 'primeira', 'pessoa', 'chamativo', 'primeira', 'olhada', 'própria', 'historia', 'jogo', 'localização', 'focada', 'maximizar', 'terror', 'dar', 'menos', 'atenção', 'ação', 'assim', 'jogo', 'momentos', 'adrenalina', 'batalhas', 'contra', 'chefes', 'DLCs', 'gráficos', 'lindos', 'parte', 'técnica', 'funciona', 'bem', 'efeitos', 'sonoros', 'perfeitos', 'bastante', 'pra', 'explorado', 'todo', 'jogo', 'puzzles', 'aparecem', 'bastante', 'personagens', 'bem', 'trabalhados', 'historia', 'começa', 'devagar', 'confusa', 'logo', 'torna', 'interessante', 'ligada', 'resto', 'franquia', 'dlcs', 'focadas', 'historia', 'ótimas', 'puzzles', 'principalmente', '21', 'bons', 'passatempos', 'modos', 'sobrevivência', 'acho', 'dispensáveis', 'Provavelmente', 'sequencia', 'desse', 'jogo', 'vai', 'ter', 'apresentar', 'diferenças', 'experiência', 'ótima', 'repetir', 'dose', 'vai', 'perder', 'sensação', 'rapidamente', 'trama', 'geral', 'fica', 'meio', 'parada', 'neste', 'tipo', 'variação', 'RESIDENT', 'EVIL', '7', 'is', 'wonderful', 'game', 'of', 'great', 'franchise', 'that', 'came', 'betting', 'high', 'on', 'several', 'changes', 'Firstperson', 'gameplay', 'is', 'the', 'most', 'eyecatching', 'at', 'first', 'glance', 'but', 'the', 'story', 'of', 'the', 'game', 'itself', 'and', 'its', 'location', 'is', 'focused', 'on', 'maximizing', 'terror', 'and', 'giving', 'less', 'attention', 'to', 'action', 'yet', 'the', 'game', 'has', 'its', 'adrenaline', 'moments', 'in', 'battles', 'against', 'bosses', 'and', 'on', 'the', 'DLCs', 'The', 'graphics', 'are', 'beautiful', 'and', 'the', 'technical', 'part', 'works', 'well', 'the', 'sound', 'effects', 'are', 'perfect', 'and', 'there', 'is', 'enough', 'to', 'be', 'explored', 'throughout', 'the', 'game', 'the', 'puzzles', 'also', 'appear', 'lot', 'and', 'the', 'characters', 'are', 'well', 'worked', 'the', 'story', 'begins', 'slowly', 'and', 'confused', 'but', 'soon', 'becomes', 'more', 'interesting', 'and', 'linked', 'to', 'the', 'rest', 'of', 'the', 'franchise', 'The', 'dlcs', 'focused', 'on', 'the', 'story', 'are', 'great', 'and', 'the', 'puzzles', 'ones', 'mainly', '21', 'are', 'good', 'pastimes', 'the', 'survival', 'modes', 'I', 'think', 'are', 'dispensable', 'Probably', 'the', 'sequence', 'of', 'this', 'game', 'will', 'have', 'to', 'show', 'differences', 'an', 'experiment', 'was', 'great', 'but', 'if', 'repeat', 'the', 'dose', 'will', 'lose', 'the', 'sensation', 'quickly', 'the', 'general', 'plot', 'also', 'gets', 'little', 'stopped', 'in', 'this', 'type', 'of', 'variation', 'Fiquei', 'pensando', 'comprava', 'época', 'lançamento', 'Doom', 'legal', 'primórdios', 'época', 'onde', 'jogava', 'amigos', 'acho', '4', 'players', 'sei', 'lá', 'lembro', 'alguns', 'programas', 'conseguia', 'simular', 'rede', 'jogava', 'internet', 'Bons', 'momentos', 'jogava', 'campanha', 'coop', 'novo', 'DOOM', 'Propaganda', 'enganosa', 'página', 'jogo', 'diz', 'Single', 'Player', 'Multijogador', 'Coop', 'coop', 'single', 'player', 'matamata', 'Jogos', 'PVP', 'funcionam', 'Brasil', 'ter', 'lag', 'lag', 'hackers', 'recomendo', 'jogo', '15', 'minutos', 'qualquer', 'pessoa', 'precisa', 'perceber', 'UNDERTALE', 'único', 'introdução', 'faz', 'excelente', 'trabalho', 'apresentar', 'tudo', 'diferente', 'capturar', 'atenção', 'jogador', 'quase', 'imediatamente', 'algum', 'motivo', 'alguém', 'decidir', 'abandonar', 'game', 'após', 'sair', 'ruínas', 'boa', 'ideia', 'trata', 'porque', 'especial', 'primeiros', 'minutos', 'jogo', 'caracterizado', 'RPG', 'claras', 'influências', 'escola', 'japonesa', 'gênero', 'Pouco', 'pouco', 'características', 'desconstruídas', 'restarem', 'diferenças', 'semelhanças', 'estilo', 'diferença', 'notável', 'propagandeada', '“', 'RPG', 'ninguém', 'precisa', 'morrer', '”', 'primeiros', 'tutoriais', 'título', 'falta', 'afirmar', 'todas', 'letras', 'Segundo', 'Toriel', 'personagem', 'guia', 'jogadores', 'introdução', 'literalmente', 'segurandoos', 'mãos', 'lutar', 'basta', 'conversar', 'monstro', 'resolver', 'coisas', 'forma', 'amigável', 'nenhum', 'momento', 'ensina', 'atacar', 'oponente', '—', 'monstros', 'poderosos', 'podem', 'convencidos', 'desistir', 'conflitos', 'pacificamente', 'simples', 'fato', 'dessa', 'possibilidade', 'existir', 'vai', 'contra', 'todas', 'expectativas', 'gênero', 'RPGs', '“', 'comuns', '”', 'afinal', 'muitas', 'vezes', 'passam', 'fonte', 'abnegação', 'abusam', 'prazer', 'inato', 'conseguir', 'níveis', 'experiência', 'dinheiro', 'cada', 'vitória', 'aqui', 'escolha', 'caminho', 'decidir', 'tomar', 'persegue', 'sempre', 'Apesar', 'disso', 'sempre', 'caminho', 'poupar', 'monstro', 'óbvio', 'matar', 'ninguém', 'desafio', 'parte', 'Curiosamente', 'maior', 'dificuldade', 'manter', 'mãos', 'limpas', 'justamente', 'quão', 'interessante', 'sujálas', 'sistema', 'combate', 'surpreendentemente', 'original', 'divertido', 'Misturando', 'tradicional', 'jogabilidade', 'turnos', 'aspectos', 'tempo', 'real', 'lembra', 'pouco', 'Mario', 'Luigi', 'Superstar', 'Saga', 'GBA', 'menos', 'ofensiva', 'preciso', 'apertar', 'botão', 'ataque', 'momento', 'certo', 'golpes', 'efetivos', 'cada', 'arma', 'possuindo', 'próprio', 'tempo', 'reação', 'turno', 'monstro', 'qualquer', 'similaridade', 'outros', 'títulos', 'gênero', 'jogada', 'espaço', 'defesa', 'parece', 'shoot', '‘', 'up', 'qualquer', 'outra', 'coisa', 'sendo', 'necessário', 'desviar', 'balas', 'objetos', 'representam', 'golpes', 'monstros', 'visual', 'execução', 'insanamente', 'excêntricos', 'possível', 'comparar', 'alguma', 'obra', 'anterior', 'provavelmente', 'série', 'Cho', 'Aniki', 'pouco', 'menos', 'tensão', 'sexual', 'homoafetiva', 'odas', 'características', 'mecânicas', 'suficiente', 'tornar', 'título', 'único', 'Entretanto', 'valor', 'mecânicas', 'aqui', 'servir', 'outro', 'elemento', 'jogo', 'narrativa', '15', 'minutos', 'qualquer', 'pessoa', 'precisa', 'perceber', 'UNDERTALE', 'único', 'mecanicamente', 'tempo', 'necessário', 'narrativa', 'dê', 'soco', 'direto', 'boca', 'estômago', 'faça', 'perguntar', '“', 'diabos', '”', 'Pontos', 'positivos', 'Diversão', 'despretensiosa', 'simples', 'Fácil', 'intuitivo', 'iniciar', 'Torna', 'jogo', 'viciante', 'Level', 'design', 'funcional', 'Gameplay', 'consegue', 'casual', 'hardcore', 'dependendo', 'nível', 'aprendizado', 'Sons', 'extremamente', 'imersivos', 'Física', 'balas', 'notavelmente', 'interessante', 'Cheio', 'situações', 'interessantes', 'presenciar', 'Pontos', 'negativos', 'Updates', 'pesados', 'modo', 'desnecessário', 'Cheio', 'bugs', 'física', 'Excesso', 'hackers', 'Suporte', 'horroroso', 'Otimização', 'porca', 'Ausência', 'algum', 'modo', 'treino', 'básico', 'Loop', 'repetição', 'tedioso', 'tempo', 'experiência', 'pontos', 'negativos', 'superiores', 'positivos', 'motivo', 'jogo', 'recomendo', 'game', 'qualquer', 'pessoa', 'jogo', 'bom', 'gráficos', 'bonitosgameplay', 'massamultiplayer', 'massavarios', 'servidoressobrevivencia', 'massaatualizações', 'boasmais', 'poblema', 'gameo', 'jogo', 'ta', 'cada', 'vez', 'pesadosvai', 'chega', 'nivel', 'pouca', 'gente', 'vai', 'poder', 'roda', 'gameapesar', 'jogo', 'bomnão', 'consigo', 'roda', 'maisseriam', 'bom', 'desenvolvedores', 'otimizar', 'jogo', 'ter', 'jogo', 'leve', 'jogo', 'bom', 'crafting', 'sistema', 'distribuição', 'pontos', 'aumentar', 'habilidades', 'luta', 'contra', 'monstros', 'sistema', 'mineração', 'legal', 'sistema', 'socialização', 'casamento', 'NPCs', 'vila', 'Tô', 'apaixonado', 'game', 'olha', 'aí', 'completo', 'Trava', 'muitos', 'bugs', 'demora', 'demais', 'carregar', 'jogo', 'vezes', 'simplesmente', 'cai', 'game', 'perde', 'save', 'pode', 'cortar', 'cut', 'scenes', 'corta', 'créditos', 'finais', 'possível', 'iniciar', 'Novo', 'Jogo', 'poder', 'começar', 'novo', 'toda', 'experiencia', 'anterior', 'recomendo', 'game', 'fã', 'saga', 'GTA', 'irá', 'comprar', 'promoção', 'jogo', 'febre', 'mundial', 'premissa', 'boa', 'viciante', 'bem', 'aplicada', 'jogabilidade', 'ótima', 'principalmente', 'após', 'patch', '10', 'Visualmente', 'jogo', 'decente', 'pesado', 'devido', 'mundo', 'aberto', 'mapa', 'gigante', 'nada', 'vga', '2', 'gb', 'dê', 'conta', 'tranquilamente', 'jogo', 'lotado', 'lotado', 'hack', 'olha', 'vez', 'banem', 'galera', 'assim', 'jogo', 'cheio', 'hack', 'Principalmente', 'parte', 'chineses', 'algum', 'motivo', 'desconheço', 'vem', 'peso', 'servidor', 'américa', 'sul', 'avacalhar', 'atrapalhar', 'partidas', 'hacks', 'Algo', 'iria', 'ajudar', 'simplesmente', 'impedir', 'jogadores', 'jogarem', 'outros', 'servidores', 'Bluehole', 'Studios', 'pronunciou', 'dizendo', 'mínima', 'intenção', 'fazer', 'resumo', 'PUBG', 'jogo', 'potencial', 'pouco', 'pesado', 'bugado', 'normal', 'levando', 'conta', 'jogo', 'relativamente', 'novo', 'passa', 'mapas', 'gigantes', 'abertos', 'problema', 'jogo', 'lotado', 'hackers', 'levando', 'conta', 'vc', 'pode', 'morrer', 'injustamente', 'jogo', 'acabar', 'partida', 'bem', 'frustante', 'ligar', 'killcam', 'ver', 'cara', 'matou', 'claramente', 'trapaceando', 'Atualmente', 'recomendaria', 'PUBG', 'poderá', 'passar', 'raiva', 'relaxar', 'jogando', 'sabe', 'futuro', 'Bluehole', 'anuncie', 'algum', 'sistema', 'Anticheat', 'decente', 'então', 'jogo', 'valerá', 'cada', 'centavo', 'rocket', 'leaque', 'otimo', 'jogo', 'ideia', 'legal', 'estranha', 'kk', 'pontos', 'bom', 'viciantevarios', 'modos', 'jogodivertidocompetitivo', 'pontos', 'ruinsmultiplayer', 'lagado', 'mundo', 'msm', 'internet', 'boua', 'jogo', 'continua', 'delay', 'lag', 'n', 'causa', 'player', 'internet', 'pc', 'jogador', 'causa', 'outros', 'players', 'ficam', 'ping', 'auto', 'acaba', 'dando', 'daley', 'lag', 'jogo', 'ponto', 'pessimo', 'pois', 'forte', 'jogo', 'multiplayer', 'jogo', 'si', 'otimo', 'multiplayer', 'global', 'n', 'presta', 'menos', 'partida', 'privada', 'boa', 'dependendo', 'internet', 'amigo', 'n', 'recomendo', 'jogo', 'pois', 'multiplayer', 'roubado', 'pois', 'outros', 'players', 'internet', 'ruim', 'acabam', 'estragando', 'experiencia', 'outros', 'jogadores', 'análise', 'direcionada', 'público', 'contato', 'outros', 'games', 'souls', 'series', 'então', 'encontra', 'nessa', 'categoria', 'git', 'gud', 'Dark', 'Souls', '3', 'trouxe', 'muitos', 'aprimoramentos', 'gameplay', 'relação', 'outros', 'títulos', 'série', 'alguns', 'notáveis', 'outros', 'entrarei', 'detalhes', 'adiante', 'review', 'Lore', 'perspectiva', 'storyline', 'jogo', 'mantém', 'aspecto', 'enigmático', 'apresentar', 'plot', 'forma', 'sútil', 'através', 'descrições', 'items', 'diálogos', 'inimigos', 'ambientação', 'sí', 'Fan', 'absoluto', 'Dark', 'Souls', '1', 'reconheço', 'parte', 'prazer', 'jogar', 'terceiro', 'game', 'trilogia', 'decorrente', 'nostalgia', 'trazida', 'fatores', 'remetem', 'acontecimentos', 'DS', 'Dessa', 'forma', 'envolvido', 'estória', 'primeiro', 'jogo', 'provavelmente', 'vai', 'gostar', 'narrativa', 'apresentada', 'DS', '3', 'certamente', 'vai', 'passar', 'horas', 'vendo', 'videos', 'net', 'explicando', 'lore', 'Gameplay', 'DS', '3', 'introduz', 'novas', 'mecânicas', 'trilogia', 'souls', 'restrição', 'usos', 'magia', 'através', 'nova', 'barra', 'recurso', 'PF', 'mana', 'similar', 'presente', 'Demon', 'Souls', 'ver', 'introdução', 'dessa', 'mecânica', 'serviu', 'somente', 'reduzir', 'variedade', 'builds', 'logo', 'inviabiliza', 'personagens', '100', 'voltados', 'magiamilagres', 'piromância', 'quesito', 'PVE', 'combate', 'mantém', 'mesma', 'receita', 'bolo', 'Descobrir', 'nova', 'área', 'sobreviver', 'spam', 'constante', 'inimigos', 'tornou', 'problema', 'ainda', 'maior', 'reforma', 'mecânica', 'poise', 'chegar', 'boss', 'desviar', 'ataque', 'dar', '1', '2', 'tapas', 'pé', 'relação', 'dificuldade', 'avaliaria', 'DS', '3', 'jogo', 'difícil', 'DS', '2', 'fácil', 'DS', '1', 'Falando', 'agora', 'pouco', 'PVP', 'DS', '3', 'game', 'incentiva', 'explorar', 'lado', 'jogo', 'logo', 'ínicio', 'ganha', 'acesso', 'ferramentas', 'invasão', 'covenants', 'exploram', 'desse', 'estilo', 'multiplayer', 'geral', 'DS', '3', 'melhora', 'combate', 'melee', 'aumentando', 'variedade', 'movesets', 'presentes', 'cada', 'arma', 'introdução', 'weapon', 'arts', 'movimentos', 'especiais', 'utilizam', 'mana', 'contribuir', 'efeitos', 'Voltando', 'mudanças', 'spells', 'funcionam', 'PVP', 'raridade', 'encontrar', 'jogadores', 'contam', 'totalmente', 'feitiços', 'sendo', 'utilizados', 'forma', 'buff', 'antes', 'fights', 'introdução', 'pseudopoise', 'pode', 'causar', 'estranheza', 'veteranos', 'franquia', 'entrarei', 'detalhes', 'poise', 'armadura', 'geral', 'tornaram', 'fatores', 'menor', 'importância', 'quase', 'Bloodborne', 'alteração', 'meta', 'beneficial', 'cabe', 'jogador', 'descobrir', 'fashion', 'souls', 'ftw', 'geral', 'jogo', 'manerin', 'nenhum', 'DS', '1', 'vida', 'princípio', 'parece', 'bobo', 'engane', 'porque', 'lindo', 'suave', 'absurdamente', 'viciante', 'história', 'passa', 'redor', 'fazenda', 'avô', 'deixou', 'herança', 'precisa', 'cuidar', 'Nessa', 'linha', 'possível', 'fazer', 'diversas', 'ações', 'dentro', 'jogo', 'pesca', 'mineração', 'colheita', 'pecuária', 'etc', 'vão', 'gastando', 'energia', 'durante', 'dia', 'assim', 'quests', 'pequenas', 'escolhas', 'fazem', 'história', 'evoluir', 'existem', 'vários', 'personagens', 'quais', 'pode', 'interagir', 'conhecer', 'melhor', 'relações', 'aprofundam', 'conforme', 'vontade', 'Além', 'disso', 'jogo', 'muda', 'acordo', 'estações', 'ano', 'todo', 'cenário', 'bem', 'trabalhado', 'pequena', 'obra', 'arte', 'todos', 'aspectos', 'pode', 'gastar', 'infinitas', 'horas', 'jogando', 'sozinho', 'amigos', 'gosta', 'jogos', 'gênero', 'compre', 'medo', 'divirtase', 'Péssimo', 'balanceamento', 'equipes', 'vezes', 'entro', 'servidores', 'lagados', 'pode', 'escolher', 'mapa', 'quer', 'jogar', 'existe', 'diversidade', 'uns', '10', 'mapas', 'modo', 'competitivo', 'dá', 'pra', 'escolher', 'quer', 'jogar', 'muitas', 'vezes', 'espera', 'bastante', 'tempo', 'fila', 'jogo', 'perdas', 'FPS', 'muitas', 'vezes', 'Alto', 'preço', 'cobrado', 'jogo', 'recomendaria', 'graça', 'preço', 'menor', 'Simplesmente', 'fantástico', 'procurando', 'algum', 'desafio', 'jogo', 'certo', 'agora', 'vc', 'tipo', 'q', 'estresa', 'fácil', 'kkkkk', 'pode', 'esquecer', 'jogo', 'arte', 'foda', 'trilha', 'sonora', 'perfeita', 'nenhum', 'erro', 'Jogo', '1010', 'AVISO', 'JOGO', 'CASUAIS', 'mentiras', 'desenvolvedores', 'Mans', 'Sky', 'chegou', 'nova', 'decepção', 'desenvolvedores', 'ARK', 'jogo', 'si', 'legal', 'certamente', 'melhores', 'desafiadores', 'jogos', 'sobrevivência', 'jogo', 'apenas', 'voto', 'positivo', 'desevolvedores', 'fizeram', 'semana', 'basicamente', 'mostrar', 'grande', 'grosso', 'dedo', 'meio', 'toda', 'comunidade', 'todos', 'apoiaram', 'jogo', 'agora', 'fizeram', 'simplesmente', 'lançaram', 'expansão', 'paga', 'DLC', 'vez', 'focar', 'consertar', 'inúmeros', 'bugs', 'frequentemente', 'matam', 'jogadores', 'fazem', 'perder', 'tudo', 'adicionar', 'coisas', 'jogo', 'todos', 'pagaram', 'gastaram', 'dinheiro', 'vendas', 'tempo', 'desenvolvimento', 'conteúdo', 'estará', 'disponível', 'exceto', 'pessoas', 'derem', 'dinheiro', 'custo', 'próprio', 'jogo', 'base', 'sei', 'pior', 'fato', 'conteúdo', 'extra', 'poderá', 'levado', 'volta', 'servidores', 'normais', 'cara', 'pode', 'ir', 'pra', 'servidor', 'DLC', 'domar', 'dragão', 'voltar', 'pro', 'servidor', 'antigo', 'arregaçar', 'todo', 'mundo', 'quis', 'pagar', 'DLC', 'Virou', 'basicamente', 'Pay', 'To', 'Win', 'agora', 'Edit', 'apontado', 'comentários', 'existem', 'servidores', 'bloqueiam', 'uso', 'dinos', 'DLC', 'Menos', 'mal', 'principal', 'problema', 'continua', 'sendo', 'primeiro', 'ponto', 'gastaram', 'tempo', 'desenvolvimento', 'vez', 'consertar', 'bugs', 'horríveis', 'existem', 'anos', 'DLC', 'declaração', 'traição', 'todos', 'acreditaram', 'nesse', 'jogo', 'apoio', 'forma', 'alguma', 'pode', 'garantir', 'agora', 'dia', 'terminarão', 'jogo', 'consertarão', 'bugs', 'pequenas', 'coisas', 'irritam', 'nele', 'vez', 'continuar', 'fazendo', 'várias', 'DLCs', 'pagas', 'confiar', 'JOGO', 'FAVORITO', 'MUNDO', 'TODO', 'trilha', 'sonora', 'boa', 'alguns', 'momentos', 'passa', 'emoção', 'protagonista', 'sentindo', 'história', 'sensacional', 'mostrando', 'madeline', 'lidando', 'ansiedade', 'enquanto', 'escala', 'montanha', 'simplesmente', 'incrivel', 'jogo', 'mensagem', 'trás', 'Imaginava', 'review', 'desse', 'nível', 'bom', 'mostrar', 'joguei', 'bastante', 'jogo', 'joguei', 'quase', 'nada', 'saiu', 'dizendo', 'jogo', 'lixo', 'então', 'platinei', 'jogo', 'comecei', 'jogar', 'jogo', 'imaginei', 'meio', 'bobo', 'abaixado', 'expectativas', 'surpreendeu', 'poucas', 'palavras', 'basicamente', 'Candy', 'Crush', 'Saga', 'hentai', 'explicar', 'sobre', 'passa', 'três', 'fases', 'Candy', 'Crush', 'assim', 'poder', 'disciplinar', 'garota', 'poucas', 'palavras', 'estuprando', 'garota', 'jogo', 'resolveu', 'criar', 'histórias', 'personagens', 'realmente', 'pior', 'outra', 'realmente', 'aguentava', 'então', 'simplesmente', 'pulava', 'histórias', 'basicamente', 'passo', 'passo', 'cara', 'fazer', 'fez', 'repita', 'ações', 'NENHUM', 'personagem', 'apresentado', 'poderá', 'ter', 'graves', 'consequências', 'podendo', 'preso', 'Resumidamente', 'aí', 'quero', 'insultar', 'gostou', 'desse', 'jogo', 'apenas', 'opinião', 'dar', 'final', 'pegar', 'todos', 'achievements', 'hora', 'análise', 'OK', 'jogo', 'legal', 'vou', 'mentir', 'obra', 'prima', 'jogo', 'conjunto', '8', 'fases', 'puzzles', 'boss', 'derrota', 'simplesmente', 'esquivando', 'ataques', 'cena', 'final', 'todas', 'garotas', 'conquistou', 'Seguem', 'pontos', 'positivos', 'negativos', 'Puzzles', 'razoavelmente', 'desafiadores', 'achievements', 'exigem', 'maior', 'precisão', 'resolução', 'alguns', 'puzzles', 'Personagens', 'legais', 'Música', 'agradável', 'jogo', 'Grátis', 'Arte', 'simples', 'boa', 'Bem', 'curto', 'Alguns', 'achievements', 'bem', 'subliminares', 'Poderia', 'ter', 'voiceacting', 'menos', 'narrador', 'Beelzebub', 'faria', 'jogo', 'bem', 'interessante', 'especialmente', 'último', 'achievement', 'Pois', 'bem', 'jogo', 'bem', 'legalzinho', 'sim', 'vale', 'pena', 'perder', 'umas', '12', 'horinhas', 'zerando', 'completo', 'tentando', 'adivinhas', 'conseguir', 'achievements', 'Portanto', 'RECOMENDO', 'pensem', 'pouco', 'tempo', 'playtime', 'insuficiente', 'pra', 'recomendar', 'algo', 'Conheço', 'AOE', 'desde', 'lançamento', 'primeira', 'versão', 'deste', 'lá', 'cá', 'passei', 'todos', 'todas', 'expanções', 'Quisera', 'ter', 'prestado', 'atenção', 'traillers', 'apenas', 'ido', 'empolgação', 'hype', 'próprios', 'vídeos', 'disponibilizados', 'aqui', 'steam', 'dá', 'pra', 'ver', 'alguns', 'erros', 'escrotos', 'época', 'lançamento', 'primeiro', 'game', 'AI', 'continua', 'bugada', 'unidades', 'burras', 'fizeram', 'pegar', 'algo', '20', 'anos', 'atrás', 'passar', 'mão', 'tinta', 'relançar', 'vale', 'valor', 'pago', 'Sinceramente', 'deveria', 'dado', 'graça', 'alguma', 'compra', 'mesma', 'empresa', 'pq', 'assim', 'pra', 'aturar', 'quantidade', 'bugs', 'falta', 'otimização', 'Otimizacao', 'horrivel', 'pc', 'nasa', 'pra', 'jogar', 'direito', 'Travadas', 'bugs', 'renderizacao', 'sao', 'constantes', 'caso', 'ate', 'fiz', 'backup', 'pc', 'pois', 'finalizar', 'jogo', 'gerenciador', 'tarefas', 'tava', 'travado', 'deu', 'algum', 'problema', 'drivers', 'video', 'windows', 'nao', 'queria', 'dar', 'boot', 'Coincidencia', 'Talvez', 'questao', 'gameplay', 'nao', 'gostei', 'ter', 'q', 'ficar', 'tempo', 'pegando', 'loot', 'q', 'açao', 'tudo', 'pra', 'provavelmente', 'final', 'morto', 'ver', 'oq', 'matou', 'chances', 'defesa', 'pra', 'morto', 'costas', 'etc', 'jogava', 'BF1', 'kkkkkkk', 'Algo', 'simples', 'q', 'ja', 'melhoraria', 'jogo', 'adicionar', 'indicador', 'direcao', 'dano', 'recebido', 'menos', 'efeito', 'municao', 'trassante', 'pra', 'sabe', 'q', 'lado', 'veio', 'disparo', 'consegue', 'levar', 'TIRO', 'nao', 'ter', 'ideia', 'direcao', 'veio', 'Nesse', 'jogo', 'pra', 'saber', 'vc', 'expor', 'pra', 'buscar', 'inimigo', 'mira', 'arma', 'vc', 'dado', 'sorte', 'achar', 'geralmente', 'leva', 'morrer', 'afinal', 'inimigo', 'ja', 'sabe', 'posicao', 'fim', 'vence', 'qm', 'ver', 'primeiro', 'PC', 'I7', '7700k', 'GTX', '970', 'Windforce', 'RAM', '8GB', 'DDR4', 'deixem', 'enganar', 'jogo', 'parece', 'fofinho', 'divertido', 'Ok', 'divertido', 'arte', 'jogo', 'cute', 'cute', 'jogo', 'ai', 'Tratase', 'jogo', 'estratégico', 'estressante', 'Basicamente', 'gerencia', 'tripulação', 'borbardeiro', 'inglês', 'cujas', 'missões', 'vão', 'reconhecimento', 'entrega', 'suprimentos', 'bombardeio', 'si', 'mecanicas', 'parecem', 'simples', 'real', 'tanto', 'quanto', 'complexas', 'avião', 'chão', 'parece', 'intuitivo', 'hora', 'duzia', 'caças', 'atrás', 'ainda', 'precisa', 'bombardear', 'algo', 'fica', 'tudo', 'caótico', 'Dica', 'importante', 'apegue', 'personagens', 'vão', 'morrer', 'eventualmente', 'momento', 'escrevo', 'review', 'acabo', 'perder', 'tripulação', 'inteira', 'primeiro', 'mecanico', 'reparar', 'asa', 'acabou', 'morto', 'rajada', 'balas', 'falta', 'acabou', 'prejudicando', 'aeronave', 'tentativa', 'fazer', 'pouso', 'forçado', 'resto', 'tripulação', 'pro', 'carai', 'Enfim', 'Bomber', 'Crew', 'bom', 'jogo', 'deixe', 'enganar', 'aparencia', 'simples', 'bonitinha', 'jogo', 'complexo', 'perdoa', 'vacilos', 'Apesar', 'ter', 'coisa', 'melhor', 'mercado', 'pois', 'MMOs', 'todos', 'droga', 'últimos', '10', 'anos', 'jogo', 'caro', 'vale', 'pena', 'dinheiro', 'investido', 'mensalidade', 'R', '42mês', 'além', 'valor', 'próprio', 'jogo', 'fato', 'vai', 'pagar', 'passar', 'praticamente', 'tempo', 'todo', 'fazendo', 'quests', 'chatas', 'repetitivas', 'pagaria', 'ter', 'fazêlas', 'conteúdo', 'endgame', 'legal', 'apesar', 'enjoativo', 'aguentar', 'fazer', 'todas', '500', 'main', 'quests', 'pra', 'liberar', 'tudo', 'Ah', 'boa', 'sorte', 'conseguir', 'criar', 'conta', 'jogo', 'sistema', 'mogstation', 'horrível', 'suporte', 'técnico', 'pior', 'ainda', 'Divertido', 'pra', 'jogar', 'tanto', 'amigos', 'quanto', 'individualmente', 'considero', 'melhor', 'desta', 'categoria', 'games', 'Interessante', 'porem', 'horrivel', 'hora', 'criar', 'mapas', 'demora', 'maquinas', 'boas', 'além', 'quase', 'todos', 'servers', 'terem', 'menos', '5', 'pessoas', 'Ótima', 'simulação', 'Bom', 'desenvolvimento', 'Jogo', 'bom', 'porem', 'achei', 'curto', 'assim', 'diverti', 'Jogo', 'bom', 'intenso', 'PvP', 'Otimos', 'gráficos', 'sons', 'controles', 'etc', 'Devs', 'SEMPRE', 'atualizando', 'game', 'Pessima', 'renderização', 'precisa', 'SSD', 'vai', 'levar', '15', 'minutos', 'pra', 'entrar', 'game', 'ObsSe', 'ver', 'alguem', 'usando', 'AK', 'corre', 'Macro', 'Jogo', 'excelente', 'melhor', 'jogo', 'aventura', 'joguei', 'vida', 'altamente', 'desafiante', 'intenso', 'prazeiroso', 'super', 'recomendo', 'Excelente', 'jogo', 'superou', 'expectativas', 'passado', 'joguei', 'Railroad', 'Tycon', '2', 'viciado', 'onde', 'perspectiva', 'puramente', '2D', 'Tentei', 'Railroad', 'Tycon', '3', 'acabei', 'gostanto', 'comprei', 'achei', 'iria', 'gostar', 'surpreendeu', 'Ficou', 'bem', 'feito', 'dinâmica', 'jogo', 'principalmente', 'constrói', 'ferrovia', 'poder', 'olhar', 'perspectiva', 'maquinista', 'legal', 'treiando', 'free', 'mode', 'pegar', 'bem', 'prática', 'iniciar', 'modo', 'campanha', 'início', 'pouco', 'complicado', 'entender', 'uso', 'correto', 'sinalizações', 'nada', 'tutorial', 'You', 'Tube', 'resolvesse', 'importantíssimo', 'entender', 'bem', 'funcionamento', 'bom', 'fluxo', 'composições', 'linha', 'único', 'ponto', 'gostei', 'atrapalha', 'nada', 'visão', 'maquinista', 'aproximar', 'estação', 'composição', 'vai', 'parando', 'gradativamente', 'freia', 'quase', 'instantaneamente', 'pra', 'mim', 'tirou', 'pouco', 'realidade', 'nesse', 'aspecto', 'geral', 'jogo', 'demais', 'Recomendo', 'todos', 'principalmente', 'amantes', 'ferrovias', 'jogo', 'si', 'bastante', 'divertido', 'principalmente', 'jogado', 'amigos', 'porém', 'comunidade', 'tóxica', 'jogo', 'quantidade', 'gigante', 'bugs', 'podem', 'engraçados', 'vezes', 'maioria', 'servem', 'pra', 'prejudicar', 'recomendo', 'esperar', 'promoção', 'pra', 'comprar', 'jogo', 'lindo', 'difícil', 'Pra', 'gostava', 'rollercoaster', 'tycoon', 'age', 'of', 'empires', 'acho', 'vai', 'gostar', 'bem', 'difícil', '100h', 'beta', 'comecei', 'conseguia', 'passar', 'maior', 'tempo', 'menor', 'dificuldade', '100h', 'consegui', 'terminar', 'modo', 'sobrevivência', '160', 'dificuldade', 'Agora', 'jogo', 'realmente', 'lançado', 'campanha', 'jogando', '100', 'dificuldade', 'alguns', 'mapas', 'pareceram', 'bem', 'fáceis', 'últimos', 'achando', 'bem', 'difíceis', 'ainda', 'terminei', 'menos', '30h', 'campanha', 'Achei', 'modo', 'campanha', 'incrível', 'história', 'legal', 'algumas', 'missões', 'bem', 'diferentes', 'modo', 'sobrevivência', 'Prós', 'Bons', 'gráficos', 'Ideia', 'boa', 'Coop', 'bem', 'feito', 'Contras', 'Falta', 'campanha', 'Muitas', 'DLCs', 'Jogo', 'enjoativo', '5', 'horas', 'aguenta', 'Falta', 'modo', 'competitivo', 'ótimo', 'game', 'bastante', 'customização', 'relaxante', 'divertido', 'desafiador', 'force', 'feedback', 'comunidade', 'ai', 'vai', 'tudo', 'aqui', 'deve', 'ter', 'ouvido', 'falar', 'dito', 'vou', 'ressaltar', 'alguns', 'defeitos', 'afinal', 'nenhum', 'game', 'perfeito', 'game', 'tá', 'datado', 'gráfico', 'cidades', 'simplistas', 'vida', 'totalmente', 'escala', 'física', 'bem', 'básica', 'incluindo', 'suspensão', 'simulador', 'pilotagem', 'longe', 'outras', 'coisas', 'categoria', 'simuladores', 'jogo', 'gerenciamento', 'viagens', 'relaxantes', 'ficam', 'bem', 'Sérgio', 'Reis', 'tocando', 'fundo', 'jogos', 'divertidos', 'engraçados', 'joguei', 'bem', 'feito', 'bem', 'escrito', 'bem', 'dublado', 'enfim', 'acho', 'únicas', 'pessoas', 'vão', 'gostar', 'jogo', 'acostumadas', 'humor', 'politicamente', 'incorreto', 'negro', 'South', 'Park', 'Recomendo', 'Melhor', 'survivor', 'joguei', 'jogo', 'tempo', 'construir', 'explorar', 'lutar', 'posso', 'esquecer', 'mencionar', 'história', 'ótima', 'Jogo', 'constantes', 'updates', 'arrumando', 'bugs', 'aliás', 'jogo', 'desenvolvimento', 'bem', 'pouco', 'incluindo', 'novas', 'coisas', '1010', 'voltando', 'jogar', 'quase', 'dois', 'anos', 'ter', 'comprado', 'jogo', 'ainda', 'satisfaz', 'Continuem', 'bom', 'trabalho', 'Então', 'sei', 'ubisoft', 'coloca', 'nome', 'jogo', 'desse', 'sério', 'ideia', 'jogo', 'super', 'interessante', 'todo', 'resto', 'péssimo', 'mecânica', 'desengonçada', 'jogo', 'bagunçado', 'demais', 'consegue', 'entender', 'fazer', 'fazer', 'missão', 'principal', 'tudo', 'online', 'volume', 'jogo', 'bugado', 'vezes', 'fica', 'alto', 'demais', 'vezes', 'baixo', 'demais', 'jogo', 'precisa', 'habilidade', 'usar', 'qualquer', 'veículo', 'somente', 'veículo', 'forte', 'acelerar', 'freiar', 'vez', 'ainda', 'pq', 'carro', 'bem', 'forte', 'ir', 'acelerando', 'batendo', 'parede', 'veículos', 'principalmente', 'terrestres', 'desaceleram', 'nada', 'tendo', 'mesma', 'potência', 'amigo', 'jogo', 'inteiro', 'simplesmente', 'faz', 'sentido', 'além', 'pay2win', 'comprar', 'pack', 'melhor', 'comprar', 'carrinhos', 'legais', 'vai', 'automaticamente', 'ter', 'melhores', 'veículos', 'realmente', 'recomendo', 'jogabilidade', 'agradável', 'história', 'empolgante', 'realidade', 'gerencia', 'recursos', 'jogo', 'bacana', 'prende', 'atenção', 'horas', 'Diferente', 'todos', 'gêneros', 'joguei', 'toxicidade', 'jogo', 'problema', 'gosta', 'jogo', 'competitivo', 'fantástico', 'lembrar', 'quão', 'tryhard', 'players', 'tóxico', 'vai', 'ranqueada', 'recomendaria', 'jogo', 'player', 'casual', 'básicos', 'jogo', 'complexos', 'aprender', 'aprimorar', 'resumo', 'Ganso', 'Melhor', 'jogo', 'sandbox', 'mim', 'nível', 'progressão', 'extremamente', 'alto', 'diversão', 'garantida', 'muitas', 'muitas', 'horas', 'Vicio', 'total', 'Demorei', 'pouco', 'zerar', 'tamo', 'aqui', 'né', 'vou', 'adentrar', 'game', 'play', 'história', 'apenas', 'darei', 'opinião', 'análise', 'rápida', 'Achei', 'enredo', 'extremamente', 'envolvente', 'personagens', 'marcantes', 'cativantes', 'game', 'play', 'bem', 'inovadora', 'focando', 'combate', 'corpo', 'corpo', 'apesar', 'ter', 'armas', 'longa', 'distância', 'modo', 'zumbi', 'bem', 'divertido', 'pode', 'adicionar', 'bom', 'tempo', 'jogo', 'sei', 'modo', 'dlc', 'Caso', 'problemas', 'auto', 'estima', 'use', 'jogo', 'terapia', 'quase', 'todos', 'npcs', 'elogiam', 'Gostaria', 'jogar', '2', 'lançar', 'alguém', 'der', 'claro', 'rico', 'jogo', 'mt', 'bom', 'pouco', 'dificil', 'recomendo', 'bastante', 'clima', 'retro', 'violento', 'cala', 'maria', 'kkk']\n"
     ]
    }
   ],
   "source": [
    "string_reviews_relevantes_pronta = word_tokenize(string_reviews_relevantes_limpa)\n",
    "string_reviews_irrelevantes_pronta =word_tokenize(string_reviews_irrelevantes_limpa)\n",
    "\n",
    "reviews_relevantes_analise = [w for w in string_reviews_relevantes_pronta if not w.lower() in stop_words]\n",
    "reviews_irrelevantes_analise = [w for w in string_reviews_irrelevantes_pronta if not w.lower() in stop_words]\n",
    "\n",
    "serie_relevantes = pd.Series(reviews_relevantes_analise)\n",
    "serie_irrelevantes = pd.Series(reviews_irrelevantes_analise)\n",
    "\n",
    "tabela_relevantes = serie_relevantes.value_counts()\n",
    "tabela_irrelevantes = serie_irrelevantes.value_counts() \n",
    "\n",
    "print(reviews_relevantes_analise)"
   ]
  },
  {
   "cell_type": "code",
   "execution_count": 14,
   "metadata": {},
   "outputs": [],
   "source": [
    "#SUAVIZAÇÃO DE LAPLACE\n",
    "#ADICIONA 1 NA OCORRENCIA DE TODAS AS PALAVRAS E DIVIDE PELA QUANTIDADE TOTAL DE PALAVRAS UNICAS DO EXEL TOD0, LOGO FICA P_PALAVRA = (FREQUENCIA + 1)/ (TOTAL + SET(EXEL))\n",
    "\n",
    "\n",
    "\n",
    "#string_treinamento = string_reviews_relevantes_pronta + ' ' + string_reviews_irrelevantes_pronta\n",
    "\n",
    "#reviews_relevantes_pronta_lista = string_reviews_relevantes_pronta.split(' ')\n",
    "total_relvantes = len(reviews_relevantes_analise) + len(set(reviews_relevantes_analise))#len(reviews_relevantes_pronta_lista) + len(set(reviews_relevantes_pronta_lista))\n",
    "\n",
    "#reviews_irrelevantes_pronta_lista = string_reviews_irrelevantes_pronta.split(' ')\n",
    "total_irrelvantes = len(reviews_irrelevantes_analise) + len(set(reviews_relevantes_analise)) #len(reviews_irrelevantes_pronta_lista) + len(set(reviews_irrelevantes_pronta_lista))\n",
    "#string_geral = string_treinamento \n",
    "#lista_geral = string_geral.split(' ')\n",
    "\n",
    "#total_parcial = len(set(lista_geral))\n",
    "#total = total_parcial + len(lista_geral)\n",
    "#total\n",
    "\n"
   ]
  },
  {
   "cell_type": "code",
   "execution_count": 15,
   "metadata": {},
   "outputs": [
    {
     "name": "stdout",
     "output_type": "stream",
     "text": [
      "ACABOU\n"
     ]
    },
    {
     "name": "stderr",
     "output_type": "stream",
     "text": [
      "C:\\Users\\GALAZZI\\AppData\\Local\\Temp/ipykernel_6092/1184462677.py:73: PerformanceWarning: DataFrame is highly fragmented.  This is usually the result of calling `frame.insert` many times, which has poor performance.  Consider joining all columns at once using pd.concat(axis=1) instead.  To get a de-fragmented frame, use `newframe = frame.copy()`\n",
      "  test[m] = lista_final[m]\n"
     ]
    }
   ],
   "source": [
    "\n",
    "#reviews\n",
    "review = test.iloc[:,0].to_list()\n",
    "\n",
    "reviewtreino = train.iloc[:,0].to_list()\n",
    "\n",
    "for c in (range(len(reviewtreino))):\n",
    "   if reviewtreino[c] in review:\n",
    "      review.remove(reviewtreino[c])\n",
    "\n",
    "\n",
    "\n",
    "\n",
    "#listas absolutas\n",
    "tabela_relevantes\n",
    "tabela_irrelevantes\n",
    "\n",
    "def classificador(review):\n",
    " \n",
    " lista_classificacao = []\n",
    " #print(len(review))\n",
    " for i in review:   \n",
    "    review = i.lower()\n",
    "\n",
    "    review_semilimpa = cleanup1(review)\n",
    "    review_quaselimpa = cleanup2(review_semilimpa)\n",
    "    review_limpa = '' \n",
    "    for u in lista_remover:\n",
    "        if review_limpa == '':\n",
    "            review_limpa = review_quaselimpa\n",
    "        review_limpa = review_limpa.replace(u,'')\n",
    "\n",
    "    lista_review = review_limpa.split(' ')\n",
    "    #print(lista_review)\n",
    "    probabilidade_relevante = []\n",
    "    probabilidade_irrelevante = []\n",
    "\n",
    "    for k in lista_review :  \n",
    "        if k in tabela_relevantes:\n",
    "            probabilidade1 = (tabela_relevantes[k] + 1)/total_relvantes\n",
    "        else:\n",
    "           probabilidade1 =  1/total_relvantes  \n",
    "        probabilidade_relevante.append(probabilidade1)\n",
    "    for y in lista_review:\n",
    "        if y in tabela_irrelevantes:\n",
    "            probabilidade2 = (tabela_irrelevantes[y] + 1)/total_irrelvantes\n",
    "            #print(probabilidade2)\n",
    "        else:\n",
    "          probabilidade2 =  1/total_irrelvantes\n",
    "          #print(1/total)\n",
    "        probabilidade_irrelevante.append(probabilidade2)\n",
    "        \n",
    "\n",
    "    Probabilidade_review_relevante = np.prod(probabilidade_relevante)\n",
    "    Probabilidade_review_irrelevante = np.prod(probabilidade_irrelevante)\n",
    "\n",
    "\n",
    "\n",
    "    if Probabilidade_review_relevante > Probabilidade_review_irrelevante:\n",
    "       lista_classificacao.append(1)\n",
    "       \n",
    "    elif Probabilidade_review_irrelevante > Probabilidade_review_relevante :\n",
    "       lista_classificacao.append(0)\n",
    "\n",
    "\n",
    " return(lista_classificacao)\n",
    "\n",
    "print('ACABOU') \n",
    "\n",
    "lista_final = classificador(review)\n",
    "\n",
    "\n",
    "for m in range(len(lista_final)):\n",
    "    test[m] = lista_final[m] \n",
    "\n",
    "\n",
    "\n"
   ]
  },
  {
   "attachments": {},
   "cell_type": "markdown",
   "metadata": {},
   "source": [
    "___\n",
    "### Verificando a performance do Classificador\n",
    "\n",
    "Agora você deve testar o seu classificador com a base de Testes."
   ]
  },
  {
   "cell_type": "code",
   "execution_count": 16,
   "metadata": {},
   "outputs": [
    {
     "ename": "KeyError",
     "evalue": "'target'",
     "output_type": "error",
     "traceback": [
      "\u001b[1;31m---------------------------------------------------------------------------\u001b[0m",
      "\u001b[1;31mKeyError\u001b[0m                                  Traceback (most recent call last)",
      "\u001b[1;32md:\\Anaconda\\lib\\site-packages\\pandas\\core\\indexes\\base.py\u001b[0m in \u001b[0;36mget_loc\u001b[1;34m(self, key, method, tolerance)\u001b[0m\n\u001b[0;32m   3360\u001b[0m             \u001b[1;32mtry\u001b[0m\u001b[1;33m:\u001b[0m\u001b[1;33m\u001b[0m\u001b[1;33m\u001b[0m\u001b[0m\n\u001b[1;32m-> 3361\u001b[1;33m                 \u001b[1;32mreturn\u001b[0m \u001b[0mself\u001b[0m\u001b[1;33m.\u001b[0m\u001b[0m_engine\u001b[0m\u001b[1;33m.\u001b[0m\u001b[0mget_loc\u001b[0m\u001b[1;33m(\u001b[0m\u001b[0mcasted_key\u001b[0m\u001b[1;33m)\u001b[0m\u001b[1;33m\u001b[0m\u001b[1;33m\u001b[0m\u001b[0m\n\u001b[0m\u001b[0;32m   3362\u001b[0m             \u001b[1;32mexcept\u001b[0m \u001b[0mKeyError\u001b[0m \u001b[1;32mas\u001b[0m \u001b[0merr\u001b[0m\u001b[1;33m:\u001b[0m\u001b[1;33m\u001b[0m\u001b[1;33m\u001b[0m\u001b[0m\n",
      "\u001b[1;32md:\\Anaconda\\lib\\site-packages\\pandas\\_libs\\index.pyx\u001b[0m in \u001b[0;36mpandas._libs.index.IndexEngine.get_loc\u001b[1;34m()\u001b[0m\n",
      "\u001b[1;32md:\\Anaconda\\lib\\site-packages\\pandas\\_libs\\index.pyx\u001b[0m in \u001b[0;36mpandas._libs.index.IndexEngine.get_loc\u001b[1;34m()\u001b[0m\n",
      "\u001b[1;32mpandas\\_libs\\hashtable_class_helper.pxi\u001b[0m in \u001b[0;36mpandas._libs.hashtable.PyObjectHashTable.get_item\u001b[1;34m()\u001b[0m\n",
      "\u001b[1;32mpandas\\_libs\\hashtable_class_helper.pxi\u001b[0m in \u001b[0;36mpandas._libs.hashtable.PyObjectHashTable.get_item\u001b[1;34m()\u001b[0m\n",
      "\u001b[1;31mKeyError\u001b[0m: 'target'",
      "\nThe above exception was the direct cause of the following exception:\n",
      "\u001b[1;31mKeyError\u001b[0m                                  Traceback (most recent call last)",
      "\u001b[1;32m~\\AppData\\Local\\Temp/ipykernel_6092/1049619759.py\u001b[0m in \u001b[0;36m<module>\u001b[1;34m\u001b[0m\n\u001b[1;32m----> 1\u001b[1;33m \u001b[0mtarget_manual\u001b[0m \u001b[1;33m=\u001b[0m \u001b[0mtest\u001b[0m\u001b[1;33m.\u001b[0m\u001b[0mloc\u001b[0m\u001b[1;33m[\u001b[0m\u001b[1;33m:\u001b[0m\u001b[1;33m,\u001b[0m\u001b[1;34m'target'\u001b[0m\u001b[1;33m]\u001b[0m\u001b[1;33m.\u001b[0m\u001b[0mto_list\u001b[0m\u001b[1;33m(\u001b[0m\u001b[1;33m)\u001b[0m\u001b[1;33m\u001b[0m\u001b[1;33m\u001b[0m\u001b[0m\n\u001b[0m\u001b[0;32m      2\u001b[0m \u001b[1;33m\u001b[0m\u001b[0m\n\u001b[0;32m      3\u001b[0m \u001b[0mcontagem\u001b[0m \u001b[1;33m=\u001b[0m \u001b[1;33m[\u001b[0m\u001b[1;33m]\u001b[0m\u001b[1;33m\u001b[0m\u001b[1;33m\u001b[0m\u001b[0m\n\u001b[0;32m      4\u001b[0m \u001b[1;32mfor\u001b[0m \u001b[0mi\u001b[0m \u001b[1;32min\u001b[0m \u001b[0mrange\u001b[0m\u001b[1;33m(\u001b[0m\u001b[0mlen\u001b[0m\u001b[1;33m(\u001b[0m\u001b[0mlista_final\u001b[0m\u001b[1;33m)\u001b[0m\u001b[1;33m)\u001b[0m\u001b[1;33m:\u001b[0m\u001b[1;33m\u001b[0m\u001b[1;33m\u001b[0m\u001b[0m\n\u001b[0;32m      5\u001b[0m     \u001b[1;32mif\u001b[0m \u001b[0mtarget_manual\u001b[0m\u001b[1;33m[\u001b[0m\u001b[0mi\u001b[0m\u001b[1;33m]\u001b[0m \u001b[1;33m==\u001b[0m \u001b[0mlista_final\u001b[0m\u001b[1;33m[\u001b[0m\u001b[0mi\u001b[0m\u001b[1;33m]\u001b[0m\u001b[1;33m:\u001b[0m\u001b[1;33m\u001b[0m\u001b[1;33m\u001b[0m\u001b[0m\n",
      "\u001b[1;32md:\\Anaconda\\lib\\site-packages\\pandas\\core\\indexing.py\u001b[0m in \u001b[0;36m__getitem__\u001b[1;34m(self, key)\u001b[0m\n\u001b[0;32m    923\u001b[0m                 \u001b[1;32mwith\u001b[0m \u001b[0msuppress\u001b[0m\u001b[1;33m(\u001b[0m\u001b[0mKeyError\u001b[0m\u001b[1;33m,\u001b[0m \u001b[0mIndexError\u001b[0m\u001b[1;33m)\u001b[0m\u001b[1;33m:\u001b[0m\u001b[1;33m\u001b[0m\u001b[1;33m\u001b[0m\u001b[0m\n\u001b[0;32m    924\u001b[0m                     \u001b[1;32mreturn\u001b[0m \u001b[0mself\u001b[0m\u001b[1;33m.\u001b[0m\u001b[0mobj\u001b[0m\u001b[1;33m.\u001b[0m\u001b[0m_get_value\u001b[0m\u001b[1;33m(\u001b[0m\u001b[1;33m*\u001b[0m\u001b[0mkey\u001b[0m\u001b[1;33m,\u001b[0m \u001b[0mtakeable\u001b[0m\u001b[1;33m=\u001b[0m\u001b[0mself\u001b[0m\u001b[1;33m.\u001b[0m\u001b[0m_takeable\u001b[0m\u001b[1;33m)\u001b[0m\u001b[1;33m\u001b[0m\u001b[1;33m\u001b[0m\u001b[0m\n\u001b[1;32m--> 925\u001b[1;33m             \u001b[1;32mreturn\u001b[0m \u001b[0mself\u001b[0m\u001b[1;33m.\u001b[0m\u001b[0m_getitem_tuple\u001b[0m\u001b[1;33m(\u001b[0m\u001b[0mkey\u001b[0m\u001b[1;33m)\u001b[0m\u001b[1;33m\u001b[0m\u001b[1;33m\u001b[0m\u001b[0m\n\u001b[0m\u001b[0;32m    926\u001b[0m         \u001b[1;32melse\u001b[0m\u001b[1;33m:\u001b[0m\u001b[1;33m\u001b[0m\u001b[1;33m\u001b[0m\u001b[0m\n\u001b[0;32m    927\u001b[0m             \u001b[1;31m# we by definition only have the 0th axis\u001b[0m\u001b[1;33m\u001b[0m\u001b[1;33m\u001b[0m\u001b[0m\n",
      "\u001b[1;32md:\\Anaconda\\lib\\site-packages\\pandas\\core\\indexing.py\u001b[0m in \u001b[0;36m_getitem_tuple\u001b[1;34m(self, tup)\u001b[0m\n\u001b[0;32m   1098\u001b[0m     \u001b[1;32mdef\u001b[0m \u001b[0m_getitem_tuple\u001b[0m\u001b[1;33m(\u001b[0m\u001b[0mself\u001b[0m\u001b[1;33m,\u001b[0m \u001b[0mtup\u001b[0m\u001b[1;33m:\u001b[0m \u001b[0mtuple\u001b[0m\u001b[1;33m)\u001b[0m\u001b[1;33m:\u001b[0m\u001b[1;33m\u001b[0m\u001b[1;33m\u001b[0m\u001b[0m\n\u001b[0;32m   1099\u001b[0m         \u001b[1;32mwith\u001b[0m \u001b[0msuppress\u001b[0m\u001b[1;33m(\u001b[0m\u001b[0mIndexingError\u001b[0m\u001b[1;33m)\u001b[0m\u001b[1;33m:\u001b[0m\u001b[1;33m\u001b[0m\u001b[1;33m\u001b[0m\u001b[0m\n\u001b[1;32m-> 1100\u001b[1;33m             \u001b[1;32mreturn\u001b[0m \u001b[0mself\u001b[0m\u001b[1;33m.\u001b[0m\u001b[0m_getitem_lowerdim\u001b[0m\u001b[1;33m(\u001b[0m\u001b[0mtup\u001b[0m\u001b[1;33m)\u001b[0m\u001b[1;33m\u001b[0m\u001b[1;33m\u001b[0m\u001b[0m\n\u001b[0m\u001b[0;32m   1101\u001b[0m \u001b[1;33m\u001b[0m\u001b[0m\n\u001b[0;32m   1102\u001b[0m         \u001b[1;31m# no multi-index, so validate all of the indexers\u001b[0m\u001b[1;33m\u001b[0m\u001b[1;33m\u001b[0m\u001b[0m\n",
      "\u001b[1;32md:\\Anaconda\\lib\\site-packages\\pandas\\core\\indexing.py\u001b[0m in \u001b[0;36m_getitem_lowerdim\u001b[1;34m(self, tup)\u001b[0m\n\u001b[0;32m    836\u001b[0m                 \u001b[1;31m# We don't need to check for tuples here because those are\u001b[0m\u001b[1;33m\u001b[0m\u001b[1;33m\u001b[0m\u001b[0m\n\u001b[0;32m    837\u001b[0m                 \u001b[1;31m#  caught by the _is_nested_tuple_indexer check above.\u001b[0m\u001b[1;33m\u001b[0m\u001b[1;33m\u001b[0m\u001b[0m\n\u001b[1;32m--> 838\u001b[1;33m                 \u001b[0msection\u001b[0m \u001b[1;33m=\u001b[0m \u001b[0mself\u001b[0m\u001b[1;33m.\u001b[0m\u001b[0m_getitem_axis\u001b[0m\u001b[1;33m(\u001b[0m\u001b[0mkey\u001b[0m\u001b[1;33m,\u001b[0m \u001b[0maxis\u001b[0m\u001b[1;33m=\u001b[0m\u001b[0mi\u001b[0m\u001b[1;33m)\u001b[0m\u001b[1;33m\u001b[0m\u001b[1;33m\u001b[0m\u001b[0m\n\u001b[0m\u001b[0;32m    839\u001b[0m \u001b[1;33m\u001b[0m\u001b[0m\n\u001b[0;32m    840\u001b[0m                 \u001b[1;31m# We should never have a scalar section here, because\u001b[0m\u001b[1;33m\u001b[0m\u001b[1;33m\u001b[0m\u001b[0m\n",
      "\u001b[1;32md:\\Anaconda\\lib\\site-packages\\pandas\\core\\indexing.py\u001b[0m in \u001b[0;36m_getitem_axis\u001b[1;34m(self, key, axis)\u001b[0m\n\u001b[0;32m   1162\u001b[0m         \u001b[1;31m# fall thru to straight lookup\u001b[0m\u001b[1;33m\u001b[0m\u001b[1;33m\u001b[0m\u001b[0m\n\u001b[0;32m   1163\u001b[0m         \u001b[0mself\u001b[0m\u001b[1;33m.\u001b[0m\u001b[0m_validate_key\u001b[0m\u001b[1;33m(\u001b[0m\u001b[0mkey\u001b[0m\u001b[1;33m,\u001b[0m \u001b[0maxis\u001b[0m\u001b[1;33m)\u001b[0m\u001b[1;33m\u001b[0m\u001b[1;33m\u001b[0m\u001b[0m\n\u001b[1;32m-> 1164\u001b[1;33m         \u001b[1;32mreturn\u001b[0m \u001b[0mself\u001b[0m\u001b[1;33m.\u001b[0m\u001b[0m_get_label\u001b[0m\u001b[1;33m(\u001b[0m\u001b[0mkey\u001b[0m\u001b[1;33m,\u001b[0m \u001b[0maxis\u001b[0m\u001b[1;33m=\u001b[0m\u001b[0maxis\u001b[0m\u001b[1;33m)\u001b[0m\u001b[1;33m\u001b[0m\u001b[1;33m\u001b[0m\u001b[0m\n\u001b[0m\u001b[0;32m   1165\u001b[0m \u001b[1;33m\u001b[0m\u001b[0m\n\u001b[0;32m   1166\u001b[0m     \u001b[1;32mdef\u001b[0m \u001b[0m_get_slice_axis\u001b[0m\u001b[1;33m(\u001b[0m\u001b[0mself\u001b[0m\u001b[1;33m,\u001b[0m \u001b[0mslice_obj\u001b[0m\u001b[1;33m:\u001b[0m \u001b[0mslice\u001b[0m\u001b[1;33m,\u001b[0m \u001b[0maxis\u001b[0m\u001b[1;33m:\u001b[0m \u001b[0mint\u001b[0m\u001b[1;33m)\u001b[0m\u001b[1;33m:\u001b[0m\u001b[1;33m\u001b[0m\u001b[1;33m\u001b[0m\u001b[0m\n",
      "\u001b[1;32md:\\Anaconda\\lib\\site-packages\\pandas\\core\\indexing.py\u001b[0m in \u001b[0;36m_get_label\u001b[1;34m(self, label, axis)\u001b[0m\n\u001b[0;32m   1111\u001b[0m     \u001b[1;32mdef\u001b[0m \u001b[0m_get_label\u001b[0m\u001b[1;33m(\u001b[0m\u001b[0mself\u001b[0m\u001b[1;33m,\u001b[0m \u001b[0mlabel\u001b[0m\u001b[1;33m,\u001b[0m \u001b[0maxis\u001b[0m\u001b[1;33m:\u001b[0m \u001b[0mint\u001b[0m\u001b[1;33m)\u001b[0m\u001b[1;33m:\u001b[0m\u001b[1;33m\u001b[0m\u001b[1;33m\u001b[0m\u001b[0m\n\u001b[0;32m   1112\u001b[0m         \u001b[1;31m# GH#5667 this will fail if the label is not present in the axis.\u001b[0m\u001b[1;33m\u001b[0m\u001b[1;33m\u001b[0m\u001b[0m\n\u001b[1;32m-> 1113\u001b[1;33m         \u001b[1;32mreturn\u001b[0m \u001b[0mself\u001b[0m\u001b[1;33m.\u001b[0m\u001b[0mobj\u001b[0m\u001b[1;33m.\u001b[0m\u001b[0mxs\u001b[0m\u001b[1;33m(\u001b[0m\u001b[0mlabel\u001b[0m\u001b[1;33m,\u001b[0m \u001b[0maxis\u001b[0m\u001b[1;33m=\u001b[0m\u001b[0maxis\u001b[0m\u001b[1;33m)\u001b[0m\u001b[1;33m\u001b[0m\u001b[1;33m\u001b[0m\u001b[0m\n\u001b[0m\u001b[0;32m   1114\u001b[0m \u001b[1;33m\u001b[0m\u001b[0m\n\u001b[0;32m   1115\u001b[0m     \u001b[1;32mdef\u001b[0m \u001b[0m_handle_lowerdim_multi_index_axis0\u001b[0m\u001b[1;33m(\u001b[0m\u001b[0mself\u001b[0m\u001b[1;33m,\u001b[0m \u001b[0mtup\u001b[0m\u001b[1;33m:\u001b[0m \u001b[0mtuple\u001b[0m\u001b[1;33m)\u001b[0m\u001b[1;33m:\u001b[0m\u001b[1;33m\u001b[0m\u001b[1;33m\u001b[0m\u001b[0m\n",
      "\u001b[1;32md:\\Anaconda\\lib\\site-packages\\pandas\\core\\generic.py\u001b[0m in \u001b[0;36mxs\u001b[1;34m(self, key, axis, level, drop_level)\u001b[0m\n\u001b[0;32m   3759\u001b[0m         \u001b[1;32mif\u001b[0m \u001b[0maxis\u001b[0m \u001b[1;33m==\u001b[0m \u001b[1;36m1\u001b[0m\u001b[1;33m:\u001b[0m\u001b[1;33m\u001b[0m\u001b[1;33m\u001b[0m\u001b[0m\n\u001b[0;32m   3760\u001b[0m             \u001b[1;32mif\u001b[0m \u001b[0mdrop_level\u001b[0m\u001b[1;33m:\u001b[0m\u001b[1;33m\u001b[0m\u001b[1;33m\u001b[0m\u001b[0m\n\u001b[1;32m-> 3761\u001b[1;33m                 \u001b[1;32mreturn\u001b[0m \u001b[0mself\u001b[0m\u001b[1;33m[\u001b[0m\u001b[0mkey\u001b[0m\u001b[1;33m]\u001b[0m\u001b[1;33m\u001b[0m\u001b[1;33m\u001b[0m\u001b[0m\n\u001b[0m\u001b[0;32m   3762\u001b[0m             \u001b[0mindex\u001b[0m \u001b[1;33m=\u001b[0m \u001b[0mself\u001b[0m\u001b[1;33m.\u001b[0m\u001b[0mcolumns\u001b[0m\u001b[1;33m\u001b[0m\u001b[1;33m\u001b[0m\u001b[0m\n\u001b[0;32m   3763\u001b[0m         \u001b[1;32melse\u001b[0m\u001b[1;33m:\u001b[0m\u001b[1;33m\u001b[0m\u001b[1;33m\u001b[0m\u001b[0m\n",
      "\u001b[1;32md:\\Anaconda\\lib\\site-packages\\pandas\\core\\frame.py\u001b[0m in \u001b[0;36m__getitem__\u001b[1;34m(self, key)\u001b[0m\n\u001b[0;32m   3456\u001b[0m             \u001b[1;32mif\u001b[0m \u001b[0mself\u001b[0m\u001b[1;33m.\u001b[0m\u001b[0mcolumns\u001b[0m\u001b[1;33m.\u001b[0m\u001b[0mnlevels\u001b[0m \u001b[1;33m>\u001b[0m \u001b[1;36m1\u001b[0m\u001b[1;33m:\u001b[0m\u001b[1;33m\u001b[0m\u001b[1;33m\u001b[0m\u001b[0m\n\u001b[0;32m   3457\u001b[0m                 \u001b[1;32mreturn\u001b[0m \u001b[0mself\u001b[0m\u001b[1;33m.\u001b[0m\u001b[0m_getitem_multilevel\u001b[0m\u001b[1;33m(\u001b[0m\u001b[0mkey\u001b[0m\u001b[1;33m)\u001b[0m\u001b[1;33m\u001b[0m\u001b[1;33m\u001b[0m\u001b[0m\n\u001b[1;32m-> 3458\u001b[1;33m             \u001b[0mindexer\u001b[0m \u001b[1;33m=\u001b[0m \u001b[0mself\u001b[0m\u001b[1;33m.\u001b[0m\u001b[0mcolumns\u001b[0m\u001b[1;33m.\u001b[0m\u001b[0mget_loc\u001b[0m\u001b[1;33m(\u001b[0m\u001b[0mkey\u001b[0m\u001b[1;33m)\u001b[0m\u001b[1;33m\u001b[0m\u001b[1;33m\u001b[0m\u001b[0m\n\u001b[0m\u001b[0;32m   3459\u001b[0m             \u001b[1;32mif\u001b[0m \u001b[0mis_integer\u001b[0m\u001b[1;33m(\u001b[0m\u001b[0mindexer\u001b[0m\u001b[1;33m)\u001b[0m\u001b[1;33m:\u001b[0m\u001b[1;33m\u001b[0m\u001b[1;33m\u001b[0m\u001b[0m\n\u001b[0;32m   3460\u001b[0m                 \u001b[0mindexer\u001b[0m \u001b[1;33m=\u001b[0m \u001b[1;33m[\u001b[0m\u001b[0mindexer\u001b[0m\u001b[1;33m]\u001b[0m\u001b[1;33m\u001b[0m\u001b[1;33m\u001b[0m\u001b[0m\n",
      "\u001b[1;32md:\\Anaconda\\lib\\site-packages\\pandas\\core\\indexes\\base.py\u001b[0m in \u001b[0;36mget_loc\u001b[1;34m(self, key, method, tolerance)\u001b[0m\n\u001b[0;32m   3361\u001b[0m                 \u001b[1;32mreturn\u001b[0m \u001b[0mself\u001b[0m\u001b[1;33m.\u001b[0m\u001b[0m_engine\u001b[0m\u001b[1;33m.\u001b[0m\u001b[0mget_loc\u001b[0m\u001b[1;33m(\u001b[0m\u001b[0mcasted_key\u001b[0m\u001b[1;33m)\u001b[0m\u001b[1;33m\u001b[0m\u001b[1;33m\u001b[0m\u001b[0m\n\u001b[0;32m   3362\u001b[0m             \u001b[1;32mexcept\u001b[0m \u001b[0mKeyError\u001b[0m \u001b[1;32mas\u001b[0m \u001b[0merr\u001b[0m\u001b[1;33m:\u001b[0m\u001b[1;33m\u001b[0m\u001b[1;33m\u001b[0m\u001b[0m\n\u001b[1;32m-> 3363\u001b[1;33m                 \u001b[1;32mraise\u001b[0m \u001b[0mKeyError\u001b[0m\u001b[1;33m(\u001b[0m\u001b[0mkey\u001b[0m\u001b[1;33m)\u001b[0m \u001b[1;32mfrom\u001b[0m \u001b[0merr\u001b[0m\u001b[1;33m\u001b[0m\u001b[1;33m\u001b[0m\u001b[0m\n\u001b[0m\u001b[0;32m   3364\u001b[0m \u001b[1;33m\u001b[0m\u001b[0m\n\u001b[0;32m   3365\u001b[0m         \u001b[1;32mif\u001b[0m \u001b[0mis_scalar\u001b[0m\u001b[1;33m(\u001b[0m\u001b[0mkey\u001b[0m\u001b[1;33m)\u001b[0m \u001b[1;32mand\u001b[0m \u001b[0misna\u001b[0m\u001b[1;33m(\u001b[0m\u001b[0mkey\u001b[0m\u001b[1;33m)\u001b[0m \u001b[1;32mand\u001b[0m \u001b[1;32mnot\u001b[0m \u001b[0mself\u001b[0m\u001b[1;33m.\u001b[0m\u001b[0mhasnans\u001b[0m\u001b[1;33m:\u001b[0m\u001b[1;33m\u001b[0m\u001b[1;33m\u001b[0m\u001b[0m\n",
      "\u001b[1;31mKeyError\u001b[0m: 'target'"
     ]
    }
   ],
   "source": [
    "target_manual = test.loc[:,'target'].to_list()\n",
    "\n",
    "contagem = []\n",
    "for i in range(len(lista_final)):\n",
    "    if target_manual[i] == lista_final[i]:\n",
    "        contagem.append('ACERTOU')\n",
    "    else:\n",
    "        erros = contagem.append('errou')\n",
    "\n",
    "acertos = contagem.count('ACERTOU')\n",
    "erros = contagem.count('errou')\n",
    "\n",
    "precisao_geral = acertos/(erros + acertos)\n",
    "\n",
    "verdadeiros_relevantes = 0\n",
    "falsos_relevantes = 0\n",
    "verdadeiros_irrelevantes = 0 \n",
    "falsos_irrelevantes = 0\n",
    "\n",
    "print(len(lista_final))\n",
    "for i in range(len(lista_final)):\n",
    "    if lista_final[i] == 1:\n",
    "        if test['Target'][i] == 1:\n",
    "            verdadeiros_relevantes += 1\n",
    "        elif test['Target'][i] == 0:\n",
    "            falsos_relevantes += 1\n",
    "    elif lista_final[i] == 0:\n",
    "        if test['Target'][i] == 0:\n",
    "            verdadeiros_irrelevantes += 1\n",
    "        elif test['Target'][i] == 1:\n",
    "            falsos_irrelevantes += 1\n",
    "\n",
    "Relativo_V_relevantes = verdadeiros_relevantes/(verdadeiros_relevantes + falsos_relevantes)\n",
    "Relativo_V_irrelevantes = verdadeiros_irrelevantes/(verdadeiros_irrelevantes + falsos_irrelevantes)\n",
    "Relativo_F_relevantes = falsos_relevantes/(verdadeiros_relevantes + falsos_relevantes)\n",
    "Relativo_F_irrelevantes = falsos_irrelevantes/(verdadeiros_irrelevantes + falsos_irrelevantes)\n",
    "\n",
    "print(f'a precisa geral é {precisao_geral}')\n",
    "print(f'Verdadeiros relevantes {Relativo_V_relevantes}')\n",
    "print(f'Falsos relevantes {Relativo_F_relevantes}')\n",
    "print(f'Verdadeiros irrelevantes {Relativo_V_irrelevantes}')\n",
    "print(f'Falsos irrelevantes {Relativo_F_irrelevantes}')  \n",
    "\n",
    "\n",
    "\n",
    "\n",
    "\n",
    "# algoritimo bom para identificar irrelevantes e quase tão bom quanto um cara ou coroa para identificar relevantes\n",
    "\n"
   ]
  },
  {
   "attachments": {},
   "cell_type": "markdown",
   "metadata": {},
   "source": [
    "___\n",
    "### Concluindo"
   ]
  },
  {
   "attachments": {},
   "cell_type": "markdown",
   "metadata": {},
   "source": [
    "O classificador Naive - Bayes com suavização de Lapalace desenvolvido neste projeto tem uma qualidade mediana, com uma precisão de 65% no geral ele se vira muito bem com reviews irrelevantes, mas com reviews relevantes um cara ou coroa e quase tão preciso como ele. Porém a espaço para melhora, mas nao podemos usar o proprio classificador para criar outra base de treinamento porque a imprecisão dele em algumas iterações iria se sabotar, ao classificar reviewsde maneira incorreta e usar a base de dados como correta, mesmo ela nao estando. \n",
    "\n",
    "Em sua forma atual esse classificador não consegue distinguir nem sarcasmo nem dupla negação. Para distinguir sarcasmo podeiramos analisar as reviews mais a fundo e encontrar indicios recorrentes, como certas frases (frases seriam um conjunto de palavras entre duas paontuações, ou entre o começo/final da review e uma pontuação) que normalmente estão em reviews de natureza sarcastica para conseguir calcular a probabilidade da review relevante, ser na verdade uma piada elaborada, e finalmente classifica-la como irrelevante. Ja para lidar com dupla negação deveriamos novamente analisar frase nas reviews e analisar quantas palavras de negação há nelas, podendo assim calcular a probabilidade de haver uma dupla negação que inverto o sentido da frase, faça isso para toda review e voce tem a probabilidade de uma frase que a principio parece irrelevante ser, na verdade, relevante.\n",
    "\n",
    "Além de todas as melhorias descritas acima, poderia-se realizar um trabalho de analise estatistica para indicar que palavras tem um impacto neutro na review, ou seja, nao faz a probabilidade da review ser negativa/positiva aumentar consideralvelmente, exemplos de palavras como essa seriam: que; a; e; o; ja; ele; ela. Outra melhoria que poderia ser feita é uma analise previa para garantir que a review é um texto, visto que na steam é muito comum pessoas fazerem artes do tipo ASCII em suar reviews, removendo as pontuações e caracteres especiais da review ou em casos extremos remove-la completamente da base de dados aumentaria significativamente a eficiencia e a acuracia do classificador."
   ]
  },
  {
   "cell_type": "code",
   "execution_count": null,
   "metadata": {},
   "outputs": [],
   "source": []
  },
  {
   "cell_type": "code",
   "execution_count": null,
   "metadata": {},
   "outputs": [],
   "source": []
  },
  {
   "cell_type": "code",
   "execution_count": null,
   "metadata": {},
   "outputs": [],
   "source": []
  },
  {
   "attachments": {},
   "cell_type": "markdown",
   "metadata": {},
   "source": [
    "___\n",
    "### Qualidade do Classificador a partir de novas separações dos tweets entre Treinamento e Teste\n",
    "\n",
    "Caso for fazer esse item do Projeto"
   ]
  },
  {
   "cell_type": "code",
   "execution_count": null,
   "metadata": {},
   "outputs": [],
   "source": []
  },
  {
   "cell_type": "code",
   "execution_count": null,
   "metadata": {},
   "outputs": [],
   "source": []
  },
  {
   "cell_type": "code",
   "execution_count": null,
   "metadata": {},
   "outputs": [],
   "source": []
  },
  {
   "attachments": {},
   "cell_type": "markdown",
   "metadata": {},
   "source": [
    "___\n",
    "## Aperfeiçoamento:\n",
    "\n",
    "Trabalhos que conseguirem pelo menos conceito B vão evoluir em conceito dependendo da quantidade de itens avançados:\n",
    "\n",
    "* IMPLEMENTOU outras limpezas e transformações que não afetem a qualidade da informação contida nos tweets. Ex: stemming, lemmatization, stopwords\n",
    "* CONSIDEROU mais de duas categorias na variável Target e INCREMENTOU a quantidade de notícias, mantendo pelo menos 250 notícias por categoria (OBRIGATÓRIO PARA TRIOS, sem contar como item avançado)\n",
    "* Para Target com duas categorias: CRIOU pelo menos quatro categorias intermediárias de relevância baseadas na probabilidade: ex.: muito relevante, relevante, neutro, irrelevante, muito irrelevante\n",
    "* EXPLICOU porquê não pode usar o próprio classificador para gerar mais amostras de treinamento\n",
    "* PROPÔS diferentes cenários para Naïve Bayes fora do contexto do projeto (pelo menos dois cenários, exceto aqueles já apresentados em sala pelos professores: por exemplo, filtro de spam)\n",
    "* SUGERIU e EXPLICOU melhorias reais com indicações concretas de como implementar (indicar como fazer e indicar material de pesquisa)\n",
    "* FEZ o item Qualidade do Classificador a partir de novas separações das Notícias entre Treinamento e Teste descrito no enunciado do projeto (OBRIGATÓRIO para conceitos A ou A+)"
   ]
  },
  {
   "attachments": {},
   "cell_type": "markdown",
   "metadata": {},
   "source": [
    "___\n",
    "## Referências"
   ]
  },
  {
   "attachments": {},
   "cell_type": "markdown",
   "metadata": {},
   "source": [
    "[Naive Bayes and Text Classification](https://arxiv.org/pdf/1410.5329.pdf)  **Mais completo**\n",
    "\n",
    "[A practical explanation of a Naive Bayes Classifier](https://monkeylearn.com/blog/practical-explanation-naive-bayes-classifier/) **Mais simples**"
   ]
  },
  {
   "cell_type": "code",
   "execution_count": null,
   "metadata": {},
   "outputs": [],
   "source": []
  }
 ],
 "metadata": {
  "kernelspec": {
   "display_name": "base",
   "language": "python",
   "name": "python3"
  },
  "language_info": {
   "codemirror_mode": {
    "name": "ipython",
    "version": 3
   },
   "file_extension": ".py",
   "mimetype": "text/x-python",
   "name": "python",
   "nbconvert_exporter": "python",
   "pygments_lexer": "ipython3",
   "version": "3.9.7"
  },
  "vscode": {
   "interpreter": {
    "hash": "88279d2366fe020547cde40dd65aa0e3aa662a6ec1f3ca12d88834876c85e1a6"
   }
  }
 },
 "nbformat": 4,
 "nbformat_minor": 4
}
